{
 "cells": [
  {
   "cell_type": "markdown",
   "id": "71e9b027-03e8-4f44-bb8e-98da04818354",
   "metadata": {},
   "source": [
    "# Model creation and accuracy caheck for the Design-1 data "
   ]
  },
  {
   "cell_type": "code",
   "execution_count": 45,
   "id": "2e2f310f-75f8-42fa-90f9-36d9ea9cd232",
   "metadata": {},
   "outputs": [],
   "source": [
    "import pandas as pd, numpy as np, matplotlib.pyplot as plt, seaborn as sns"
   ]
  },
  {
   "cell_type": "code",
   "execution_count": 27,
   "id": "59676a4a-982e-4ec9-b096-240b89ca4b53",
   "metadata": {},
   "outputs": [
    {
     "data": {
      "text/html": [
       "<div>\n",
       "<style scoped>\n",
       "    .dataframe tbody tr th:only-of-type {\n",
       "        vertical-align: middle;\n",
       "    }\n",
       "\n",
       "    .dataframe tbody tr th {\n",
       "        vertical-align: top;\n",
       "    }\n",
       "\n",
       "    .dataframe thead th {\n",
       "        text-align: right;\n",
       "    }\n",
       "</style>\n",
       "<table border=\"1\" class=\"dataframe\">\n",
       "  <thead>\n",
       "    <tr style=\"text-align: right;\">\n",
       "      <th></th>\n",
       "      <th>1</th>\n",
       "      <th>2</th>\n",
       "      <th>3</th>\n",
       "      <th>4</th>\n",
       "      <th>5</th>\n",
       "      <th>6</th>\n",
       "      <th>7</th>\n",
       "      <th>8</th>\n",
       "      <th>9</th>\n",
       "      <th>10</th>\n",
       "      <th>...</th>\n",
       "      <th>881</th>\n",
       "      <th>882</th>\n",
       "      <th>883</th>\n",
       "      <th>Design</th>\n",
       "      <th>Pad_Thickness</th>\n",
       "      <th>Pad_Height</th>\n",
       "      <th>Pad_Width</th>\n",
       "      <th>Pis_Radius</th>\n",
       "      <th>Youngs_Modulus</th>\n",
       "      <th>Applied_Pressure</th>\n",
       "    </tr>\n",
       "  </thead>\n",
       "  <tbody>\n",
       "    <tr>\n",
       "      <th>0</th>\n",
       "      <td>2.57188</td>\n",
       "      <td>2.30037</td>\n",
       "      <td>2.46050</td>\n",
       "      <td>2.65304</td>\n",
       "      <td>2.81205</td>\n",
       "      <td>2.75852</td>\n",
       "      <td>2.66240</td>\n",
       "      <td>2.46821</td>\n",
       "      <td>2.30057</td>\n",
       "      <td>2.56229</td>\n",
       "      <td>...</td>\n",
       "      <td>1.72637</td>\n",
       "      <td>1.72359</td>\n",
       "      <td>1.81010</td>\n",
       "      <td>Design_1</td>\n",
       "      <td>7.5</td>\n",
       "      <td>29.3</td>\n",
       "      <td>86.8</td>\n",
       "      <td>15</td>\n",
       "      <td>100</td>\n",
       "      <td>50.0</td>\n",
       "    </tr>\n",
       "    <tr>\n",
       "      <th>1</th>\n",
       "      <td>3.16330</td>\n",
       "      <td>2.76536</td>\n",
       "      <td>2.94005</td>\n",
       "      <td>3.17009</td>\n",
       "      <td>3.36315</td>\n",
       "      <td>3.29799</td>\n",
       "      <td>3.18142</td>\n",
       "      <td>2.94898</td>\n",
       "      <td>2.76447</td>\n",
       "      <td>3.15023</td>\n",
       "      <td>...</td>\n",
       "      <td>2.06827</td>\n",
       "      <td>2.06496</td>\n",
       "      <td>2.16817</td>\n",
       "      <td>Design_1</td>\n",
       "      <td>7.5</td>\n",
       "      <td>29.3</td>\n",
       "      <td>86.8</td>\n",
       "      <td>15</td>\n",
       "      <td>100</td>\n",
       "      <td>60.0</td>\n",
       "    </tr>\n",
       "    <tr>\n",
       "      <th>2</th>\n",
       "      <td>3.76559</td>\n",
       "      <td>3.22990</td>\n",
       "      <td>3.41703</td>\n",
       "      <td>3.68470</td>\n",
       "      <td>3.91224</td>\n",
       "      <td>3.83530</td>\n",
       "      <td>3.69804</td>\n",
       "      <td>3.42718</td>\n",
       "      <td>3.22778</td>\n",
       "      <td>3.74881</td>\n",
       "      <td>...</td>\n",
       "      <td>2.40960</td>\n",
       "      <td>2.40582</td>\n",
       "      <td>2.52562</td>\n",
       "      <td>Design_1</td>\n",
       "      <td>7.5</td>\n",
       "      <td>29.3</td>\n",
       "      <td>86.8</td>\n",
       "      <td>15</td>\n",
       "      <td>100</td>\n",
       "      <td>70.0</td>\n",
       "    </tr>\n",
       "    <tr>\n",
       "      <th>3</th>\n",
       "      <td>4.37665</td>\n",
       "      <td>3.69413</td>\n",
       "      <td>3.89217</td>\n",
       "      <td>4.19759</td>\n",
       "      <td>4.45998</td>\n",
       "      <td>4.37113</td>\n",
       "      <td>4.21299</td>\n",
       "      <td>3.90353</td>\n",
       "      <td>3.69071</td>\n",
       "      <td>4.35597</td>\n",
       "      <td>...</td>\n",
       "      <td>2.75046</td>\n",
       "      <td>2.74624</td>\n",
       "      <td>2.88259</td>\n",
       "      <td>Design_1</td>\n",
       "      <td>7.5</td>\n",
       "      <td>29.3</td>\n",
       "      <td>86.8</td>\n",
       "      <td>15</td>\n",
       "      <td>100</td>\n",
       "      <td>80.0</td>\n",
       "    </tr>\n",
       "    <tr>\n",
       "      <th>4</th>\n",
       "      <td>4.99506</td>\n",
       "      <td>4.15829</td>\n",
       "      <td>4.36606</td>\n",
       "      <td>4.70939</td>\n",
       "      <td>5.00690</td>\n",
       "      <td>4.90605</td>\n",
       "      <td>4.72688</td>\n",
       "      <td>4.37863</td>\n",
       "      <td>4.15347</td>\n",
       "      <td>4.97035</td>\n",
       "      <td>...</td>\n",
       "      <td>3.09081</td>\n",
       "      <td>3.08615</td>\n",
       "      <td>3.23906</td>\n",
       "      <td>Design_1</td>\n",
       "      <td>7.5</td>\n",
       "      <td>29.3</td>\n",
       "      <td>86.8</td>\n",
       "      <td>15</td>\n",
       "      <td>100</td>\n",
       "      <td>90.0</td>\n",
       "    </tr>\n",
       "  </tbody>\n",
       "</table>\n",
       "<p>5 rows × 890 columns</p>\n",
       "</div>"
      ],
      "text/plain": [
       "         1        2        3        4        5        6        7        8  \\\n",
       "0  2.57188  2.30037  2.46050  2.65304  2.81205  2.75852  2.66240  2.46821   \n",
       "1  3.16330  2.76536  2.94005  3.17009  3.36315  3.29799  3.18142  2.94898   \n",
       "2  3.76559  3.22990  3.41703  3.68470  3.91224  3.83530  3.69804  3.42718   \n",
       "3  4.37665  3.69413  3.89217  4.19759  4.45998  4.37113  4.21299  3.90353   \n",
       "4  4.99506  4.15829  4.36606  4.70939  5.00690  4.90605  4.72688  4.37863   \n",
       "\n",
       "         9       10  ...      881      882      883    Design  Pad_Thickness  \\\n",
       "0  2.30057  2.56229  ...  1.72637  1.72359  1.81010  Design_1            7.5   \n",
       "1  2.76447  3.15023  ...  2.06827  2.06496  2.16817  Design_1            7.5   \n",
       "2  3.22778  3.74881  ...  2.40960  2.40582  2.52562  Design_1            7.5   \n",
       "3  3.69071  4.35597  ...  2.75046  2.74624  2.88259  Design_1            7.5   \n",
       "4  4.15347  4.97035  ...  3.09081  3.08615  3.23906  Design_1            7.5   \n",
       "\n",
       "   Pad_Height  Pad_Width  Pis_Radius  Youngs_Modulus  Applied_Pressure  \n",
       "0        29.3       86.8          15             100              50.0  \n",
       "1        29.3       86.8          15             100              60.0  \n",
       "2        29.3       86.8          15             100              70.0  \n",
       "3        29.3       86.8          15             100              80.0  \n",
       "4        29.3       86.8          15             100              90.0  \n",
       "\n",
       "[5 rows x 890 columns]"
      ]
     },
     "execution_count": 27,
     "metadata": {},
     "output_type": "execute_result"
    }
   ],
   "source": [
    "df = pd . read_csv((\"D:\\BreakPads_ML\\Raw_Input_Data\\Design1.csv\"))\n",
    "df = df.drop(columns = [\"Unnamed: 0.1\",\"Unnamed: 0\"])\n",
    "df[\"Youngs_Modulus\"]=df[\"Youngs_Modulus\"]*100\n",
    "df.head()   "
   ]
  },
  {
   "cell_type": "code",
   "execution_count": 28,
   "id": "70578dab-65c6-4b68-a1eb-4f17030d1982",
   "metadata": {},
   "outputs": [
    {
     "data": {
      "text/plain": [
       "Index(['1', '2', '3', '4', '5', '6', '7', '8', '9', '10',\n",
       "       ...\n",
       "       '881', '882', '883', 'Design', 'Pad_Thickness', 'Pad_Height',\n",
       "       'Pad_Width', 'Pis_Radius', 'Youngs_Modulus', 'Applied_Pressure'],\n",
       "      dtype='object', length=890)"
      ]
     },
     "execution_count": 28,
     "metadata": {},
     "output_type": "execute_result"
    }
   ],
   "source": [
    "df.columns"
   ]
  },
  {
   "cell_type": "code",
   "execution_count": 29,
   "id": "ca41b3b7-c257-4da2-9919-69e92aed71dd",
   "metadata": {},
   "outputs": [
    {
     "name": "stdout",
     "output_type": "stream",
     "text": [
      "Pad_Thickness       float64\n",
      "Pad_Height          float64\n",
      "Pad_Width           float64\n",
      "Pis_Radius            int64\n",
      "Youngs_Modulus        int64\n",
      "Applied_Pressure    float64\n",
      "dtype: object\n"
     ]
    },
    {
     "data": {
      "text/html": [
       "<div>\n",
       "<style scoped>\n",
       "    .dataframe tbody tr th:only-of-type {\n",
       "        vertical-align: middle;\n",
       "    }\n",
       "\n",
       "    .dataframe tbody tr th {\n",
       "        vertical-align: top;\n",
       "    }\n",
       "\n",
       "    .dataframe thead th {\n",
       "        text-align: right;\n",
       "    }\n",
       "</style>\n",
       "<table border=\"1\" class=\"dataframe\">\n",
       "  <thead>\n",
       "    <tr style=\"text-align: right;\">\n",
       "      <th></th>\n",
       "      <th>Pad_Thickness</th>\n",
       "      <th>Pad_Height</th>\n",
       "      <th>Pad_Width</th>\n",
       "      <th>Pis_Radius</th>\n",
       "      <th>Youngs_Modulus</th>\n",
       "      <th>Applied_Pressure</th>\n",
       "    </tr>\n",
       "  </thead>\n",
       "  <tbody>\n",
       "    <tr>\n",
       "      <th>0</th>\n",
       "      <td>7.5</td>\n",
       "      <td>29.3</td>\n",
       "      <td>86.8</td>\n",
       "      <td>15</td>\n",
       "      <td>100</td>\n",
       "      <td>50.0</td>\n",
       "    </tr>\n",
       "    <tr>\n",
       "      <th>1</th>\n",
       "      <td>7.5</td>\n",
       "      <td>29.3</td>\n",
       "      <td>86.8</td>\n",
       "      <td>15</td>\n",
       "      <td>100</td>\n",
       "      <td>60.0</td>\n",
       "    </tr>\n",
       "    <tr>\n",
       "      <th>2</th>\n",
       "      <td>7.5</td>\n",
       "      <td>29.3</td>\n",
       "      <td>86.8</td>\n",
       "      <td>15</td>\n",
       "      <td>100</td>\n",
       "      <td>70.0</td>\n",
       "    </tr>\n",
       "    <tr>\n",
       "      <th>3</th>\n",
       "      <td>7.5</td>\n",
       "      <td>29.3</td>\n",
       "      <td>86.8</td>\n",
       "      <td>15</td>\n",
       "      <td>100</td>\n",
       "      <td>80.0</td>\n",
       "    </tr>\n",
       "    <tr>\n",
       "      <th>4</th>\n",
       "      <td>7.5</td>\n",
       "      <td>29.3</td>\n",
       "      <td>86.8</td>\n",
       "      <td>15</td>\n",
       "      <td>100</td>\n",
       "      <td>90.0</td>\n",
       "    </tr>\n",
       "    <tr>\n",
       "      <th>5</th>\n",
       "      <td>7.5</td>\n",
       "      <td>29.3</td>\n",
       "      <td>86.8</td>\n",
       "      <td>15</td>\n",
       "      <td>100</td>\n",
       "      <td>100.0</td>\n",
       "    </tr>\n",
       "    <tr>\n",
       "      <th>6</th>\n",
       "      <td>7.5</td>\n",
       "      <td>29.3</td>\n",
       "      <td>86.8</td>\n",
       "      <td>15</td>\n",
       "      <td>200</td>\n",
       "      <td>50.0</td>\n",
       "    </tr>\n",
       "    <tr>\n",
       "      <th>7</th>\n",
       "      <td>7.5</td>\n",
       "      <td>29.3</td>\n",
       "      <td>86.8</td>\n",
       "      <td>15</td>\n",
       "      <td>200</td>\n",
       "      <td>60.0</td>\n",
       "    </tr>\n",
       "    <tr>\n",
       "      <th>8</th>\n",
       "      <td>7.5</td>\n",
       "      <td>29.3</td>\n",
       "      <td>86.8</td>\n",
       "      <td>15</td>\n",
       "      <td>200</td>\n",
       "      <td>70.0</td>\n",
       "    </tr>\n",
       "    <tr>\n",
       "      <th>9</th>\n",
       "      <td>7.5</td>\n",
       "      <td>29.3</td>\n",
       "      <td>86.8</td>\n",
       "      <td>15</td>\n",
       "      <td>200</td>\n",
       "      <td>80.0</td>\n",
       "    </tr>\n",
       "    <tr>\n",
       "      <th>10</th>\n",
       "      <td>7.5</td>\n",
       "      <td>29.3</td>\n",
       "      <td>86.8</td>\n",
       "      <td>15</td>\n",
       "      <td>200</td>\n",
       "      <td>90.0</td>\n",
       "    </tr>\n",
       "    <tr>\n",
       "      <th>11</th>\n",
       "      <td>7.5</td>\n",
       "      <td>29.3</td>\n",
       "      <td>86.8</td>\n",
       "      <td>15</td>\n",
       "      <td>200</td>\n",
       "      <td>100.0</td>\n",
       "    </tr>\n",
       "  </tbody>\n",
       "</table>\n",
       "</div>"
      ],
      "text/plain": [
       "    Pad_Thickness  Pad_Height  Pad_Width  Pis_Radius  Youngs_Modulus  \\\n",
       "0             7.5        29.3       86.8          15             100   \n",
       "1             7.5        29.3       86.8          15             100   \n",
       "2             7.5        29.3       86.8          15             100   \n",
       "3             7.5        29.3       86.8          15             100   \n",
       "4             7.5        29.3       86.8          15             100   \n",
       "5             7.5        29.3       86.8          15             100   \n",
       "6             7.5        29.3       86.8          15             200   \n",
       "7             7.5        29.3       86.8          15             200   \n",
       "8             7.5        29.3       86.8          15             200   \n",
       "9             7.5        29.3       86.8          15             200   \n",
       "10            7.5        29.3       86.8          15             200   \n",
       "11            7.5        29.3       86.8          15             200   \n",
       "\n",
       "    Applied_Pressure  \n",
       "0               50.0  \n",
       "1               60.0  \n",
       "2               70.0  \n",
       "3               80.0  \n",
       "4               90.0  \n",
       "5              100.0  \n",
       "6               50.0  \n",
       "7               60.0  \n",
       "8               70.0  \n",
       "9               80.0  \n",
       "10              90.0  \n",
       "11             100.0  "
      ]
     },
     "execution_count": 29,
     "metadata": {},
     "output_type": "execute_result"
    }
   ],
   "source": [
    "x_features = df.iloc[:,884:]\n",
    "print(x_features.dtypes)\n",
    "x_features.head(12)"
   ]
  },
  {
   "cell_type": "code",
   "execution_count": 30,
   "id": "1398b1a5-edc0-46e9-8754-5e1fa256258b",
   "metadata": {},
   "outputs": [
    {
     "name": "stdout",
     "output_type": "stream",
     "text": [
      "float64    883\n",
      "dtype: int64\n"
     ]
    },
    {
     "data": {
      "text/html": [
       "<div>\n",
       "<style scoped>\n",
       "    .dataframe tbody tr th:only-of-type {\n",
       "        vertical-align: middle;\n",
       "    }\n",
       "\n",
       "    .dataframe tbody tr th {\n",
       "        vertical-align: top;\n",
       "    }\n",
       "\n",
       "    .dataframe thead th {\n",
       "        text-align: right;\n",
       "    }\n",
       "</style>\n",
       "<table border=\"1\" class=\"dataframe\">\n",
       "  <thead>\n",
       "    <tr style=\"text-align: right;\">\n",
       "      <th></th>\n",
       "      <th>1</th>\n",
       "      <th>2</th>\n",
       "      <th>3</th>\n",
       "      <th>4</th>\n",
       "      <th>5</th>\n",
       "      <th>6</th>\n",
       "      <th>7</th>\n",
       "      <th>8</th>\n",
       "      <th>9</th>\n",
       "      <th>10</th>\n",
       "      <th>...</th>\n",
       "      <th>874</th>\n",
       "      <th>875</th>\n",
       "      <th>876</th>\n",
       "      <th>877</th>\n",
       "      <th>878</th>\n",
       "      <th>879</th>\n",
       "      <th>880</th>\n",
       "      <th>881</th>\n",
       "      <th>882</th>\n",
       "      <th>883</th>\n",
       "    </tr>\n",
       "  </thead>\n",
       "  <tbody>\n",
       "    <tr>\n",
       "      <th>0</th>\n",
       "      <td>2.57188</td>\n",
       "      <td>2.30037</td>\n",
       "      <td>2.46050</td>\n",
       "      <td>2.65304</td>\n",
       "      <td>2.81205</td>\n",
       "      <td>2.75852</td>\n",
       "      <td>2.66240</td>\n",
       "      <td>2.46821</td>\n",
       "      <td>2.30057</td>\n",
       "      <td>2.56229</td>\n",
       "      <td>...</td>\n",
       "      <td>1.50749</td>\n",
       "      <td>2.73289</td>\n",
       "      <td>2.79201</td>\n",
       "      <td>2.81998</td>\n",
       "      <td>2.84751</td>\n",
       "      <td>1.68822</td>\n",
       "      <td>1.71832</td>\n",
       "      <td>1.72637</td>\n",
       "      <td>1.72359</td>\n",
       "      <td>1.81010</td>\n",
       "    </tr>\n",
       "    <tr>\n",
       "      <th>1</th>\n",
       "      <td>3.16330</td>\n",
       "      <td>2.76536</td>\n",
       "      <td>2.94005</td>\n",
       "      <td>3.17009</td>\n",
       "      <td>3.36315</td>\n",
       "      <td>3.29799</td>\n",
       "      <td>3.18142</td>\n",
       "      <td>2.94898</td>\n",
       "      <td>2.76447</td>\n",
       "      <td>3.15023</td>\n",
       "      <td>...</td>\n",
       "      <td>1.80557</td>\n",
       "      <td>3.26674</td>\n",
       "      <td>3.33872</td>\n",
       "      <td>3.37299</td>\n",
       "      <td>3.40595</td>\n",
       "      <td>2.02178</td>\n",
       "      <td>2.05845</td>\n",
       "      <td>2.06827</td>\n",
       "      <td>2.06496</td>\n",
       "      <td>2.16817</td>\n",
       "    </tr>\n",
       "    <tr>\n",
       "      <th>2</th>\n",
       "      <td>3.76559</td>\n",
       "      <td>3.22990</td>\n",
       "      <td>3.41703</td>\n",
       "      <td>3.68470</td>\n",
       "      <td>3.91224</td>\n",
       "      <td>3.83530</td>\n",
       "      <td>3.69804</td>\n",
       "      <td>3.42718</td>\n",
       "      <td>3.22778</td>\n",
       "      <td>3.74881</td>\n",
       "      <td>...</td>\n",
       "      <td>2.10329</td>\n",
       "      <td>3.79833</td>\n",
       "      <td>3.88338</td>\n",
       "      <td>3.92407</td>\n",
       "      <td>3.96245</td>\n",
       "      <td>2.35454</td>\n",
       "      <td>2.39795</td>\n",
       "      <td>2.40960</td>\n",
       "      <td>2.40582</td>\n",
       "      <td>2.52562</td>\n",
       "    </tr>\n",
       "    <tr>\n",
       "      <th>3</th>\n",
       "      <td>4.37665</td>\n",
       "      <td>3.69413</td>\n",
       "      <td>3.89217</td>\n",
       "      <td>4.19759</td>\n",
       "      <td>4.45998</td>\n",
       "      <td>4.37113</td>\n",
       "      <td>4.21299</td>\n",
       "      <td>3.90353</td>\n",
       "      <td>3.69071</td>\n",
       "      <td>4.35597</td>\n",
       "      <td>...</td>\n",
       "      <td>2.40061</td>\n",
       "      <td>4.32837</td>\n",
       "      <td>4.42663</td>\n",
       "      <td>4.47384</td>\n",
       "      <td>4.51763</td>\n",
       "      <td>2.68667</td>\n",
       "      <td>2.73693</td>\n",
       "      <td>2.75046</td>\n",
       "      <td>2.74624</td>\n",
       "      <td>2.88259</td>\n",
       "    </tr>\n",
       "    <tr>\n",
       "      <th>4</th>\n",
       "      <td>4.99506</td>\n",
       "      <td>4.15829</td>\n",
       "      <td>4.36606</td>\n",
       "      <td>4.70939</td>\n",
       "      <td>5.00690</td>\n",
       "      <td>4.90605</td>\n",
       "      <td>4.72688</td>\n",
       "      <td>4.37863</td>\n",
       "      <td>4.15347</td>\n",
       "      <td>4.97035</td>\n",
       "      <td>...</td>\n",
       "      <td>2.69747</td>\n",
       "      <td>4.85745</td>\n",
       "      <td>4.96905</td>\n",
       "      <td>5.02284</td>\n",
       "      <td>5.07203</td>\n",
       "      <td>3.01819</td>\n",
       "      <td>3.07538</td>\n",
       "      <td>3.09081</td>\n",
       "      <td>3.08615</td>\n",
       "      <td>3.23906</td>\n",
       "    </tr>\n",
       "    <tr>\n",
       "      <th>5</th>\n",
       "      <td>5.61985</td>\n",
       "      <td>4.62255</td>\n",
       "      <td>4.83915</td>\n",
       "      <td>5.22057</td>\n",
       "      <td>5.55343</td>\n",
       "      <td>5.44051</td>\n",
       "      <td>5.24016</td>\n",
       "      <td>4.85294</td>\n",
       "      <td>4.61629</td>\n",
       "      <td>5.59098</td>\n",
       "      <td>...</td>\n",
       "      <td>2.99385</td>\n",
       "      <td>5.38601</td>\n",
       "      <td>5.51105</td>\n",
       "      <td>5.57149</td>\n",
       "      <td>5.62607</td>\n",
       "      <td>3.34911</td>\n",
       "      <td>3.41328</td>\n",
       "      <td>3.43062</td>\n",
       "      <td>3.42558</td>\n",
       "      <td>3.59505</td>\n",
       "    </tr>\n",
       "    <tr>\n",
       "      <th>6</th>\n",
       "      <td>2.65202</td>\n",
       "      <td>2.54718</td>\n",
       "      <td>2.76803</td>\n",
       "      <td>2.97825</td>\n",
       "      <td>3.13486</td>\n",
       "      <td>3.08425</td>\n",
       "      <td>2.98815</td>\n",
       "      <td>2.77764</td>\n",
       "      <td>2.55089</td>\n",
       "      <td>2.64618</td>\n",
       "      <td>...</td>\n",
       "      <td>1.35103</td>\n",
       "      <td>3.05956</td>\n",
       "      <td>3.11661</td>\n",
       "      <td>3.14130</td>\n",
       "      <td>3.16747</td>\n",
       "      <td>1.58752</td>\n",
       "      <td>1.62168</td>\n",
       "      <td>1.63136</td>\n",
       "      <td>1.62869</td>\n",
       "      <td>1.74575</td>\n",
       "    </tr>\n",
       "    <tr>\n",
       "      <th>7</th>\n",
       "      <td>3.25967</td>\n",
       "      <td>3.06382</td>\n",
       "      <td>3.30984</td>\n",
       "      <td>3.56011</td>\n",
       "      <td>3.74927</td>\n",
       "      <td>3.68794</td>\n",
       "      <td>3.57195</td>\n",
       "      <td>3.32090</td>\n",
       "      <td>3.06698</td>\n",
       "      <td>3.25105</td>\n",
       "      <td>...</td>\n",
       "      <td>1.62127</td>\n",
       "      <td>3.65805</td>\n",
       "      <td>3.72715</td>\n",
       "      <td>3.75722</td>\n",
       "      <td>3.78834</td>\n",
       "      <td>1.90539</td>\n",
       "      <td>1.94637</td>\n",
       "      <td>1.95785</td>\n",
       "      <td>1.95445</td>\n",
       "      <td>2.09389</td>\n",
       "    </tr>\n",
       "    <tr>\n",
       "      <th>8</th>\n",
       "      <td>3.88157</td>\n",
       "      <td>3.58048</td>\n",
       "      <td>3.84839</td>\n",
       "      <td>4.13858</td>\n",
       "      <td>4.36081</td>\n",
       "      <td>4.28855</td>\n",
       "      <td>4.15239</td>\n",
       "      <td>3.86086</td>\n",
       "      <td>3.58289</td>\n",
       "      <td>3.86988</td>\n",
       "      <td>...</td>\n",
       "      <td>1.89178</td>\n",
       "      <td>4.25334</td>\n",
       "      <td>4.33472</td>\n",
       "      <td>4.37033</td>\n",
       "      <td>4.40642</td>\n",
       "      <td>2.22282</td>\n",
       "      <td>2.27077</td>\n",
       "      <td>2.28409</td>\n",
       "      <td>2.28002</td>\n",
       "      <td>2.44158</td>\n",
       "    </tr>\n",
       "    <tr>\n",
       "      <th>9</th>\n",
       "      <td>4.51531</td>\n",
       "      <td>4.09698</td>\n",
       "      <td>4.38413</td>\n",
       "      <td>4.71420</td>\n",
       "      <td>4.96994</td>\n",
       "      <td>4.88658</td>\n",
       "      <td>4.73002</td>\n",
       "      <td>4.39798</td>\n",
       "      <td>4.09846</td>\n",
       "      <td>4.50030</td>\n",
       "      <td>...</td>\n",
       "      <td>2.16244</td>\n",
       "      <td>4.84595</td>\n",
       "      <td>4.93981</td>\n",
       "      <td>4.98110</td>\n",
       "      <td>5.02215</td>\n",
       "      <td>2.53978</td>\n",
       "      <td>2.59480</td>\n",
       "      <td>2.61000</td>\n",
       "      <td>2.60530</td>\n",
       "      <td>2.78878</td>\n",
       "    </tr>\n",
       "    <tr>\n",
       "      <th>10</th>\n",
       "      <td>5.15897</td>\n",
       "      <td>4.61315</td>\n",
       "      <td>4.91740</td>\n",
       "      <td>5.28733</td>\n",
       "      <td>5.57695</td>\n",
       "      <td>5.48236</td>\n",
       "      <td>5.30519</td>\n",
       "      <td>4.93261</td>\n",
       "      <td>4.61358</td>\n",
       "      <td>5.14041</td>\n",
       "      <td>...</td>\n",
       "      <td>2.43328</td>\n",
       "      <td>5.43623</td>\n",
       "      <td>5.54272</td>\n",
       "      <td>5.58981</td>\n",
       "      <td>5.63582</td>\n",
       "      <td>2.85629</td>\n",
       "      <td>2.91849</td>\n",
       "      <td>2.93563</td>\n",
       "      <td>2.93035</td>\n",
       "      <td>3.13557</td>\n",
       "    </tr>\n",
       "    <tr>\n",
       "      <th>11</th>\n",
       "      <td>5.81099</td>\n",
       "      <td>5.12890</td>\n",
       "      <td>5.44847</td>\n",
       "      <td>5.85829</td>\n",
       "      <td>6.18212</td>\n",
       "      <td>6.07617</td>\n",
       "      <td>5.87822</td>\n",
       "      <td>5.46503</td>\n",
       "      <td>5.12817</td>\n",
       "      <td>5.78872</td>\n",
       "      <td>...</td>\n",
       "      <td>2.70436</td>\n",
       "      <td>6.02446</td>\n",
       "      <td>6.14373</td>\n",
       "      <td>6.19671</td>\n",
       "      <td>6.24768</td>\n",
       "      <td>3.17233</td>\n",
       "      <td>3.24181</td>\n",
       "      <td>3.26095</td>\n",
       "      <td>3.25513</td>\n",
       "      <td>3.48193</td>\n",
       "    </tr>\n",
       "  </tbody>\n",
       "</table>\n",
       "<p>12 rows × 883 columns</p>\n",
       "</div>"
      ],
      "text/plain": [
       "          1        2        3        4        5        6        7        8  \\\n",
       "0   2.57188  2.30037  2.46050  2.65304  2.81205  2.75852  2.66240  2.46821   \n",
       "1   3.16330  2.76536  2.94005  3.17009  3.36315  3.29799  3.18142  2.94898   \n",
       "2   3.76559  3.22990  3.41703  3.68470  3.91224  3.83530  3.69804  3.42718   \n",
       "3   4.37665  3.69413  3.89217  4.19759  4.45998  4.37113  4.21299  3.90353   \n",
       "4   4.99506  4.15829  4.36606  4.70939  5.00690  4.90605  4.72688  4.37863   \n",
       "5   5.61985  4.62255  4.83915  5.22057  5.55343  5.44051  5.24016  4.85294   \n",
       "6   2.65202  2.54718  2.76803  2.97825  3.13486  3.08425  2.98815  2.77764   \n",
       "7   3.25967  3.06382  3.30984  3.56011  3.74927  3.68794  3.57195  3.32090   \n",
       "8   3.88157  3.58048  3.84839  4.13858  4.36081  4.28855  4.15239  3.86086   \n",
       "9   4.51531  4.09698  4.38413  4.71420  4.96994  4.88658  4.73002  4.39798   \n",
       "10  5.15897  4.61315  4.91740  5.28733  5.57695  5.48236  5.30519  4.93261   \n",
       "11  5.81099  5.12890  5.44847  5.85829  6.18212  6.07617  5.87822  5.46503   \n",
       "\n",
       "          9       10  ...      874      875      876      877      878  \\\n",
       "0   2.30057  2.56229  ...  1.50749  2.73289  2.79201  2.81998  2.84751   \n",
       "1   2.76447  3.15023  ...  1.80557  3.26674  3.33872  3.37299  3.40595   \n",
       "2   3.22778  3.74881  ...  2.10329  3.79833  3.88338  3.92407  3.96245   \n",
       "3   3.69071  4.35597  ...  2.40061  4.32837  4.42663  4.47384  4.51763   \n",
       "4   4.15347  4.97035  ...  2.69747  4.85745  4.96905  5.02284  5.07203   \n",
       "5   4.61629  5.59098  ...  2.99385  5.38601  5.51105  5.57149  5.62607   \n",
       "6   2.55089  2.64618  ...  1.35103  3.05956  3.11661  3.14130  3.16747   \n",
       "7   3.06698  3.25105  ...  1.62127  3.65805  3.72715  3.75722  3.78834   \n",
       "8   3.58289  3.86988  ...  1.89178  4.25334  4.33472  4.37033  4.40642   \n",
       "9   4.09846  4.50030  ...  2.16244  4.84595  4.93981  4.98110  5.02215   \n",
       "10  4.61358  5.14041  ...  2.43328  5.43623  5.54272  5.58981  5.63582   \n",
       "11  5.12817  5.78872  ...  2.70436  6.02446  6.14373  6.19671  6.24768   \n",
       "\n",
       "        879      880      881      882      883  \n",
       "0   1.68822  1.71832  1.72637  1.72359  1.81010  \n",
       "1   2.02178  2.05845  2.06827  2.06496  2.16817  \n",
       "2   2.35454  2.39795  2.40960  2.40582  2.52562  \n",
       "3   2.68667  2.73693  2.75046  2.74624  2.88259  \n",
       "4   3.01819  3.07538  3.09081  3.08615  3.23906  \n",
       "5   3.34911  3.41328  3.43062  3.42558  3.59505  \n",
       "6   1.58752  1.62168  1.63136  1.62869  1.74575  \n",
       "7   1.90539  1.94637  1.95785  1.95445  2.09389  \n",
       "8   2.22282  2.27077  2.28409  2.28002  2.44158  \n",
       "9   2.53978  2.59480  2.61000  2.60530  2.78878  \n",
       "10  2.85629  2.91849  2.93563  2.93035  3.13557  \n",
       "11  3.17233  3.24181  3.26095  3.25513  3.48193  \n",
       "\n",
       "[12 rows x 883 columns]"
      ]
     },
     "execution_count": 30,
     "metadata": {},
     "output_type": "execute_result"
    }
   ],
   "source": [
    "y_targets = df.iloc[:,:883]\n",
    "print(y_targets.dtypes.value_counts())\n",
    "y_targets.head(12)"
   ]
  },
  {
   "cell_type": "code",
   "execution_count": 31,
   "id": "c073d499-3182-466f-8abd-d65d66964eba",
   "metadata": {},
   "outputs": [
    {
     "name": "stdout",
     "output_type": "stream",
     "text": [
      "(150, 6) (150, 883)\n"
     ]
    }
   ],
   "source": [
    "print(x_features.shape,y_targets.shape)"
   ]
  },
  {
   "cell_type": "markdown",
   "id": "7c8fde8f-ce14-4602-843f-6638a57c9e4a",
   "metadata": {},
   "source": [
    "## Model Building with mutiple target"
   ]
  },
  {
   "cell_type": "markdown",
   "id": "cce8dee1-0f6c-48e2-9d83-709cf407d066",
   "metadata": {
    "tags": []
   },
   "source": [
    "## Multi Output Regressor "
   ]
  },
  {
   "cell_type": "code",
   "execution_count": 42,
   "id": "fc4469cb-84d9-44de-b488-0122c4adbde1",
   "metadata": {},
   "outputs": [],
   "source": [
    "from sklearn.model_selection import train_test_split\n",
    "from sklearn.multioutput import MultiOutputRegressor\n",
    "from sklearn.linear_model import LinearRegression\n",
    "from sklearn.linear_model import RidgeCV\n",
    "from sklearn.model_selection import KFold\n",
    "from sklearn import metrics"
   ]
  },
  {
   "cell_type": "code",
   "execution_count": 33,
   "id": "582d7241-88c4-451c-af24-7be06d95cc61",
   "metadata": {},
   "outputs": [],
   "source": [
    "x_test, x_train, y_test, y_train = train_test_split(x_features, y_targets, test_size = 0.33, random_state = 50)"
   ]
  },
  {
   "cell_type": "code",
   "execution_count": 38,
   "id": "badf29ea-f97a-4336-95ad-06c28b1701ad",
   "metadata": {},
   "outputs": [],
   "source": [
    "Kfold_val = KFold(n_splits=10, shuffle=True, random_state=50)"
   ]
  },
  {
   "cell_type": "code",
   "execution_count": 39,
   "id": "67a158d3-690f-4479-9cc8-e9849853fbc5",
   "metadata": {
    "tags": []
   },
   "outputs": [],
   "source": [
    "Model_1 = MultiOutputRegressor ( RidgeCV ( cv = Kfold_val ) )"
   ]
  },
  {
   "cell_type": "code",
   "execution_count": 40,
   "id": "bf40dc3b-c453-4170-bdaf-cc5e205f9701",
   "metadata": {},
   "outputs": [
    {
     "name": "stdout",
     "output_type": "stream",
     "text": [
      "Model_1 train score =  0.850587427449724\n",
      "Model_1 test score =  0.7726530872744862\n"
     ]
    }
   ],
   "source": [
    "Model_1.fit(x_train, y_train)\n",
    "print('Model_1 train score = ', Model_1.score(x_train, y_train))\n",
    "print('Model_1 test score = ', Model_1.score(x_test, y_test))"
   ]
  },
  {
   "cell_type": "markdown",
   "id": "f739b6c2-8695-4074-a4fe-815e6241224c",
   "metadata": {},
   "source": [
    "### 1. Linear Regressor"
   ]
  },
  {
   "cell_type": "code",
   "execution_count": 41,
   "id": "2b967f90-8c37-4f1f-a7db-7b73d633fb5a",
   "metadata": {},
   "outputs": [
    {
     "name": "stdout",
     "output_type": "stream",
     "text": [
      "Model_2 train score =  0.858801319505813\n",
      "Model_2 test score =  0.7778691996624865\n"
     ]
    }
   ],
   "source": [
    "Model_2 = LinearRegression().fit(x_train, y_train)\n",
    "print('Model_2 train score = ', Model_2.score(x_train, y_train))\n",
    "print('Model_2 test score = ', Model_2.score(x_test, y_test)) "
   ]
  },
  {
   "cell_type": "code",
   "execution_count": 64,
   "id": "8f4cbc00-7db9-45ed-949d-be0a68276f07",
   "metadata": {},
   "outputs": [
    {
     "data": {
      "text/plain": [
       "0.09438833964286178"
      ]
     },
     "execution_count": 64,
     "metadata": {},
     "output_type": "execute_result"
    }
   ],
   "source": [
    "y_predts_M2 = pd.DataFrame(Model_2.predict(x_test))\n",
    "metrics.mean_squared_error(y_test, y_predts_M2)"
   ]
  },
  {
   "cell_type": "code",
   "execution_count": 74,
   "id": "61d451d9-8930-43b8-8f7e-62bdb0b931c0",
   "metadata": {},
   "outputs": [
    {
     "data": {
      "text/plain": [
       "[<matplotlib.lines.Line2D at 0x1d9cd2ab5b0>]"
      ]
     },
     "execution_count": 74,
     "metadata": {},
     "output_type": "execute_result"
    },
    {
     "data": {
      "image/png": "[encoded data removed]",
      "text/plain": [
       "<Figure size 432x288 with 1 Axes>"
      ]
     },
     "metadata": {
      "needs_background": "light"
     },
     "output_type": "display_data"
    }
   ],
   "source": [
    "plt.scatter(y_test.iloc[:,1], y_predts_M2.iloc[:,1])\n",
    "plt.plot(range(10), range(10))"
   ]
  },
  {
   "cell_type": "markdown",
   "id": "468a5fed-d376-47f5-9330-3fec4ec55e39",
   "metadata": {},
   "source": [
    "### 2. Decision Tree Regressor"
   ]
  },
  {
   "cell_type": "code",
   "execution_count": 97,
   "id": "6eb77d65-8072-46fd-8339-898d1e66d177",
   "metadata": {},
   "outputs": [],
   "source": [
    "from sklearn.tree import DecisionTreeRegressor\n",
    "from sklearn import tree"
   ]
  },
  {
   "cell_type": "code",
   "execution_count": 93,
   "id": "813b9ddc-829e-43de-8911-ec1038e2a42d",
   "metadata": {},
   "outputs": [
    {
     "data": {
      "text/plain": [
       "DecisionTreeRegressor(max_depth=8)"
      ]
     },
     "execution_count": 93,
     "metadata": {},
     "output_type": "execute_result"
    }
   ],
   "source": [
    "DT_reg_1 = DecisionTreeRegressor(max_depth=1); DT_reg_1.fit(x_train, y_train)\n",
    "DT_reg_2 = DecisionTreeRegressor(max_depth=3); DT_reg_2.fit(x_train, y_train)\n",
    "DT_reg_3 = DecisionTreeRegressor(max_depth=6); DT_reg_3.fit(x_train, y_train)\n",
    "DT_reg_4 = DecisionTreeRegressor(max_depth=8); DT_reg_4.fit(x_train, y_train)"
   ]
  },
  {
   "cell_type": "code",
   "execution_count": 104,
   "id": "f5e0c749-d163-4537-bcf3-5e38230db10b",
   "metadata": {},
   "outputs": [],
   "source": [
    "y_DT_predts_1 = DT_reg_1.predict(x_test)\n",
    "y_DT_predts_2 = DT_reg_2.predict(x_test)\n",
    "y_DT_predts_3 = DT_reg_3.predict(x_test)\n",
    "y_DT_predts_4 = DT_reg_4.predict(x_test)\n"
   ]
  },
  {
   "cell_type": "code",
   "execution_count": 105,
   "id": "82b21af0-1517-43b4-a896-7dac487cb189",
   "metadata": {},
   "outputs": [
    {
     "name": "stdout",
     "output_type": "stream",
     "text": [
      "Train score at max depth 1 =  0.3219041534851385\n",
      "Test score at max depth 1 =  0.23261708790928165\n"
     ]
    }
   ],
   "source": [
    "# max depth = 1\n",
    "print('Train score at max depth 1 = ', DT_reg_1.score(x_train, y_train))\n",
    "print('Test score at max depth 1 = ', DT_reg_1.score(x_test, y_test))"
   ]
  },
  {
   "cell_type": "code",
   "execution_count": 106,
   "id": "b712b78e-df41-4007-a707-1d04e33a9f3e",
   "metadata": {},
   "outputs": [
    {
     "name": "stdout",
     "output_type": "stream",
     "text": [
      "Train score at max depth 3 =  0.726693702553705\n",
      "Test score at max depth 3 =  0.5518176004972888\n"
     ]
    }
   ],
   "source": [
    "# max depth = 3\n",
    "print('Train score at max depth 3 = ', DT_reg_2.score(x_train, y_train))\n",
    "print('Test score at max depth 3 = ', DT_reg_2.score(x_test, y_test))"
   ]
  },
  {
   "cell_type": "code",
   "execution_count": 107,
   "id": "bcfe2baa-39db-439f-aa64-aaaee14c57b1",
   "metadata": {},
   "outputs": [
    {
     "name": "stdout",
     "output_type": "stream",
     "text": [
      "Train score at max depth 6 =  0.9759309630303897\n",
      "Test score at max depth 6 =  0.6374232086499092\n"
     ]
    }
   ],
   "source": [
    "# max depth = 6\n",
    "print('Train score at max depth 6 = ', DT_reg_3.score(x_train, y_train))\n",
    "print('Test score at max depth 6 = ', DT_reg_3.score(x_test, y_test))"
   ]
  },
  {
   "cell_type": "code",
   "execution_count": 108,
   "id": "bba9c95d-fcd6-4bb4-97c2-c656512c09c6",
   "metadata": {},
   "outputs": [
    {
     "name": "stdout",
     "output_type": "stream",
     "text": [
      "Train score at max depth 8 =  0.9999447419892095\n",
      "Test score at max depth 8 =  0.6535339789493892\n"
     ]
    }
   ],
   "source": [
    "# max depth = 9\n",
    "print('Train score at max depth 8 = ', DT_reg_4.score(x_train, y_train))\n",
    "print('Test score at max depth 8 = ', DT_reg_4.score(x_test, y_test))"
   ]
  },
  {
   "cell_type": "code",
   "execution_count": 114,
   "id": "c13f9431-b178-491b-9f06-b4235a42408f",
   "metadata": {},
   "outputs": [
    {
     "name": "stdout",
     "output_type": "stream",
     "text": [
      "1.0833683809947683  is the mean squared error when max_dpt is 1\n",
      "0.4652008148767801  is the mean squared error when max_dpt is 3\n",
      "0.3100185583089285  is the mean squared error when max_dpt is 6\n",
      "0.28296017098645426  is the mean squared error when max_dpt is 8\n"
     ]
    }
   ],
   "source": [
    "print (metrics.mean_squared_error(y_test, y_DT_predts_1),' is the mean squared error when max_dpt is 1')\n",
    "print (metrics.mean_squared_error(y_test, y_DT_predts_2),' is the mean squared error when max_dpt is 3')\n",
    "print (metrics.mean_squared_error(y_test, y_DT_predts_3),' is the mean squared error when max_dpt is 6')\n",
    "print (metrics.mean_squared_error(y_test, y_DT_predts_4),' is the mean squared error when max_dpt is 8')"
   ]
  },
  {
   "cell_type": "markdown",
   "id": "6f21ed9c-7695-43f1-bb59-bc44bda1c236",
   "metadata": {},
   "source": [
    "### 3. Random Forest Regressor"
   ]
  },
  {
   "cell_type": "code",
   "execution_count": 116,
   "id": "f4fdab08-2503-409a-9bb5-66e652114765",
   "metadata": {},
   "outputs": [],
   "source": [
    "from sklearn.ensemble import RandomForestRegressor"
   ]
  },
  {
   "cell_type": "code",
   "execution_count": 136,
   "id": "39edf3d2-f93d-4fc9-a047-b6a46bc77a5d",
   "metadata": {},
   "outputs": [],
   "source": [
    "#Multioutput regressor with random forest\n",
    "max_depth = 25\n",
    "MOR_RF_3_1 = MultiOutputRegressor(RandomForestRegressor(n_estimators=50,max_depth=max_depth,random_state=50))"
   ]
  },
  {
   "cell_type": "code",
   "execution_count": 137,
   "id": "0e043df0-4d62-434e-beba-0200afa72812",
   "metadata": {},
   "outputs": [
    {
     "name": "stdout",
     "output_type": "stream",
     "text": [
      "0.9637644606033223 is the train score of MultiOutput Random Forest Regressor\n",
      "0.7927763698279613 is the test score of MultiOutput Random Forest Regressor\n"
     ]
    }
   ],
   "source": [
    "MOR_RF_3_1.fit(x_train, y_train)\n",
    "print(MOR_RF_3_1.score(x_train, y_train),'is the train score of MultiOutput Random Forest Regressor')\n",
    "print(MOR_RF_3_1.score(x_test, y_test),'is the test score of MultiOutput Random Forest Regressor')"
   ]
  },
  {
   "cell_type": "code",
   "execution_count": 139,
   "id": "a120cd59-52e8-4b3e-b3cd-4877cfb1ec87",
   "metadata": {},
   "outputs": [
    {
     "data": {
      "text/plain": [
       "0.1178248407307666"
      ]
     },
     "execution_count": 139,
     "metadata": {},
     "output_type": "execute_result"
    }
   ],
   "source": [
    "MOR_DF_Predts = MOR_RF_3_1.predict(x_test)\n",
    "metrics.mean_squared_error(y_test, MOR_DF_Predts)"
   ]
  },
  {
   "cell_type": "markdown",
   "id": "18064f7e-6e54-42a8-9072-9a7ef0a8acad",
   "metadata": {},
   "source": [
    "#### 3.1 Only Random Forest"
   ]
  },
  {
   "cell_type": "code",
   "execution_count": 141,
   "id": "f5555965-9e56-450e-a14e-2fb87840e393",
   "metadata": {},
   "outputs": [],
   "source": [
    "RF_3_2 = RandomForestRegressor(n_estimators=50, max_depth=max_depth, random_state=100)"
   ]
  },
  {
   "cell_type": "code",
   "execution_count": 143,
   "id": "d8302bc4-0145-49e0-a0da-0f72f2f90eca",
   "metadata": {},
   "outputs": [
    {
     "name": "stdout",
     "output_type": "stream",
     "text": [
      "0.9709117830191277 is the train score of Random Forest Regressor\n",
      "0.7119276947023673 is the test score of Random Forest Regressor\n"
     ]
    }
   ],
   "source": [
    "RF_3_2.fit(x_train, y_train)\n",
    "print(RF_3_2.score(x_train, y_train),'is the train score of Random Forest Regressor')\n",
    "print(RF_3_2.score(x_test, y_test),'is the test score of Random Forest Regressor')"
   ]
  },
  {
   "cell_type": "code",
   "execution_count": 147,
   "id": "6ac7930c-122b-4330-b53a-f65307f7db86",
   "metadata": {},
   "outputs": [
    {
     "data": {
      "text/plain": [
       "0.17836696538723928"
      ]
     },
     "execution_count": 147,
     "metadata": {},
     "output_type": "execute_result"
    }
   ],
   "source": [
    "RF_predts = RF_3_2.predict(x_test)\n",
    "metrics.mean_squared_error(y_test, RF_predts)"
   ]
  },
  {
   "cell_type": "markdown",
   "id": "ec48a831-a210-41f9-b941-8db7b3d45626",
   "metadata": {},
   "source": [
    "#### 3.1 Regressor chain"
   ]
  },
  {
   "cell_type": "code",
   "execution_count": 145,
   "id": "4e9fcea4-3b3f-4b69-94ed-6c669b76d4d8",
   "metadata": {},
   "outputs": [
    {
     "data": {
      "text/plain": [
       "RegressorChain(base_estimator=RandomForestRegressor(max_depth=25,\n",
       "                                                    n_estimators=10,\n",
       "                                                    random_state=100))"
      ]
     },
     "execution_count": 145,
     "metadata": {},
     "output_type": "execute_result"
    }
   ],
   "source": [
    "from sklearn.multioutput import RegressorChain\n",
    "RC_RF_3_3 = RegressorChain(RandomForestRegressor(n_estimators=10,max_depth=max_depth,random_state=100))\n",
    "RC_RF_3_3.fit(x_train, y_train)"
   ]
  },
  {
   "cell_type": "code",
   "execution_count": 146,
   "id": "ed5cc5ae-ec8c-4bc6-996e-c9efb5ffc5d0",
   "metadata": {},
   "outputs": [
    {
     "name": "stdout",
     "output_type": "stream",
     "text": [
      "0.7090609981699522 is the train score of Regressor Chain Random Forest Regressor\n",
      "0.5432945279780171 is the test score of  Regressor Chain Random Forest Regressor\n"
     ]
    }
   ],
   "source": [
    "print(RC_RF_3_3.score(x_train, y_train),'is the train score of Regressor Chain Random Forest Regressor')\n",
    "print(RC_RF_3_3.score(x_test, y_test),'is the test score of  Regressor Chain Random Forest Regressor')"
   ]
  },
  {
   "cell_type": "code",
   "execution_count": 148,
   "id": "187c7fd4-85f8-44fd-98e0-a3c3fe429cac",
   "metadata": {},
   "outputs": [
    {
     "name": "stdout",
     "output_type": "stream",
     "text": [
      "0.42987475627101457\n"
     ]
    }
   ],
   "source": [
    "RC_RF_predts = RC_RF_3_3.predict(x_test)\n",
    "print(metrics.mean_squared_error(y_test, RC_RF_predts))"
   ]
  },
  {
   "cell_type": "markdown",
   "id": "705c2cc5-c53a-4a40-8e45-493c51240d4a",
   "metadata": {},
   "source": [
    "### 4. SVM"
   ]
  },
  {
   "cell_type": "code",
   "execution_count": 149,
   "id": "67229d5c-f893-42d6-9eaf-d9ad03e37cc4",
   "metadata": {},
   "outputs": [],
   "source": [
    "from sklearn.svm import SVR"
   ]
  },
  {
   "cell_type": "code",
   "execution_count": 164,
   "id": "40ffa99d-7c80-409a-a727-6f5de99190fe",
   "metadata": {},
   "outputs": [],
   "source": [
    "# Create the SVR regressor\n",
    "svr_1 = SVR()\n",
    "svr_2 = SVR(epsilon=0.2)\n",
    "svr_3 = SVR(epsilon=0.3)\n",
    "# Create the Multioutput Regressor\n",
    "MOR_SVR_1 = MultiOutputRegressor(svr_1)\n",
    "MOR_SVR_2 = MultiOutputRegressor(svr_2)\n",
    "MOR_SVR_3 = MultiOutputRegressor(svr_3)"
   ]
  },
  {
   "cell_type": "code",
   "execution_count": 166,
   "id": "713ca51d-c286-470a-8d6c-10a1d4ff84c4",
   "metadata": {},
   "outputs": [],
   "source": [
    "# Train the regressor\n",
    "MOR_SVR_1.fit(x_train, y_train)\n",
    "MOR_SVR_2.fit(x_train, y_train)\n",
    "MOR_SVR_3.fit(x_train, y_train)\n",
    "\n",
    "# Generate predictions for testing data\n",
    "MOR_SVR_predts_1 = MOR_SVR_1.predict(x_test)\n",
    "MOR_SVR_predts_2 = MOR_SVR_2.predict(x_test)\n",
    "MOR_SVR_predts_3 = MOR_SVR_3.predict(x_test)\n"
   ]
  },
  {
   "cell_type": "code",
   "execution_count": 167,
   "id": "4cc6ab44-88e0-4c2d-b745-50c7d445cebe",
   "metadata": {},
   "outputs": [
    {
     "name": "stdout",
     "output_type": "stream",
     "text": [
      "-0.2898249564228948 is the train score of Regressor Chain Random Forest Regressor\n",
      "0.07323933667249993 is the test score of  Regressor Chain Random Forest Regressor\n",
      "mean squared error =  1.5065529095114412\n"
     ]
    }
   ],
   "source": [
    "# dcores for epsilon 0.2\n",
    "print(MOR_SVR_1.score(x_train, y_train),'is the train score of Regressor Chain Random Forest Regressor')\n",
    "print(MOR_SVR_1.score(x_test, y_test),'is the test score of  Regressor Chain Random Forest Regressor')\n",
    "print('mean squared error = ',metrics.mean_squared_error(y_test, MOR_SVR_predts_1))"
   ]
  },
  {
   "cell_type": "code",
   "execution_count": 168,
   "id": "1434fd47-a2b6-4a18-a714-2026793a56af",
   "metadata": {},
   "outputs": [
    {
     "name": "stdout",
     "output_type": "stream",
     "text": [
      "-0.45223565167821933 is the train score of Regressor Chain Random Forest Regressor\n",
      "0.08530211167163138 is the test score of  Regressor Chain Random Forest Regressor\n",
      "mean squared error =  1.4893025938768407\n"
     ]
    }
   ],
   "source": [
    "# dcores for epsilon 0.4\n",
    "print(MOR_SVR_2.score(x_train, y_train),'is the train score of Regressor Chain Random Forest Regressor')\n",
    "print(MOR_SVR_2.score(x_test, y_test),'is the test score of  Regressor Chain Random Forest Regressor')\n",
    "print('mean squared error = ',metrics.mean_squared_error(y_test, MOR_SVR_predts_2))"
   ]
  },
  {
   "cell_type": "code",
   "execution_count": 169,
   "id": "8d45f493-ffa2-4d59-8c0f-2a089ea6a4a5",
   "metadata": {},
   "outputs": [
    {
     "name": "stdout",
     "output_type": "stream",
     "text": [
      "-0.6152392537048285 is the train score of Regressor Chain Random Forest Regressor\n",
      "0.0932936445841569 is the test score of  Regressor Chain Random Forest Regressor\n",
      "mean squared error =  1.4606597601653273\n"
     ]
    }
   ],
   "source": [
    "# dcores for epsilon 0.6\n",
    "print(MOR_SVR_3.score(x_train, y_train),'is the train score of Regressor Chain Random Forest Regressor')\n",
    "print(MOR_SVR_3.score(x_test, y_test),'is the test score of  Regressor Chain Random Forest Regressor')\n",
    "print('mean squared error = ',metrics.mean_squared_error(y_test, MOR_SVR_predts_3))"
   ]
  },
  {
   "cell_type": "markdown",
   "id": "8ea12a84-e590-49cc-8cbc-eec87ec04197",
   "metadata": {},
   "source": [
    "### 5. XG Boost"
   ]
  },
  {
   "cell_type": "code",
   "execution_count": null,
   "id": "364c5d62-6434-4c62-a147-b699f8a2a2c1",
   "metadata": {},
   "outputs": [],
   "source": []
  }
 ],
 "metadata": {
  "kernelspec": {
   "display_name": "Python 3 (ipykernel)",
   "language": "python",
   "name": "python3"
  },
  "language_info": {
   "codemirror_mode": {
    "name": "ipython",
    "version": 3
   },
   "file_extension": ".py",
   "mimetype": "text/x-python",
   "name": "python",
   "nbconvert_exporter": "python",
   "pygments_lexer": "ipython3",
   "version": "3.9.12"
  },
  "toc-showtags": false
 },
 "nbformat": 4,
 "nbformat_minor": 5
}
