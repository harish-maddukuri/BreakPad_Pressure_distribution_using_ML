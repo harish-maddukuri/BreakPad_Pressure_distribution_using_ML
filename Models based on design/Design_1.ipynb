{
 "cells": [
  {
   "cell_type": "markdown",
   "id": "71e9b027-03e8-4f44-bb8e-98da04818354",
   "metadata": {},
   "source": [
    "# Model creation and accuracy caheck for the Design-1 data "
   ]
  },
  {
   "cell_type": "code",
   "execution_count": null,
   "id": "2e2f310f-75f8-42fa-90f9-36d9ea9cd232",
   "metadata": {},
   "outputs": [],
   "source": [
    "import pandas as pd, numpy as np, matplotlib.pyplot as plt"
   ]
  },
  {
   "cell_type": "code",
   "execution_count": null,
   "id": "59676a4a-982e-4ec9-b096-240b89ca4b53",
   "metadata": {},
   "outputs": [],
   "source": []
  }
 ],
 "metadata": {
  "kernelspec": {
   "display_name": "Python 3 (ipykernel)",
   "language": "python",
   "name": "python3"
  },
  "language_info": {
   "codemirror_mode": {
    "name": "ipython",
    "version": 3
   },
   "file_extension": ".py",
   "mimetype": "text/x-python",
   "name": "python",
   "nbconvert_exporter": "python",
   "pygments_lexer": "ipython3",
   "version": "3.9.12"
  }
 },
 "nbformat": 4,
 "nbformat_minor": 5
}
