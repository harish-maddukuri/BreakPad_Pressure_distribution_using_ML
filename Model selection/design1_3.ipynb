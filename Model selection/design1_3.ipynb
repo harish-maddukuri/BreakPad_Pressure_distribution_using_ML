{
 "cells": [
  {
   "cell_type": "code",
   "execution_count": 1,
   "metadata": {},
   "outputs": [],
   "source": [
    "import pandas as pd\n",
    "import numpy as np\n",
    "#from pandas_profiling import ProfileReport\n",
    "import seaborn as sns\n",
    "import matplotlib.pyplot as plt\n",
    "%matplotlib inline"
   ]
  },
  {
   "cell_type": "code",
   "execution_count": 2,
   "metadata": {},
   "outputs": [],
   "source": [
    "df=pd.read_csv(\"C:/Users/sowjanya2014_2/capstone1/design1/Design1.csv\")"
   ]
  },
  {
   "cell_type": "code",
   "execution_count": 3,
   "metadata": {},
   "outputs": [],
   "source": [
    "cordinates=pd.read_csv(\"C:/Users/sowjanya2014_2/capstone1/design1/Node_cordinates_Design1.csv\",header=None)\n",
    "cordinates.columns=['Node_Number','X_cord','Y_cord']"
   ]
  },
  {
   "cell_type": "code",
   "execution_count": 4,
   "metadata": {},
   "outputs": [],
   "source": [
    "df[\"Youngs_Modulus\"]=df[\"Youngs_Modulus\"]*100"
   ]
  },
  {
   "cell_type": "code",
   "execution_count": 5,
   "metadata": {},
   "outputs": [
    {
     "data": {
      "text/html": [
       "<div>\n",
       "<style scoped>\n",
       "    .dataframe tbody tr th:only-of-type {\n",
       "        vertical-align: middle;\n",
       "    }\n",
       "\n",
       "    .dataframe tbody tr th {\n",
       "        vertical-align: top;\n",
       "    }\n",
       "\n",
       "    .dataframe thead th {\n",
       "        text-align: right;\n",
       "    }\n",
       "</style>\n",
       "<table border=\"1\" class=\"dataframe\">\n",
       "  <thead>\n",
       "    <tr style=\"text-align: right;\">\n",
       "      <th></th>\n",
       "      <th>Unnamed: 0</th>\n",
       "      <th>Unnamed: 0.1</th>\n",
       "      <th>1</th>\n",
       "      <th>2</th>\n",
       "      <th>3</th>\n",
       "      <th>4</th>\n",
       "      <th>5</th>\n",
       "      <th>6</th>\n",
       "      <th>7</th>\n",
       "      <th>8</th>\n",
       "      <th>...</th>\n",
       "      <th>881</th>\n",
       "      <th>882</th>\n",
       "      <th>883</th>\n",
       "      <th>Design</th>\n",
       "      <th>Pad_Thickness</th>\n",
       "      <th>Pad_Height</th>\n",
       "      <th>Pad_Width</th>\n",
       "      <th>Pis_Radius</th>\n",
       "      <th>Youngs_Modulus</th>\n",
       "      <th>Applied_Pressure</th>\n",
       "    </tr>\n",
       "  </thead>\n",
       "  <tbody>\n",
       "    <tr>\n",
       "      <th>0</th>\n",
       "      <td>0</td>\n",
       "      <td>1</td>\n",
       "      <td>2.57188</td>\n",
       "      <td>2.30037</td>\n",
       "      <td>2.46050</td>\n",
       "      <td>2.65304</td>\n",
       "      <td>2.81205</td>\n",
       "      <td>2.75852</td>\n",
       "      <td>2.66240</td>\n",
       "      <td>2.46821</td>\n",
       "      <td>...</td>\n",
       "      <td>1.72637</td>\n",
       "      <td>1.72359</td>\n",
       "      <td>1.81010</td>\n",
       "      <td>Design_1</td>\n",
       "      <td>7.5</td>\n",
       "      <td>29.3</td>\n",
       "      <td>86.8</td>\n",
       "      <td>15</td>\n",
       "      <td>100</td>\n",
       "      <td>50.0</td>\n",
       "    </tr>\n",
       "    <tr>\n",
       "      <th>1</th>\n",
       "      <td>1</td>\n",
       "      <td>2</td>\n",
       "      <td>3.16330</td>\n",
       "      <td>2.76536</td>\n",
       "      <td>2.94005</td>\n",
       "      <td>3.17009</td>\n",
       "      <td>3.36315</td>\n",
       "      <td>3.29799</td>\n",
       "      <td>3.18142</td>\n",
       "      <td>2.94898</td>\n",
       "      <td>...</td>\n",
       "      <td>2.06827</td>\n",
       "      <td>2.06496</td>\n",
       "      <td>2.16817</td>\n",
       "      <td>Design_1</td>\n",
       "      <td>7.5</td>\n",
       "      <td>29.3</td>\n",
       "      <td>86.8</td>\n",
       "      <td>15</td>\n",
       "      <td>100</td>\n",
       "      <td>60.0</td>\n",
       "    </tr>\n",
       "    <tr>\n",
       "      <th>2</th>\n",
       "      <td>2</td>\n",
       "      <td>3</td>\n",
       "      <td>3.76559</td>\n",
       "      <td>3.22990</td>\n",
       "      <td>3.41703</td>\n",
       "      <td>3.68470</td>\n",
       "      <td>3.91224</td>\n",
       "      <td>3.83530</td>\n",
       "      <td>3.69804</td>\n",
       "      <td>3.42718</td>\n",
       "      <td>...</td>\n",
       "      <td>2.40960</td>\n",
       "      <td>2.40582</td>\n",
       "      <td>2.52562</td>\n",
       "      <td>Design_1</td>\n",
       "      <td>7.5</td>\n",
       "      <td>29.3</td>\n",
       "      <td>86.8</td>\n",
       "      <td>15</td>\n",
       "      <td>100</td>\n",
       "      <td>70.0</td>\n",
       "    </tr>\n",
       "    <tr>\n",
       "      <th>3</th>\n",
       "      <td>3</td>\n",
       "      <td>4</td>\n",
       "      <td>4.37665</td>\n",
       "      <td>3.69413</td>\n",
       "      <td>3.89217</td>\n",
       "      <td>4.19759</td>\n",
       "      <td>4.45998</td>\n",
       "      <td>4.37113</td>\n",
       "      <td>4.21299</td>\n",
       "      <td>3.90353</td>\n",
       "      <td>...</td>\n",
       "      <td>2.75046</td>\n",
       "      <td>2.74624</td>\n",
       "      <td>2.88259</td>\n",
       "      <td>Design_1</td>\n",
       "      <td>7.5</td>\n",
       "      <td>29.3</td>\n",
       "      <td>86.8</td>\n",
       "      <td>15</td>\n",
       "      <td>100</td>\n",
       "      <td>80.0</td>\n",
       "    </tr>\n",
       "    <tr>\n",
       "      <th>4</th>\n",
       "      <td>4</td>\n",
       "      <td>5</td>\n",
       "      <td>4.99506</td>\n",
       "      <td>4.15829</td>\n",
       "      <td>4.36606</td>\n",
       "      <td>4.70939</td>\n",
       "      <td>5.00690</td>\n",
       "      <td>4.90605</td>\n",
       "      <td>4.72688</td>\n",
       "      <td>4.37863</td>\n",
       "      <td>...</td>\n",
       "      <td>3.09081</td>\n",
       "      <td>3.08615</td>\n",
       "      <td>3.23906</td>\n",
       "      <td>Design_1</td>\n",
       "      <td>7.5</td>\n",
       "      <td>29.3</td>\n",
       "      <td>86.8</td>\n",
       "      <td>15</td>\n",
       "      <td>100</td>\n",
       "      <td>90.0</td>\n",
       "    </tr>\n",
       "  </tbody>\n",
       "</table>\n",
       "<p>5 rows × 892 columns</p>\n",
       "</div>"
      ],
      "text/plain": [
       "   Unnamed: 0  Unnamed: 0.1        1        2        3        4        5  \\\n",
       "0           0             1  2.57188  2.30037  2.46050  2.65304  2.81205   \n",
       "1           1             2  3.16330  2.76536  2.94005  3.17009  3.36315   \n",
       "2           2             3  3.76559  3.22990  3.41703  3.68470  3.91224   \n",
       "3           3             4  4.37665  3.69413  3.89217  4.19759  4.45998   \n",
       "4           4             5  4.99506  4.15829  4.36606  4.70939  5.00690   \n",
       "\n",
       "         6        7        8  ...      881      882      883    Design  \\\n",
       "0  2.75852  2.66240  2.46821  ...  1.72637  1.72359  1.81010  Design_1   \n",
       "1  3.29799  3.18142  2.94898  ...  2.06827  2.06496  2.16817  Design_1   \n",
       "2  3.83530  3.69804  3.42718  ...  2.40960  2.40582  2.52562  Design_1   \n",
       "3  4.37113  4.21299  3.90353  ...  2.75046  2.74624  2.88259  Design_1   \n",
       "4  4.90605  4.72688  4.37863  ...  3.09081  3.08615  3.23906  Design_1   \n",
       "\n",
       "   Pad_Thickness  Pad_Height  Pad_Width  Pis_Radius  Youngs_Modulus  \\\n",
       "0            7.5        29.3       86.8          15             100   \n",
       "1            7.5        29.3       86.8          15             100   \n",
       "2            7.5        29.3       86.8          15             100   \n",
       "3            7.5        29.3       86.8          15             100   \n",
       "4            7.5        29.3       86.8          15             100   \n",
       "\n",
       "   Applied_Pressure  \n",
       "0              50.0  \n",
       "1              60.0  \n",
       "2              70.0  \n",
       "3              80.0  \n",
       "4              90.0  \n",
       "\n",
       "[5 rows x 892 columns]"
      ]
     },
     "execution_count": 5,
     "metadata": {},
     "output_type": "execute_result"
    }
   ],
   "source": [
    "df.head()"
   ]
  },
  {
   "cell_type": "code",
   "execution_count": 6,
   "metadata": {},
   "outputs": [],
   "source": [
    "#drop first 2 cols\n",
    "df=df.iloc[:,2:]"
   ]
  },
  {
   "cell_type": "code",
   "execution_count": 7,
   "metadata": {},
   "outputs": [
    {
     "data": {
      "text/html": [
       "<div>\n",
       "<style scoped>\n",
       "    .dataframe tbody tr th:only-of-type {\n",
       "        vertical-align: middle;\n",
       "    }\n",
       "\n",
       "    .dataframe tbody tr th {\n",
       "        vertical-align: top;\n",
       "    }\n",
       "\n",
       "    .dataframe thead th {\n",
       "        text-align: right;\n",
       "    }\n",
       "</style>\n",
       "<table border=\"1\" class=\"dataframe\">\n",
       "  <thead>\n",
       "    <tr style=\"text-align: right;\">\n",
       "      <th></th>\n",
       "      <th>1</th>\n",
       "      <th>2</th>\n",
       "      <th>3</th>\n",
       "      <th>4</th>\n",
       "      <th>5</th>\n",
       "      <th>6</th>\n",
       "      <th>7</th>\n",
       "      <th>8</th>\n",
       "      <th>9</th>\n",
       "      <th>10</th>\n",
       "      <th>...</th>\n",
       "      <th>881</th>\n",
       "      <th>882</th>\n",
       "      <th>883</th>\n",
       "      <th>Design</th>\n",
       "      <th>Pad_Thickness</th>\n",
       "      <th>Pad_Height</th>\n",
       "      <th>Pad_Width</th>\n",
       "      <th>Pis_Radius</th>\n",
       "      <th>Youngs_Modulus</th>\n",
       "      <th>Applied_Pressure</th>\n",
       "    </tr>\n",
       "  </thead>\n",
       "  <tbody>\n",
       "    <tr>\n",
       "      <th>140</th>\n",
       "      <td>5.54023</td>\n",
       "      <td>5.28936</td>\n",
       "      <td>5.70053</td>\n",
       "      <td>6.08785</td>\n",
       "      <td>6.29600</td>\n",
       "      <td>6.23952</td>\n",
       "      <td>6.10111</td>\n",
       "      <td>5.71642</td>\n",
       "      <td>5.29389</td>\n",
       "      <td>5.52603</td>\n",
       "      <td>...</td>\n",
       "      <td>4.21390</td>\n",
       "      <td>4.20690</td>\n",
       "      <td>4.43486</td>\n",
       "      <td>Design_1</td>\n",
       "      <td>9.0</td>\n",
       "      <td>35.16</td>\n",
       "      <td>104.18</td>\n",
       "      <td>23</td>\n",
       "      <td>400</td>\n",
       "      <td>70.0</td>\n",
       "    </tr>\n",
       "    <tr>\n",
       "      <th>141</th>\n",
       "      <td>6.44280</td>\n",
       "      <td>6.05517</td>\n",
       "      <td>6.49764</td>\n",
       "      <td>6.93747</td>\n",
       "      <td>7.17768</td>\n",
       "      <td>7.11204</td>\n",
       "      <td>6.95259</td>\n",
       "      <td>6.51514</td>\n",
       "      <td>6.05851</td>\n",
       "      <td>6.42426</td>\n",
       "      <td>...</td>\n",
       "      <td>4.81106</td>\n",
       "      <td>4.80292</td>\n",
       "      <td>5.06185</td>\n",
       "      <td>Design_1</td>\n",
       "      <td>9.0</td>\n",
       "      <td>35.16</td>\n",
       "      <td>104.18</td>\n",
       "      <td>23</td>\n",
       "      <td>400</td>\n",
       "      <td>80.0</td>\n",
       "    </tr>\n",
       "    <tr>\n",
       "      <th>142</th>\n",
       "      <td>7.36096</td>\n",
       "      <td>6.82100</td>\n",
       "      <td>7.29116</td>\n",
       "      <td>7.78340</td>\n",
       "      <td>8.05632</td>\n",
       "      <td>7.98125</td>\n",
       "      <td>7.80042</td>\n",
       "      <td>7.31023</td>\n",
       "      <td>6.82292</td>\n",
       "      <td>7.33775</td>\n",
       "      <td>...</td>\n",
       "      <td>5.40714</td>\n",
       "      <td>5.39791</td>\n",
       "      <td>5.68755</td>\n",
       "      <td>Design_1</td>\n",
       "      <td>9.0</td>\n",
       "      <td>35.16</td>\n",
       "      <td>104.18</td>\n",
       "      <td>23</td>\n",
       "      <td>400</td>\n",
       "      <td>90.0</td>\n",
       "    </tr>\n",
       "    <tr>\n",
       "      <th>143</th>\n",
       "      <td>8.29265</td>\n",
       "      <td>7.58669</td>\n",
       "      <td>8.08148</td>\n",
       "      <td>8.62607</td>\n",
       "      <td>8.93227</td>\n",
       "      <td>8.84754</td>\n",
       "      <td>8.64503</td>\n",
       "      <td>8.10208</td>\n",
       "      <td>7.58699</td>\n",
       "      <td>8.26448</td>\n",
       "      <td>...</td>\n",
       "      <td>6.00219</td>\n",
       "      <td>5.99194</td>\n",
       "      <td>6.31206</td>\n",
       "      <td>Design_1</td>\n",
       "      <td>9.0</td>\n",
       "      <td>35.16</td>\n",
       "      <td>104.18</td>\n",
       "      <td>23</td>\n",
       "      <td>400</td>\n",
       "      <td>100.0</td>\n",
       "    </tr>\n",
       "    <tr>\n",
       "      <th>144</th>\n",
       "      <td>3.83065</td>\n",
       "      <td>3.86517</td>\n",
       "      <td>4.21836</td>\n",
       "      <td>4.49836</td>\n",
       "      <td>4.62299</td>\n",
       "      <td>4.59382</td>\n",
       "      <td>4.50732</td>\n",
       "      <td>4.23124</td>\n",
       "      <td>3.87258</td>\n",
       "      <td>3.82552</td>\n",
       "      <td>...</td>\n",
       "      <td>2.98379</td>\n",
       "      <td>2.97975</td>\n",
       "      <td>3.15904</td>\n",
       "      <td>Design_1</td>\n",
       "      <td>9.0</td>\n",
       "      <td>35.16</td>\n",
       "      <td>104.18</td>\n",
       "      <td>23</td>\n",
       "      <td>500</td>\n",
       "      <td>50.0</td>\n",
       "    </tr>\n",
       "    <tr>\n",
       "      <th>145</th>\n",
       "      <td>4.69565</td>\n",
       "      <td>4.65226</td>\n",
       "      <td>5.05105</td>\n",
       "      <td>5.38355</td>\n",
       "      <td>5.53332</td>\n",
       "      <td>5.49802</td>\n",
       "      <td>5.39403</td>\n",
       "      <td>5.06573</td>\n",
       "      <td>4.65937</td>\n",
       "      <td>4.68745</td>\n",
       "      <td>...</td>\n",
       "      <td>3.57869</td>\n",
       "      <td>3.57322</td>\n",
       "      <td>3.78704</td>\n",
       "      <td>Design_1</td>\n",
       "      <td>9.0</td>\n",
       "      <td>35.16</td>\n",
       "      <td>104.18</td>\n",
       "      <td>23</td>\n",
       "      <td>500</td>\n",
       "      <td>60.0</td>\n",
       "    </tr>\n",
       "    <tr>\n",
       "      <th>146</th>\n",
       "      <td>5.58157</td>\n",
       "      <td>5.44008</td>\n",
       "      <td>5.87921</td>\n",
       "      <td>6.26379</td>\n",
       "      <td>6.43948</td>\n",
       "      <td>6.39772</td>\n",
       "      <td>6.27584</td>\n",
       "      <td>5.89560</td>\n",
       "      <td>5.44657</td>\n",
       "      <td>5.56986</td>\n",
       "      <td>...</td>\n",
       "      <td>4.17243</td>\n",
       "      <td>4.16562</td>\n",
       "      <td>4.41352</td>\n",
       "      <td>Design_1</td>\n",
       "      <td>9.0</td>\n",
       "      <td>35.16</td>\n",
       "      <td>104.18</td>\n",
       "      <td>23</td>\n",
       "      <td>500</td>\n",
       "      <td>70.0</td>\n",
       "    </tr>\n",
       "    <tr>\n",
       "      <th>147</th>\n",
       "      <td>6.48573</td>\n",
       "      <td>6.22831</td>\n",
       "      <td>6.70329</td>\n",
       "      <td>7.13965</td>\n",
       "      <td>7.34196</td>\n",
       "      <td>7.29344</td>\n",
       "      <td>7.15330</td>\n",
       "      <td>6.72131</td>\n",
       "      <td>6.23388</td>\n",
       "      <td>6.47013</td>\n",
       "      <td>...</td>\n",
       "      <td>4.76508</td>\n",
       "      <td>4.75700</td>\n",
       "      <td>5.03859</td>\n",
       "      <td>Design_1</td>\n",
       "      <td>9.0</td>\n",
       "      <td>35.16</td>\n",
       "      <td>104.18</td>\n",
       "      <td>23</td>\n",
       "      <td>500</td>\n",
       "      <td>80.0</td>\n",
       "    </tr>\n",
       "    <tr>\n",
       "      <th>148</th>\n",
       "      <td>7.40586</td>\n",
       "      <td>7.01669</td>\n",
       "      <td>7.52366</td>\n",
       "      <td>8.01160</td>\n",
       "      <td>8.24117</td>\n",
       "      <td>8.18562</td>\n",
       "      <td>8.02689</td>\n",
       "      <td>7.54326</td>\n",
       "      <td>7.02110</td>\n",
       "      <td>7.38602</td>\n",
       "      <td>...</td>\n",
       "      <td>5.35677</td>\n",
       "      <td>5.34751</td>\n",
       "      <td>5.66244</td>\n",
       "      <td>Design_1</td>\n",
       "      <td>9.0</td>\n",
       "      <td>35.16</td>\n",
       "      <td>104.18</td>\n",
       "      <td>23</td>\n",
       "      <td>500</td>\n",
       "      <td>90.0</td>\n",
       "    </tr>\n",
       "    <tr>\n",
       "      <th>149</th>\n",
       "      <td>8.34007</td>\n",
       "      <td>7.80503</td>\n",
       "      <td>8.34066</td>\n",
       "      <td>8.88004</td>\n",
       "      <td>9.13745</td>\n",
       "      <td>9.07463</td>\n",
       "      <td>8.89701</td>\n",
       "      <td>8.36180</td>\n",
       "      <td>7.80808</td>\n",
       "      <td>8.31570</td>\n",
       "      <td>...</td>\n",
       "      <td>5.94761</td>\n",
       "      <td>5.93725</td>\n",
       "      <td>6.28522</td>\n",
       "      <td>Design_1</td>\n",
       "      <td>9.0</td>\n",
       "      <td>35.16</td>\n",
       "      <td>104.18</td>\n",
       "      <td>23</td>\n",
       "      <td>500</td>\n",
       "      <td>100.0</td>\n",
       "    </tr>\n",
       "  </tbody>\n",
       "</table>\n",
       "<p>10 rows × 890 columns</p>\n",
       "</div>"
      ],
      "text/plain": [
       "           1        2        3        4        5        6        7        8  \\\n",
       "140  5.54023  5.28936  5.70053  6.08785  6.29600  6.23952  6.10111  5.71642   \n",
       "141  6.44280  6.05517  6.49764  6.93747  7.17768  7.11204  6.95259  6.51514   \n",
       "142  7.36096  6.82100  7.29116  7.78340  8.05632  7.98125  7.80042  7.31023   \n",
       "143  8.29265  7.58669  8.08148  8.62607  8.93227  8.84754  8.64503  8.10208   \n",
       "144  3.83065  3.86517  4.21836  4.49836  4.62299  4.59382  4.50732  4.23124   \n",
       "145  4.69565  4.65226  5.05105  5.38355  5.53332  5.49802  5.39403  5.06573   \n",
       "146  5.58157  5.44008  5.87921  6.26379  6.43948  6.39772  6.27584  5.89560   \n",
       "147  6.48573  6.22831  6.70329  7.13965  7.34196  7.29344  7.15330  6.72131   \n",
       "148  7.40586  7.01669  7.52366  8.01160  8.24117  8.18562  8.02689  7.54326   \n",
       "149  8.34007  7.80503  8.34066  8.88004  9.13745  9.07463  8.89701  8.36180   \n",
       "\n",
       "           9       10  ...      881      882      883    Design  \\\n",
       "140  5.29389  5.52603  ...  4.21390  4.20690  4.43486  Design_1   \n",
       "141  6.05851  6.42426  ...  4.81106  4.80292  5.06185  Design_1   \n",
       "142  6.82292  7.33775  ...  5.40714  5.39791  5.68755  Design_1   \n",
       "143  7.58699  8.26448  ...  6.00219  5.99194  6.31206  Design_1   \n",
       "144  3.87258  3.82552  ...  2.98379  2.97975  3.15904  Design_1   \n",
       "145  4.65937  4.68745  ...  3.57869  3.57322  3.78704  Design_1   \n",
       "146  5.44657  5.56986  ...  4.17243  4.16562  4.41352  Design_1   \n",
       "147  6.23388  6.47013  ...  4.76508  4.75700  5.03859  Design_1   \n",
       "148  7.02110  7.38602  ...  5.35677  5.34751  5.66244  Design_1   \n",
       "149  7.80808  8.31570  ...  5.94761  5.93725  6.28522  Design_1   \n",
       "\n",
       "     Pad_Thickness  Pad_Height  Pad_Width  Pis_Radius  Youngs_Modulus  \\\n",
       "140            9.0       35.16     104.18          23             400   \n",
       "141            9.0       35.16     104.18          23             400   \n",
       "142            9.0       35.16     104.18          23             400   \n",
       "143            9.0       35.16     104.18          23             400   \n",
       "144            9.0       35.16     104.18          23             500   \n",
       "145            9.0       35.16     104.18          23             500   \n",
       "146            9.0       35.16     104.18          23             500   \n",
       "147            9.0       35.16     104.18          23             500   \n",
       "148            9.0       35.16     104.18          23             500   \n",
       "149            9.0       35.16     104.18          23             500   \n",
       "\n",
       "     Applied_Pressure  \n",
       "140              70.0  \n",
       "141              80.0  \n",
       "142              90.0  \n",
       "143             100.0  \n",
       "144              50.0  \n",
       "145              60.0  \n",
       "146              70.0  \n",
       "147              80.0  \n",
       "148              90.0  \n",
       "149             100.0  \n",
       "\n",
       "[10 rows x 890 columns]"
      ]
     },
     "execution_count": 7,
     "metadata": {},
     "output_type": "execute_result"
    }
   ],
   "source": [
    "df.tail(10)"
   ]
  },
  {
   "cell_type": "code",
   "execution_count": 8,
   "metadata": {},
   "outputs": [
    {
     "data": {
      "text/plain": [
       "(150, 890)"
      ]
     },
     "execution_count": 8,
     "metadata": {},
     "output_type": "execute_result"
    }
   ],
   "source": [
    "df.shape"
   ]
  },
  {
   "cell_type": "code",
   "execution_count": 9,
   "metadata": {
    "scrolled": true
   },
   "outputs": [
    {
     "data": {
      "text/plain": [
       "False    150\n",
       "dtype: int64"
      ]
     },
     "execution_count": 9,
     "metadata": {},
     "output_type": "execute_result"
    }
   ],
   "source": [
    "df.duplicated().value_counts()"
   ]
  },
  {
   "cell_type": "code",
   "execution_count": 10,
   "metadata": {},
   "outputs": [
    {
     "data": {
      "text/plain": [
       "False    890\n",
       "dtype: int64"
      ]
     },
     "execution_count": 10,
     "metadata": {},
     "output_type": "execute_result"
    }
   ],
   "source": [
    "(df.isnull().sum()>0).value_counts()"
   ]
  },
  {
   "cell_type": "markdown",
   "metadata": {},
   "source": [
    "# EDA"
   ]
  },
  {
   "cell_type": "code",
   "execution_count": 11,
   "metadata": {},
   "outputs": [
    {
     "data": {
      "text/html": [
       "<div>\n",
       "<style scoped>\n",
       "    .dataframe tbody tr th:only-of-type {\n",
       "        vertical-align: middle;\n",
       "    }\n",
       "\n",
       "    .dataframe tbody tr th {\n",
       "        vertical-align: top;\n",
       "    }\n",
       "\n",
       "    .dataframe thead th {\n",
       "        text-align: right;\n",
       "    }\n",
       "</style>\n",
       "<table border=\"1\" class=\"dataframe\">\n",
       "  <thead>\n",
       "    <tr style=\"text-align: right;\">\n",
       "      <th></th>\n",
       "      <th>1</th>\n",
       "      <th>2</th>\n",
       "      <th>3</th>\n",
       "      <th>4</th>\n",
       "      <th>5</th>\n",
       "      <th>6</th>\n",
       "      <th>7</th>\n",
       "      <th>8</th>\n",
       "      <th>9</th>\n",
       "      <th>10</th>\n",
       "      <th>...</th>\n",
       "      <th>880</th>\n",
       "      <th>881</th>\n",
       "      <th>882</th>\n",
       "      <th>883</th>\n",
       "      <th>Pad_Thickness</th>\n",
       "      <th>Pad_Height</th>\n",
       "      <th>Pad_Width</th>\n",
       "      <th>Pis_Radius</th>\n",
       "      <th>Youngs_Modulus</th>\n",
       "      <th>Applied_Pressure</th>\n",
       "    </tr>\n",
       "  </thead>\n",
       "  <tbody>\n",
       "    <tr>\n",
       "      <th>count</th>\n",
       "      <td>150.000000</td>\n",
       "      <td>150.000000</td>\n",
       "      <td>150.000000</td>\n",
       "      <td>150.000000</td>\n",
       "      <td>150.000000</td>\n",
       "      <td>150.000000</td>\n",
       "      <td>150.000000</td>\n",
       "      <td>150.000000</td>\n",
       "      <td>150.000000</td>\n",
       "      <td>150.000000</td>\n",
       "      <td>...</td>\n",
       "      <td>150.000000</td>\n",
       "      <td>150.000000</td>\n",
       "      <td>150.000000</td>\n",
       "      <td>150.000000</td>\n",
       "      <td>150.000000</td>\n",
       "      <td>150.000000</td>\n",
       "      <td>150.000000</td>\n",
       "      <td>150.00000</td>\n",
       "      <td>150.000000</td>\n",
       "      <td>150.000000</td>\n",
       "    </tr>\n",
       "    <tr>\n",
       "      <th>mean</th>\n",
       "      <td>5.465572</td>\n",
       "      <td>4.998513</td>\n",
       "      <td>5.317887</td>\n",
       "      <td>5.665604</td>\n",
       "      <td>5.839753</td>\n",
       "      <td>5.795219</td>\n",
       "      <td>5.676951</td>\n",
       "      <td>5.331242</td>\n",
       "      <td>4.998807</td>\n",
       "      <td>5.447282</td>\n",
       "      <td>...</td>\n",
       "      <td>3.841424</td>\n",
       "      <td>3.864986</td>\n",
       "      <td>3.860755</td>\n",
       "      <td>4.064621</td>\n",
       "      <td>7.500000</td>\n",
       "      <td>29.292000</td>\n",
       "      <td>86.814000</td>\n",
       "      <td>17.80000</td>\n",
       "      <td>300.000000</td>\n",
       "      <td>75.000000</td>\n",
       "    </tr>\n",
       "    <tr>\n",
       "      <th>std</th>\n",
       "      <td>1.676180</td>\n",
       "      <td>1.437508</td>\n",
       "      <td>1.488068</td>\n",
       "      <td>1.557161</td>\n",
       "      <td>1.549554</td>\n",
       "      <td>1.558785</td>\n",
       "      <td>1.556656</td>\n",
       "      <td>1.489586</td>\n",
       "      <td>1.435075</td>\n",
       "      <td>1.667435</td>\n",
       "      <td>...</td>\n",
       "      <td>1.517121</td>\n",
       "      <td>1.522789</td>\n",
       "      <td>1.521618</td>\n",
       "      <td>1.548369</td>\n",
       "      <td>1.064213</td>\n",
       "      <td>4.168894</td>\n",
       "      <td>12.319338</td>\n",
       "      <td>2.79501</td>\n",
       "      <td>141.895131</td>\n",
       "      <td>17.135465</td>\n",
       "    </tr>\n",
       "    <tr>\n",
       "      <th>min</th>\n",
       "      <td>2.571880</td>\n",
       "      <td>2.300370</td>\n",
       "      <td>2.460500</td>\n",
       "      <td>2.653040</td>\n",
       "      <td>2.812050</td>\n",
       "      <td>2.758520</td>\n",
       "      <td>2.662400</td>\n",
       "      <td>2.468210</td>\n",
       "      <td>2.300570</td>\n",
       "      <td>2.562290</td>\n",
       "      <td>...</td>\n",
       "      <td>1.344690</td>\n",
       "      <td>1.361060</td>\n",
       "      <td>1.363150</td>\n",
       "      <td>1.526770</td>\n",
       "      <td>6.000000</td>\n",
       "      <td>23.400000</td>\n",
       "      <td>69.450000</td>\n",
       "      <td>15.00000</td>\n",
       "      <td>100.000000</td>\n",
       "      <td>50.000000</td>\n",
       "    </tr>\n",
       "    <tr>\n",
       "      <th>25%</th>\n",
       "      <td>4.226940</td>\n",
       "      <td>3.870052</td>\n",
       "      <td>4.199460</td>\n",
       "      <td>4.464258</td>\n",
       "      <td>4.618362</td>\n",
       "      <td>4.562132</td>\n",
       "      <td>4.470840</td>\n",
       "      <td>4.209355</td>\n",
       "      <td>3.877628</td>\n",
       "      <td>4.215100</td>\n",
       "      <td>...</td>\n",
       "      <td>2.669050</td>\n",
       "      <td>2.691470</td>\n",
       "      <td>2.688280</td>\n",
       "      <td>2.893365</td>\n",
       "      <td>6.750000</td>\n",
       "      <td>26.370000</td>\n",
       "      <td>78.140000</td>\n",
       "      <td>16.00000</td>\n",
       "      <td>200.000000</td>\n",
       "      <td>60.000000</td>\n",
       "    </tr>\n",
       "    <tr>\n",
       "      <th>50%</th>\n",
       "      <td>5.308120</td>\n",
       "      <td>4.891590</td>\n",
       "      <td>5.248835</td>\n",
       "      <td>5.563540</td>\n",
       "      <td>5.643535</td>\n",
       "      <td>5.670120</td>\n",
       "      <td>5.567730</td>\n",
       "      <td>5.263615</td>\n",
       "      <td>4.895670</td>\n",
       "      <td>5.297930</td>\n",
       "      <td>...</td>\n",
       "      <td>3.581615</td>\n",
       "      <td>3.604750</td>\n",
       "      <td>3.601260</td>\n",
       "      <td>3.778145</td>\n",
       "      <td>7.500000</td>\n",
       "      <td>29.300000</td>\n",
       "      <td>86.800000</td>\n",
       "      <td>17.00000</td>\n",
       "      <td>300.000000</td>\n",
       "      <td>75.000000</td>\n",
       "    </tr>\n",
       "    <tr>\n",
       "      <th>75%</th>\n",
       "      <td>6.543668</td>\n",
       "      <td>5.851707</td>\n",
       "      <td>6.306390</td>\n",
       "      <td>6.701763</td>\n",
       "      <td>6.927365</td>\n",
       "      <td>6.837855</td>\n",
       "      <td>6.719325</td>\n",
       "      <td>6.325607</td>\n",
       "      <td>5.857160</td>\n",
       "      <td>6.518760</td>\n",
       "      <td>...</td>\n",
       "      <td>4.771163</td>\n",
       "      <td>4.802433</td>\n",
       "      <td>4.796015</td>\n",
       "      <td>5.043233</td>\n",
       "      <td>8.250000</td>\n",
       "      <td>32.230000</td>\n",
       "      <td>95.500000</td>\n",
       "      <td>18.00000</td>\n",
       "      <td>400.000000</td>\n",
       "      <td>90.000000</td>\n",
       "    </tr>\n",
       "    <tr>\n",
       "      <th>max</th>\n",
       "      <td>9.572020</td>\n",
       "      <td>8.909160</td>\n",
       "      <td>9.302760</td>\n",
       "      <td>9.662650</td>\n",
       "      <td>9.373610</td>\n",
       "      <td>9.538590</td>\n",
       "      <td>9.649070</td>\n",
       "      <td>9.311190</td>\n",
       "      <td>8.902310</td>\n",
       "      <td>9.540760</td>\n",
       "      <td>...</td>\n",
       "      <td>7.829960</td>\n",
       "      <td>7.860020</td>\n",
       "      <td>7.849290</td>\n",
       "      <td>8.189160</td>\n",
       "      <td>9.000000</td>\n",
       "      <td>35.160000</td>\n",
       "      <td>104.180000</td>\n",
       "      <td>23.00000</td>\n",
       "      <td>500.000000</td>\n",
       "      <td>100.000000</td>\n",
       "    </tr>\n",
       "  </tbody>\n",
       "</table>\n",
       "<p>8 rows × 889 columns</p>\n",
       "</div>"
      ],
      "text/plain": [
       "                1           2           3           4           5           6  \\\n",
       "count  150.000000  150.000000  150.000000  150.000000  150.000000  150.000000   \n",
       "mean     5.465572    4.998513    5.317887    5.665604    5.839753    5.795219   \n",
       "std      1.676180    1.437508    1.488068    1.557161    1.549554    1.558785   \n",
       "min      2.571880    2.300370    2.460500    2.653040    2.812050    2.758520   \n",
       "25%      4.226940    3.870052    4.199460    4.464258    4.618362    4.562132   \n",
       "50%      5.308120    4.891590    5.248835    5.563540    5.643535    5.670120   \n",
       "75%      6.543668    5.851707    6.306390    6.701763    6.927365    6.837855   \n",
       "max      9.572020    8.909160    9.302760    9.662650    9.373610    9.538590   \n",
       "\n",
       "                7           8           9          10  ...         880  \\\n",
       "count  150.000000  150.000000  150.000000  150.000000  ...  150.000000   \n",
       "mean     5.676951    5.331242    4.998807    5.447282  ...    3.841424   \n",
       "std      1.556656    1.489586    1.435075    1.667435  ...    1.517121   \n",
       "min      2.662400    2.468210    2.300570    2.562290  ...    1.344690   \n",
       "25%      4.470840    4.209355    3.877628    4.215100  ...    2.669050   \n",
       "50%      5.567730    5.263615    4.895670    5.297930  ...    3.581615   \n",
       "75%      6.719325    6.325607    5.857160    6.518760  ...    4.771163   \n",
       "max      9.649070    9.311190    8.902310    9.540760  ...    7.829960   \n",
       "\n",
       "              881         882         883  Pad_Thickness  Pad_Height  \\\n",
       "count  150.000000  150.000000  150.000000     150.000000  150.000000   \n",
       "mean     3.864986    3.860755    4.064621       7.500000   29.292000   \n",
       "std      1.522789    1.521618    1.548369       1.064213    4.168894   \n",
       "min      1.361060    1.363150    1.526770       6.000000   23.400000   \n",
       "25%      2.691470    2.688280    2.893365       6.750000   26.370000   \n",
       "50%      3.604750    3.601260    3.778145       7.500000   29.300000   \n",
       "75%      4.802433    4.796015    5.043233       8.250000   32.230000   \n",
       "max      7.860020    7.849290    8.189160       9.000000   35.160000   \n",
       "\n",
       "        Pad_Width  Pis_Radius  Youngs_Modulus  Applied_Pressure  \n",
       "count  150.000000   150.00000      150.000000        150.000000  \n",
       "mean    86.814000    17.80000      300.000000         75.000000  \n",
       "std     12.319338     2.79501      141.895131         17.135465  \n",
       "min     69.450000    15.00000      100.000000         50.000000  \n",
       "25%     78.140000    16.00000      200.000000         60.000000  \n",
       "50%     86.800000    17.00000      300.000000         75.000000  \n",
       "75%     95.500000    18.00000      400.000000         90.000000  \n",
       "max    104.180000    23.00000      500.000000        100.000000  \n",
       "\n",
       "[8 rows x 889 columns]"
      ]
     },
     "execution_count": 11,
     "metadata": {},
     "output_type": "execute_result"
    }
   ],
   "source": [
    "df.describe()"
   ]
  },
  {
   "cell_type": "markdown",
   "metadata": {},
   "source": [
    "# Univariate analysis"
   ]
  },
  {
   "cell_type": "code",
   "execution_count": 12,
   "metadata": {},
   "outputs": [
    {
     "name": "stderr",
     "output_type": "stream",
     "text": [
      "C:\\ProgramData\\Anaconda3\\lib\\site-packages\\seaborn\\_decorators.py:36: FutureWarning: Pass the following variable as a keyword arg: x. From version 0.12, the only valid positional argument will be `data`, and passing other arguments without an explicit keyword will result in an error or misinterpretation.\n",
      "  warnings.warn(\n"
     ]
    },
    {
     "data": {
      "text/plain": [
       "<AxesSubplot:xlabel='1'>"
      ]
     },
     "execution_count": 12,
     "metadata": {},
     "output_type": "execute_result"
    },
    {
     "data": {
      "image/png": "[encoded data removed]",
      "text/plain": [
       "<Figure size 432x288 with 1 Axes>"
      ]
     },
     "metadata": {
      "needs_background": "light"
     },
     "output_type": "display_data"
    }
   ],
   "source": [
    "sns.boxplot(df[\"1\"])"
   ]
  },
  {
   "cell_type": "code",
   "execution_count": 13,
   "metadata": {},
   "outputs": [
    {
     "name": "stdout",
     "output_type": "stream",
     "text": [
      "Pad_Thickness\n",
      "6.00    30\n",
      "6.75    30\n",
      "7.50    30\n",
      "8.25    30\n",
      "9.00    30\n",
      "Name: Pad_Thickness, dtype: int64\n"
     ]
    }
   ],
   "source": [
    "print(df.groupby('Pad_Thickness').Pad_Thickness.count())"
   ]
  },
  {
   "cell_type": "code",
   "execution_count": 14,
   "metadata": {},
   "outputs": [
    {
     "name": "stdout",
     "output_type": "stream",
     "text": [
      "Pad_Height\n",
      "23.40    30\n",
      "26.37    30\n",
      "29.30    30\n",
      "32.23    30\n",
      "35.16    30\n",
      "Name: Pad_Height, dtype: int64\n"
     ]
    }
   ],
   "source": [
    "print(df.groupby('Pad_Height').Pad_Height.count())"
   ]
  },
  {
   "cell_type": "code",
   "execution_count": 15,
   "metadata": {},
   "outputs": [
    {
     "name": "stdout",
     "output_type": "stream",
     "text": [
      "Pad_Width\n",
      "69.45     30\n",
      "78.14     30\n",
      "86.80     30\n",
      "95.50     30\n",
      "104.18    30\n",
      "Name: Pad_Width, dtype: int64\n"
     ]
    }
   ],
   "source": [
    "print(df.groupby('Pad_Width').Pad_Width.count())"
   ]
  },
  {
   "cell_type": "code",
   "execution_count": 16,
   "metadata": {},
   "outputs": [
    {
     "name": "stdout",
     "output_type": "stream",
     "text": [
      "Youngs_Modulus\n",
      "100    30\n",
      "200    30\n",
      "300    30\n",
      "400    30\n",
      "500    30\n",
      "Name: Youngs_Modulus, dtype: int64\n"
     ]
    }
   ],
   "source": [
    "print(df.groupby('Youngs_Modulus').Youngs_Modulus.count())"
   ]
  },
  {
   "cell_type": "code",
   "execution_count": 17,
   "metadata": {},
   "outputs": [
    {
     "data": {
      "text/plain": [
       "(array([12., 21., 25., 21., 21., 18., 14.,  6.,  7.,  5.]),\n",
       " array([2.57188 , 3.271894, 3.971908, 4.671922, 5.371936, 6.07195 ,\n",
       "        6.771964, 7.471978, 8.171992, 8.872006, 9.57202 ]),\n",
       " <BarContainer object of 10 artists>)"
      ]
     },
     "execution_count": 17,
     "metadata": {},
     "output_type": "execute_result"
    },
    {
     "data": {
      "image/png": "[encoded data removed]",
      "text/plain": [
       "<Figure size 432x288 with 1 Axes>"
      ]
     },
     "metadata": {
      "needs_background": "light"
     },
     "output_type": "display_data"
    }
   ],
   "source": [
    "plt.hist(df[\"1\"])"
   ]
  },
  {
   "cell_type": "markdown",
   "metadata": {},
   "source": [
    "# Bivariate analysis"
   ]
  },
  {
   "cell_type": "code",
   "execution_count": 18,
   "metadata": {},
   "outputs": [
    {
     "data": {
      "text/plain": [
       "<matplotlib.collections.PathCollection at 0x4546e4cb80>"
      ]
     },
     "execution_count": 18,
     "metadata": {},
     "output_type": "execute_result"
    },
    {
     "data": {
      "image/png": "[encoded data removed]",
      "text/plain": [
       "<Figure size 432x288 with 1 Axes>"
      ]
     },
     "metadata": {
      "needs_background": "light"
     },
     "output_type": "display_data"
    }
   ],
   "source": [
    "plt.scatter(y=df[\"1\"],x=df[\"Applied_Pressure\"])"
   ]
  },
  {
   "cell_type": "code",
   "execution_count": 19,
   "metadata": {},
   "outputs": [
    {
     "data": {
      "text/plain": [
       "<matplotlib.collections.PathCollection at 0x4546e9a5e0>"
      ]
     },
     "execution_count": 19,
     "metadata": {},
     "output_type": "execute_result"
    },
    {
     "data": {
      "image/png": "[encoded data removed]",
      "text/plain": [
       "<Figure size 432x288 with 1 Axes>"
      ]
     },
     "metadata": {
      "needs_background": "light"
     },
     "output_type": "display_data"
    }
   ],
   "source": [
    "plt.scatter(y=df[\"1\"],x=df[\"Pad_Thickness\"])"
   ]
  },
  {
   "cell_type": "code",
   "execution_count": 20,
   "metadata": {},
   "outputs": [
    {
     "data": {
      "text/plain": [
       "<matplotlib.collections.PathCollection at 0x4546e6c4f0>"
      ]
     },
     "execution_count": 20,
     "metadata": {},
     "output_type": "execute_result"
    },
    {
     "data": {
      "image/png": "[encoded data removed]",
      "text/plain": [
       "<Figure size 432x288 with 1 Axes>"
      ]
     },
     "metadata": {
      "needs_background": "light"
     },
     "output_type": "display_data"
    }
   ],
   "source": [
    "plt.scatter(y=df[\"1\"],x=df[\"Pad_Width\"])"
   ]
  },
  {
   "cell_type": "code",
   "execution_count": 21,
   "metadata": {},
   "outputs": [
    {
     "data": {
      "text/plain": [
       "<matplotlib.collections.PathCollection at 0x4546f2ec10>"
      ]
     },
     "execution_count": 21,
     "metadata": {},
     "output_type": "execute_result"
    },
    {
     "data": {
      "image/png": "[encoded data removed]",
      "text/plain": [
       "<Figure size 432x288 with 1 Axes>"
      ]
     },
     "metadata": {
      "needs_background": "light"
     },
     "output_type": "display_data"
    }
   ],
   "source": [
    "plt.scatter(y=df[\"1\"],x=df[\"Pad_Height\"])"
   ]
  },
  {
   "cell_type": "code",
   "execution_count": 22,
   "metadata": {},
   "outputs": [
    {
     "data": {
      "text/plain": [
       "<matplotlib.collections.PathCollection at 0x4546ccfa60>"
      ]
     },
     "execution_count": 22,
     "metadata": {},
     "output_type": "execute_result"
    },
    {
     "data": {
      "image/png": "[encoded data removed]",
      "text/plain": [
       "<Figure size 432x288 with 1 Axes>"
      ]
     },
     "metadata": {
      "needs_background": "light"
     },
     "output_type": "display_data"
    }
   ],
   "source": [
    "plt.scatter(y=df[\"1\"],x=df[\"Pis_Radius\"])"
   ]
  },
  {
   "cell_type": "code",
   "execution_count": 23,
   "metadata": {},
   "outputs": [
    {
     "data": {
      "text/plain": [
       "<matplotlib.collections.PathCollection at 0x4546d395b0>"
      ]
     },
     "execution_count": 23,
     "metadata": {},
     "output_type": "execute_result"
    },
    {
     "data": {
      "image/png": "[encoded data removed]",
      "text/plain": [
       "<Figure size 432x288 with 1 Axes>"
      ]
     },
     "metadata": {
      "needs_background": "light"
     },
     "output_type": "display_data"
    }
   ],
   "source": [
    "plt.scatter(y=df[\"1\"],x=df[\"Youngs_Modulus\"])"
   ]
  },
  {
   "cell_type": "code",
   "execution_count": 24,
   "metadata": {},
   "outputs": [
    {
     "data": {
      "text/plain": [
       "<AxesSubplot:xlabel='Pad_Thickness', ylabel='1'>"
      ]
     },
     "execution_count": 24,
     "metadata": {},
     "output_type": "execute_result"
    },
    {
     "data": {
      "image/png": "[encoded data removed]",
      "text/plain": [
       "<Figure size 432x288 with 1 Axes>"
      ]
     },
     "metadata": {
      "needs_background": "light"
     },
     "output_type": "display_data"
    }
   ],
   "source": [
    "sns.scatterplot(hue=df[\"Applied_Pressure\"],x=df[\"Pad_Thickness\"],y=df[\"1\"])"
   ]
  },
  {
   "cell_type": "code",
   "execution_count": 25,
   "metadata": {},
   "outputs": [
    {
     "data": {
      "text/plain": [
       "<AxesSubplot:xlabel='Pad_Height', ylabel='1'>"
      ]
     },
     "execution_count": 25,
     "metadata": {},
     "output_type": "execute_result"
    },
    {
     "data": {
      "image/png": "[encoded data removed]",
      "text/plain": [
       "<Figure size 432x288 with 1 Axes>"
      ]
     },
     "metadata": {
      "needs_background": "light"
     },
     "output_type": "display_data"
    }
   ],
   "source": [
    "sns.scatterplot(hue=df[\"Applied_Pressure\"],x=df[\"Pad_Height\"],y=df[\"1\"])"
   ]
  },
  {
   "cell_type": "markdown",
   "metadata": {},
   "source": [
    "# Data prep"
   ]
  },
  {
   "cell_type": "code",
   "execution_count": 26,
   "metadata": {},
   "outputs": [],
   "source": [
    "df[\"Design\"]=df[\"Design\"].astype('category')"
   ]
  },
  {
   "cell_type": "markdown",
   "metadata": {},
   "source": [
    "df.replace(to_replace=\"Design_1\",value=1,inplace=True)\n",
    "df.replace(to_replace=\"Design_2\",value=2,inplace=True)\n",
    "df.replace(to_replace=\"Design_3\",value=3,inplace=True)\n",
    "df.replace(to_replace=\"Design_4\",value=4,inplace=True)"
   ]
  },
  {
   "cell_type": "markdown",
   "metadata": {},
   "source": [
    "df[\"Design\"]=pd.to_numeric(df[\"Design\"])"
   ]
  },
  {
   "cell_type": "code",
   "execution_count": 27,
   "metadata": {},
   "outputs": [],
   "source": [
    "#import model specific libraries\n",
    "from sklearn.model_selection import train_test_split\n",
    "\n",
    "X=df[[\"Applied_Pressure\",\"Pis_Radius\",\"Pad_Thickness\",\"Pad_Height\",\"Pad_Width\",\"Youngs_Modulus\"]]\n",
    "y=df[\"1\"]"
   ]
  },
  {
   "cell_type": "code",
   "execution_count": 28,
   "metadata": {},
   "outputs": [
    {
     "data": {
      "text/plain": [
       "((150, 6), (150,))"
      ]
     },
     "execution_count": 28,
     "metadata": {},
     "output_type": "execute_result"
    }
   ],
   "source": [
    "X.shape,y.shape"
   ]
  },
  {
   "cell_type": "code",
   "execution_count": 29,
   "metadata": {},
   "outputs": [
    {
     "data": {
      "text/html": [
       "<div>\n",
       "<style scoped>\n",
       "    .dataframe tbody tr th:only-of-type {\n",
       "        vertical-align: middle;\n",
       "    }\n",
       "\n",
       "    .dataframe tbody tr th {\n",
       "        vertical-align: top;\n",
       "    }\n",
       "\n",
       "    .dataframe thead th {\n",
       "        text-align: right;\n",
       "    }\n",
       "</style>\n",
       "<table border=\"1\" class=\"dataframe\">\n",
       "  <thead>\n",
       "    <tr style=\"text-align: right;\">\n",
       "      <th></th>\n",
       "      <th>Applied_Pressure</th>\n",
       "      <th>Pis_Radius</th>\n",
       "      <th>Pad_Thickness</th>\n",
       "      <th>Pad_Height</th>\n",
       "      <th>Pad_Width</th>\n",
       "      <th>Youngs_Modulus</th>\n",
       "    </tr>\n",
       "  </thead>\n",
       "  <tbody>\n",
       "    <tr>\n",
       "      <th>0</th>\n",
       "      <td>50.0</td>\n",
       "      <td>15</td>\n",
       "      <td>7.5</td>\n",
       "      <td>29.30</td>\n",
       "      <td>86.80</td>\n",
       "      <td>100</td>\n",
       "    </tr>\n",
       "    <tr>\n",
       "      <th>1</th>\n",
       "      <td>60.0</td>\n",
       "      <td>15</td>\n",
       "      <td>7.5</td>\n",
       "      <td>29.30</td>\n",
       "      <td>86.80</td>\n",
       "      <td>100</td>\n",
       "    </tr>\n",
       "    <tr>\n",
       "      <th>2</th>\n",
       "      <td>70.0</td>\n",
       "      <td>15</td>\n",
       "      <td>7.5</td>\n",
       "      <td>29.30</td>\n",
       "      <td>86.80</td>\n",
       "      <td>100</td>\n",
       "    </tr>\n",
       "    <tr>\n",
       "      <th>3</th>\n",
       "      <td>80.0</td>\n",
       "      <td>15</td>\n",
       "      <td>7.5</td>\n",
       "      <td>29.30</td>\n",
       "      <td>86.80</td>\n",
       "      <td>100</td>\n",
       "    </tr>\n",
       "    <tr>\n",
       "      <th>4</th>\n",
       "      <td>90.0</td>\n",
       "      <td>15</td>\n",
       "      <td>7.5</td>\n",
       "      <td>29.30</td>\n",
       "      <td>86.80</td>\n",
       "      <td>100</td>\n",
       "    </tr>\n",
       "    <tr>\n",
       "      <th>...</th>\n",
       "      <td>...</td>\n",
       "      <td>...</td>\n",
       "      <td>...</td>\n",
       "      <td>...</td>\n",
       "      <td>...</td>\n",
       "      <td>...</td>\n",
       "    </tr>\n",
       "    <tr>\n",
       "      <th>145</th>\n",
       "      <td>60.0</td>\n",
       "      <td>23</td>\n",
       "      <td>9.0</td>\n",
       "      <td>35.16</td>\n",
       "      <td>104.18</td>\n",
       "      <td>500</td>\n",
       "    </tr>\n",
       "    <tr>\n",
       "      <th>146</th>\n",
       "      <td>70.0</td>\n",
       "      <td>23</td>\n",
       "      <td>9.0</td>\n",
       "      <td>35.16</td>\n",
       "      <td>104.18</td>\n",
       "      <td>500</td>\n",
       "    </tr>\n",
       "    <tr>\n",
       "      <th>147</th>\n",
       "      <td>80.0</td>\n",
       "      <td>23</td>\n",
       "      <td>9.0</td>\n",
       "      <td>35.16</td>\n",
       "      <td>104.18</td>\n",
       "      <td>500</td>\n",
       "    </tr>\n",
       "    <tr>\n",
       "      <th>148</th>\n",
       "      <td>90.0</td>\n",
       "      <td>23</td>\n",
       "      <td>9.0</td>\n",
       "      <td>35.16</td>\n",
       "      <td>104.18</td>\n",
       "      <td>500</td>\n",
       "    </tr>\n",
       "    <tr>\n",
       "      <th>149</th>\n",
       "      <td>100.0</td>\n",
       "      <td>23</td>\n",
       "      <td>9.0</td>\n",
       "      <td>35.16</td>\n",
       "      <td>104.18</td>\n",
       "      <td>500</td>\n",
       "    </tr>\n",
       "  </tbody>\n",
       "</table>\n",
       "<p>150 rows × 6 columns</p>\n",
       "</div>"
      ],
      "text/plain": [
       "     Applied_Pressure  Pis_Radius  Pad_Thickness  Pad_Height  Pad_Width  \\\n",
       "0                50.0          15            7.5       29.30      86.80   \n",
       "1                60.0          15            7.5       29.30      86.80   \n",
       "2                70.0          15            7.5       29.30      86.80   \n",
       "3                80.0          15            7.5       29.30      86.80   \n",
       "4                90.0          15            7.5       29.30      86.80   \n",
       "..                ...         ...            ...         ...        ...   \n",
       "145              60.0          23            9.0       35.16     104.18   \n",
       "146              70.0          23            9.0       35.16     104.18   \n",
       "147              80.0          23            9.0       35.16     104.18   \n",
       "148              90.0          23            9.0       35.16     104.18   \n",
       "149             100.0          23            9.0       35.16     104.18   \n",
       "\n",
       "     Youngs_Modulus  \n",
       "0               100  \n",
       "1               100  \n",
       "2               100  \n",
       "3               100  \n",
       "4               100  \n",
       "..              ...  \n",
       "145             500  \n",
       "146             500  \n",
       "147             500  \n",
       "148             500  \n",
       "149             500  \n",
       "\n",
       "[150 rows x 6 columns]"
      ]
     },
     "execution_count": 29,
     "metadata": {},
     "output_type": "execute_result"
    }
   ],
   "source": [
    "X"
   ]
  },
  {
   "cell_type": "code",
   "execution_count": 30,
   "metadata": {},
   "outputs": [
    {
     "data": {
      "text/plain": [
       "0      2.57188\n",
       "1      3.16330\n",
       "2      3.76559\n",
       "3      4.37665\n",
       "4      4.99506\n",
       "        ...   \n",
       "145    4.69565\n",
       "146    5.58157\n",
       "147    6.48573\n",
       "148    7.40586\n",
       "149    8.34007\n",
       "Name: 1, Length: 150, dtype: float64"
      ]
     },
     "execution_count": 30,
     "metadata": {},
     "output_type": "execute_result"
    }
   ],
   "source": [
    "y"
   ]
  },
  {
   "cell_type": "code",
   "execution_count": 31,
   "metadata": {},
   "outputs": [],
   "source": [
    "#Split the data into training and test data (70/30 ratio)\n",
    "X_train,X_test,y_train,y_test=train_test_split(X,y,test_size=0.3, random_state=100)"
   ]
  },
  {
   "cell_type": "code",
   "execution_count": null,
   "metadata": {},
   "outputs": [],
   "source": []
  },
  {
   "cell_type": "markdown",
   "metadata": {},
   "source": [
    "# Model Building with single target"
   ]
  },
  {
   "cell_type": "markdown",
   "metadata": {},
   "source": [
    "# 1.Linear Regression"
   ]
  },
  {
   "cell_type": "markdown",
   "metadata": {},
   "source": [
    "from sklearn.linear_model import LinearRegression"
   ]
  },
  {
   "cell_type": "markdown",
   "metadata": {},
   "source": [
    "lr = LinearRegression()\n",
    "lr = lr.fit(X_train,y_train)"
   ]
  },
  {
   "cell_type": "markdown",
   "metadata": {},
   "source": [
    "J"
   ]
  },
  {
   "cell_type": "markdown",
   "metadata": {},
   "source": [
    "print(\"Linear Regression --Training accuracy : \",lr.score(X_train, y_train))\n",
    "print(\"Linear Regression --Test accuracy : \",lr.score(X_test, y_test))"
   ]
  },
  {
   "cell_type": "markdown",
   "metadata": {},
   "source": [
    "pred = lr.predict(X_test)"
   ]
  },
  {
   "cell_type": "markdown",
   "metadata": {},
   "source": [
    "comparisontab = pd.DataFrame({'Actual': y_test, 'Predicted': pred})"
   ]
  },
  {
   "cell_type": "markdown",
   "metadata": {},
   "source": [
    "comparisontab.head(10)"
   ]
  },
  {
   "cell_type": "markdown",
   "metadata": {},
   "source": [
    "# 2.Decision Tress"
   ]
  },
  {
   "cell_type": "markdown",
   "metadata": {},
   "source": [
    "from sklearn.tree import DecisionTreeRegressor"
   ]
  },
  {
   "cell_type": "markdown",
   "metadata": {},
   "source": [
    "dtregr_1 = DecisionTreeRegressor(max_depth=2)\n",
    "dtregr_2 = DecisionTreeRegressor(max_depth=5)\n",
    "dtregr_3 = DecisionTreeRegressor(max_depth=8)\n",
    "dtregr_1.fit(X_train, y_train)\n",
    "dtregr_2.fit(X_train, y_train)\n",
    "dtregr_3.fit(X_train, y_train)"
   ]
  },
  {
   "cell_type": "markdown",
   "metadata": {},
   "source": [
    "#Model1\n",
    "print(\"Model 1---Training  :\", dtregr_1.score(X_train, y_train))\n",
    "print(\"Model 1---Testing  :\", dtregr_1.score(X_test, y_test))"
   ]
  },
  {
   "cell_type": "markdown",
   "metadata": {},
   "source": [
    "#Model2\n",
    "print(\"Model 2---Training  :\", dtregr_2.score(X_train, y_train))\n",
    "print(\"Model 2---Testing  :\", dtregr_2.score(X_test, y_test))"
   ]
  },
  {
   "cell_type": "markdown",
   "metadata": {},
   "source": [
    "#Model3\n",
    "print(\"Model 3---Training  :\", dtregr_3.score(X_train, y_train))\n",
    "print(\"Model 3---Testing  :\", dtregr_3.score(X_test, y_test))"
   ]
  },
  {
   "cell_type": "markdown",
   "metadata": {},
   "source": [
    "# 3.Random forest"
   ]
  },
  {
   "cell_type": "markdown",
   "metadata": {},
   "source": [
    "from sklearn.ensemble import RandomForestRegressor"
   ]
  },
  {
   "cell_type": "markdown",
   "metadata": {},
   "source": [
    "#Only Random forest regressor\n",
    "max_depth=30\n",
    "rf_Model=RandomForestRegressor(n_estimators=100,max_depth=max_depth,random_state=100)\n",
    "rf_Model.fit(X_train,y_train)"
   ]
  },
  {
   "cell_type": "markdown",
   "metadata": {},
   "source": [
    "print(\"RF Regression --Training accuracy : \",rf_Model.score(X_train, y_train))\n",
    "print(\"RF Regression --Test accuracy : \",rf_Model.score(X_test, y_test))"
   ]
  },
  {
   "cell_type": "markdown",
   "metadata": {},
   "source": [
    "# 4. SVM"
   ]
  },
  {
   "cell_type": "markdown",
   "metadata": {},
   "source": [
    "from sklearn.svm import LinearSVR"
   ]
  },
  {
   "cell_type": "markdown",
   "metadata": {},
   "source": [
    "svr1=LinearSVR()\n",
    "svr1.fit(X_train,y_train)"
   ]
  },
  {
   "cell_type": "markdown",
   "metadata": {},
   "source": [
    "print(\"SVM Regression --Training accuracy : \",svr1.score(X_train, y_train))\n",
    "print(\"SVM Regression --Test accuracy : \",svr1.score(X_test, y_test))"
   ]
  },
  {
   "cell_type": "markdown",
   "metadata": {},
   "source": [
    "# 5. NN"
   ]
  },
  {
   "cell_type": "markdown",
   "metadata": {},
   "source": [
    "from keras.models import Sequential\n",
    "from keras.layers import Dense"
   ]
  },
  {
   "cell_type": "markdown",
   "metadata": {},
   "source": [
    "nn_model = Sequential()\n",
    "nn_model.add(Dense(20, input_dim=6, kernel_initializer='he_uniform', activation='relu'))\n",
    "nn_model.add(Dense(1, kernel_initializer='he_uniform'))\n",
    "nn_model.compile(loss='mae', optimizer='adam')"
   ]
  },
  {
   "cell_type": "markdown",
   "metadata": {},
   "source": [
    "nn_model.fit(X_train,y_train,verbose=0,epochs=10)"
   ]
  },
  {
   "cell_type": "markdown",
   "metadata": {},
   "source": [
    "loss_train=nn_model.evaluate(X_train,y_train,verbose=1)"
   ]
  },
  {
   "cell_type": "markdown",
   "metadata": {},
   "source": [
    "loss_test=nn_model.evaluate(X_test,y_test,verbose=1)"
   ]
  },
  {
   "cell_type": "markdown",
   "metadata": {},
   "source": [
    "print(\"NN--Train Loss : \",loss_train)\n",
    "print(\"NN--Test Loss : \",loss_test)"
   ]
  },
  {
   "cell_type": "markdown",
   "metadata": {},
   "source": [
    "# 6. XGBoost"
   ]
  },
  {
   "cell_type": "markdown",
   "metadata": {},
   "source": [
    "import xgboost as xgb"
   ]
  },
  {
   "cell_type": "markdown",
   "metadata": {},
   "source": [
    "xg_model=xgb.XGBRegressor(objective='reg:squarederror').fit(X_train,y_train)\n",
    "print(\"XGBoost Model--Train accuracy : \",xg_model.score(X_train,y_train))\n",
    "print(\"XGBoost Model--Test accuracy : \",xg_model.score(X_test,y_test))"
   ]
  },
  {
   "cell_type": "markdown",
   "metadata": {},
   "source": [
    "#Range\n",
    "# Pad thickness-- 6 to 9 mm\n",
    "# Pad width--69 to 104 mm\n",
    "# Pad height --23.4 to 35.16 mm\n",
    "# Piston radius--15 to 23 mm\n",
    "# Applied _Pressure--50 to 100 bar\n",
    "# Youngs_Mo--100 to 500 GPa"
   ]
  },
  {
   "cell_type": "markdown",
   "metadata": {},
   "source": [
    "# Model Building with mutiple target"
   ]
  },
  {
   "cell_type": "markdown",
   "metadata": {},
   "source": [
    "# 1. MultiOutputRegressor"
   ]
  },
  {
   "cell_type": "code",
   "execution_count": 32,
   "metadata": {},
   "outputs": [],
   "source": [
    "y_multi=df.iloc[:,0:883]"
   ]
  },
  {
   "cell_type": "code",
   "execution_count": 33,
   "metadata": {},
   "outputs": [
    {
     "data": {
      "text/html": [
       "<div>\n",
       "<style scoped>\n",
       "    .dataframe tbody tr th:only-of-type {\n",
       "        vertical-align: middle;\n",
       "    }\n",
       "\n",
       "    .dataframe tbody tr th {\n",
       "        vertical-align: top;\n",
       "    }\n",
       "\n",
       "    .dataframe thead th {\n",
       "        text-align: right;\n",
       "    }\n",
       "</style>\n",
       "<table border=\"1\" class=\"dataframe\">\n",
       "  <thead>\n",
       "    <tr style=\"text-align: right;\">\n",
       "      <th></th>\n",
       "      <th>1</th>\n",
       "      <th>2</th>\n",
       "      <th>3</th>\n",
       "      <th>4</th>\n",
       "      <th>5</th>\n",
       "      <th>6</th>\n",
       "      <th>7</th>\n",
       "      <th>8</th>\n",
       "      <th>9</th>\n",
       "      <th>10</th>\n",
       "      <th>...</th>\n",
       "      <th>874</th>\n",
       "      <th>875</th>\n",
       "      <th>876</th>\n",
       "      <th>877</th>\n",
       "      <th>878</th>\n",
       "      <th>879</th>\n",
       "      <th>880</th>\n",
       "      <th>881</th>\n",
       "      <th>882</th>\n",
       "      <th>883</th>\n",
       "    </tr>\n",
       "  </thead>\n",
       "  <tbody>\n",
       "    <tr>\n",
       "      <th>0</th>\n",
       "      <td>2.57188</td>\n",
       "      <td>2.30037</td>\n",
       "      <td>2.46050</td>\n",
       "      <td>2.65304</td>\n",
       "      <td>2.81205</td>\n",
       "      <td>2.75852</td>\n",
       "      <td>2.66240</td>\n",
       "      <td>2.46821</td>\n",
       "      <td>2.30057</td>\n",
       "      <td>2.56229</td>\n",
       "      <td>...</td>\n",
       "      <td>1.50749</td>\n",
       "      <td>2.73289</td>\n",
       "      <td>2.79201</td>\n",
       "      <td>2.81998</td>\n",
       "      <td>2.84751</td>\n",
       "      <td>1.68822</td>\n",
       "      <td>1.71832</td>\n",
       "      <td>1.72637</td>\n",
       "      <td>1.72359</td>\n",
       "      <td>1.81010</td>\n",
       "    </tr>\n",
       "    <tr>\n",
       "      <th>1</th>\n",
       "      <td>3.16330</td>\n",
       "      <td>2.76536</td>\n",
       "      <td>2.94005</td>\n",
       "      <td>3.17009</td>\n",
       "      <td>3.36315</td>\n",
       "      <td>3.29799</td>\n",
       "      <td>3.18142</td>\n",
       "      <td>2.94898</td>\n",
       "      <td>2.76447</td>\n",
       "      <td>3.15023</td>\n",
       "      <td>...</td>\n",
       "      <td>1.80557</td>\n",
       "      <td>3.26674</td>\n",
       "      <td>3.33872</td>\n",
       "      <td>3.37299</td>\n",
       "      <td>3.40595</td>\n",
       "      <td>2.02178</td>\n",
       "      <td>2.05845</td>\n",
       "      <td>2.06827</td>\n",
       "      <td>2.06496</td>\n",
       "      <td>2.16817</td>\n",
       "    </tr>\n",
       "    <tr>\n",
       "      <th>2</th>\n",
       "      <td>3.76559</td>\n",
       "      <td>3.22990</td>\n",
       "      <td>3.41703</td>\n",
       "      <td>3.68470</td>\n",
       "      <td>3.91224</td>\n",
       "      <td>3.83530</td>\n",
       "      <td>3.69804</td>\n",
       "      <td>3.42718</td>\n",
       "      <td>3.22778</td>\n",
       "      <td>3.74881</td>\n",
       "      <td>...</td>\n",
       "      <td>2.10329</td>\n",
       "      <td>3.79833</td>\n",
       "      <td>3.88338</td>\n",
       "      <td>3.92407</td>\n",
       "      <td>3.96245</td>\n",
       "      <td>2.35454</td>\n",
       "      <td>2.39795</td>\n",
       "      <td>2.40960</td>\n",
       "      <td>2.40582</td>\n",
       "      <td>2.52562</td>\n",
       "    </tr>\n",
       "    <tr>\n",
       "      <th>3</th>\n",
       "      <td>4.37665</td>\n",
       "      <td>3.69413</td>\n",
       "      <td>3.89217</td>\n",
       "      <td>4.19759</td>\n",
       "      <td>4.45998</td>\n",
       "      <td>4.37113</td>\n",
       "      <td>4.21299</td>\n",
       "      <td>3.90353</td>\n",
       "      <td>3.69071</td>\n",
       "      <td>4.35597</td>\n",
       "      <td>...</td>\n",
       "      <td>2.40061</td>\n",
       "      <td>4.32837</td>\n",
       "      <td>4.42663</td>\n",
       "      <td>4.47384</td>\n",
       "      <td>4.51763</td>\n",
       "      <td>2.68667</td>\n",
       "      <td>2.73693</td>\n",
       "      <td>2.75046</td>\n",
       "      <td>2.74624</td>\n",
       "      <td>2.88259</td>\n",
       "    </tr>\n",
       "    <tr>\n",
       "      <th>4</th>\n",
       "      <td>4.99506</td>\n",
       "      <td>4.15829</td>\n",
       "      <td>4.36606</td>\n",
       "      <td>4.70939</td>\n",
       "      <td>5.00690</td>\n",
       "      <td>4.90605</td>\n",
       "      <td>4.72688</td>\n",
       "      <td>4.37863</td>\n",
       "      <td>4.15347</td>\n",
       "      <td>4.97035</td>\n",
       "      <td>...</td>\n",
       "      <td>2.69747</td>\n",
       "      <td>4.85745</td>\n",
       "      <td>4.96905</td>\n",
       "      <td>5.02284</td>\n",
       "      <td>5.07203</td>\n",
       "      <td>3.01819</td>\n",
       "      <td>3.07538</td>\n",
       "      <td>3.09081</td>\n",
       "      <td>3.08615</td>\n",
       "      <td>3.23906</td>\n",
       "    </tr>\n",
       "    <tr>\n",
       "      <th>...</th>\n",
       "      <td>...</td>\n",
       "      <td>...</td>\n",
       "      <td>...</td>\n",
       "      <td>...</td>\n",
       "      <td>...</td>\n",
       "      <td>...</td>\n",
       "      <td>...</td>\n",
       "      <td>...</td>\n",
       "      <td>...</td>\n",
       "      <td>...</td>\n",
       "      <td>...</td>\n",
       "      <td>...</td>\n",
       "      <td>...</td>\n",
       "      <td>...</td>\n",
       "      <td>...</td>\n",
       "      <td>...</td>\n",
       "      <td>...</td>\n",
       "      <td>...</td>\n",
       "      <td>...</td>\n",
       "      <td>...</td>\n",
       "      <td>...</td>\n",
       "    </tr>\n",
       "    <tr>\n",
       "      <th>145</th>\n",
       "      <td>4.69565</td>\n",
       "      <td>4.65226</td>\n",
       "      <td>5.05105</td>\n",
       "      <td>5.38355</td>\n",
       "      <td>5.53332</td>\n",
       "      <td>5.49802</td>\n",
       "      <td>5.39403</td>\n",
       "      <td>5.06573</td>\n",
       "      <td>4.65937</td>\n",
       "      <td>4.68745</td>\n",
       "      <td>...</td>\n",
       "      <td>3.05916</td>\n",
       "      <td>5.47651</td>\n",
       "      <td>5.52773</td>\n",
       "      <td>5.52918</td>\n",
       "      <td>5.54669</td>\n",
       "      <td>3.47644</td>\n",
       "      <td>3.55282</td>\n",
       "      <td>3.57869</td>\n",
       "      <td>3.57322</td>\n",
       "      <td>3.78704</td>\n",
       "    </tr>\n",
       "    <tr>\n",
       "      <th>146</th>\n",
       "      <td>5.58157</td>\n",
       "      <td>5.44008</td>\n",
       "      <td>5.87921</td>\n",
       "      <td>6.26379</td>\n",
       "      <td>6.43948</td>\n",
       "      <td>6.39772</td>\n",
       "      <td>6.27584</td>\n",
       "      <td>5.89560</td>\n",
       "      <td>5.44657</td>\n",
       "      <td>5.56986</td>\n",
       "      <td>...</td>\n",
       "      <td>3.56557</td>\n",
       "      <td>6.37247</td>\n",
       "      <td>6.43281</td>\n",
       "      <td>6.43488</td>\n",
       "      <td>6.45474</td>\n",
       "      <td>4.05397</td>\n",
       "      <td>4.14273</td>\n",
       "      <td>4.17243</td>\n",
       "      <td>4.16562</td>\n",
       "      <td>4.41352</td>\n",
       "    </tr>\n",
       "    <tr>\n",
       "      <th>147</th>\n",
       "      <td>6.48573</td>\n",
       "      <td>6.22831</td>\n",
       "      <td>6.70329</td>\n",
       "      <td>7.13965</td>\n",
       "      <td>7.34196</td>\n",
       "      <td>7.29344</td>\n",
       "      <td>7.15330</td>\n",
       "      <td>6.72131</td>\n",
       "      <td>6.23388</td>\n",
       "      <td>6.47013</td>\n",
       "      <td>...</td>\n",
       "      <td>4.07197</td>\n",
       "      <td>7.26429</td>\n",
       "      <td>7.33405</td>\n",
       "      <td>7.33699</td>\n",
       "      <td>7.35924</td>\n",
       "      <td>4.63023</td>\n",
       "      <td>4.73149</td>\n",
       "      <td>4.76508</td>\n",
       "      <td>4.75700</td>\n",
       "      <td>5.03859</td>\n",
       "    </tr>\n",
       "    <tr>\n",
       "      <th>148</th>\n",
       "      <td>7.40586</td>\n",
       "      <td>7.01669</td>\n",
       "      <td>7.52366</td>\n",
       "      <td>8.01160</td>\n",
       "      <td>8.24117</td>\n",
       "      <td>8.18562</td>\n",
       "      <td>8.02689</td>\n",
       "      <td>7.54326</td>\n",
       "      <td>7.02110</td>\n",
       "      <td>7.38602</td>\n",
       "      <td>...</td>\n",
       "      <td>4.57837</td>\n",
       "      <td>8.15243</td>\n",
       "      <td>8.23189</td>\n",
       "      <td>8.23592</td>\n",
       "      <td>8.26058</td>\n",
       "      <td>5.20535</td>\n",
       "      <td>5.31924</td>\n",
       "      <td>5.35677</td>\n",
       "      <td>5.34751</td>\n",
       "      <td>5.66244</td>\n",
       "    </tr>\n",
       "    <tr>\n",
       "      <th>149</th>\n",
       "      <td>8.34007</td>\n",
       "      <td>7.80503</td>\n",
       "      <td>8.34066</td>\n",
       "      <td>8.88004</td>\n",
       "      <td>9.13745</td>\n",
       "      <td>9.07463</td>\n",
       "      <td>8.89701</td>\n",
       "      <td>8.36180</td>\n",
       "      <td>7.80808</td>\n",
       "      <td>8.31570</td>\n",
       "      <td>...</td>\n",
       "      <td>5.08478</td>\n",
       "      <td>9.03729</td>\n",
       "      <td>9.12669</td>\n",
       "      <td>9.13200</td>\n",
       "      <td>9.15910</td>\n",
       "      <td>5.77941</td>\n",
       "      <td>5.90607</td>\n",
       "      <td>5.94761</td>\n",
       "      <td>5.93725</td>\n",
       "      <td>6.28522</td>\n",
       "    </tr>\n",
       "  </tbody>\n",
       "</table>\n",
       "<p>150 rows × 883 columns</p>\n",
       "</div>"
      ],
      "text/plain": [
       "           1        2        3        4        5        6        7        8  \\\n",
       "0    2.57188  2.30037  2.46050  2.65304  2.81205  2.75852  2.66240  2.46821   \n",
       "1    3.16330  2.76536  2.94005  3.17009  3.36315  3.29799  3.18142  2.94898   \n",
       "2    3.76559  3.22990  3.41703  3.68470  3.91224  3.83530  3.69804  3.42718   \n",
       "3    4.37665  3.69413  3.89217  4.19759  4.45998  4.37113  4.21299  3.90353   \n",
       "4    4.99506  4.15829  4.36606  4.70939  5.00690  4.90605  4.72688  4.37863   \n",
       "..       ...      ...      ...      ...      ...      ...      ...      ...   \n",
       "145  4.69565  4.65226  5.05105  5.38355  5.53332  5.49802  5.39403  5.06573   \n",
       "146  5.58157  5.44008  5.87921  6.26379  6.43948  6.39772  6.27584  5.89560   \n",
       "147  6.48573  6.22831  6.70329  7.13965  7.34196  7.29344  7.15330  6.72131   \n",
       "148  7.40586  7.01669  7.52366  8.01160  8.24117  8.18562  8.02689  7.54326   \n",
       "149  8.34007  7.80503  8.34066  8.88004  9.13745  9.07463  8.89701  8.36180   \n",
       "\n",
       "           9       10  ...      874      875      876      877      878  \\\n",
       "0    2.30057  2.56229  ...  1.50749  2.73289  2.79201  2.81998  2.84751   \n",
       "1    2.76447  3.15023  ...  1.80557  3.26674  3.33872  3.37299  3.40595   \n",
       "2    3.22778  3.74881  ...  2.10329  3.79833  3.88338  3.92407  3.96245   \n",
       "3    3.69071  4.35597  ...  2.40061  4.32837  4.42663  4.47384  4.51763   \n",
       "4    4.15347  4.97035  ...  2.69747  4.85745  4.96905  5.02284  5.07203   \n",
       "..       ...      ...  ...      ...      ...      ...      ...      ...   \n",
       "145  4.65937  4.68745  ...  3.05916  5.47651  5.52773  5.52918  5.54669   \n",
       "146  5.44657  5.56986  ...  3.56557  6.37247  6.43281  6.43488  6.45474   \n",
       "147  6.23388  6.47013  ...  4.07197  7.26429  7.33405  7.33699  7.35924   \n",
       "148  7.02110  7.38602  ...  4.57837  8.15243  8.23189  8.23592  8.26058   \n",
       "149  7.80808  8.31570  ...  5.08478  9.03729  9.12669  9.13200  9.15910   \n",
       "\n",
       "         879      880      881      882      883  \n",
       "0    1.68822  1.71832  1.72637  1.72359  1.81010  \n",
       "1    2.02178  2.05845  2.06827  2.06496  2.16817  \n",
       "2    2.35454  2.39795  2.40960  2.40582  2.52562  \n",
       "3    2.68667  2.73693  2.75046  2.74624  2.88259  \n",
       "4    3.01819  3.07538  3.09081  3.08615  3.23906  \n",
       "..       ...      ...      ...      ...      ...  \n",
       "145  3.47644  3.55282  3.57869  3.57322  3.78704  \n",
       "146  4.05397  4.14273  4.17243  4.16562  4.41352  \n",
       "147  4.63023  4.73149  4.76508  4.75700  5.03859  \n",
       "148  5.20535  5.31924  5.35677  5.34751  5.66244  \n",
       "149  5.77941  5.90607  5.94761  5.93725  6.28522  \n",
       "\n",
       "[150 rows x 883 columns]"
      ]
     },
     "execution_count": 33,
     "metadata": {},
     "output_type": "execute_result"
    }
   ],
   "source": [
    "y_multi"
   ]
  },
  {
   "cell_type": "code",
   "execution_count": 34,
   "metadata": {},
   "outputs": [],
   "source": [
    "X1_train,X1_test,y1_train,y1_test=train_test_split(X,y_multi,test_size=0.3,random_state=100)"
   ]
  },
  {
   "cell_type": "code",
   "execution_count": 35,
   "metadata": {},
   "outputs": [],
   "source": [
    "from sklearn.multioutput import MultiOutputRegressor\n",
    "from sklearn.linear_model import RidgeCV\n",
    "from sklearn.model_selection import KFold\n",
    "from sklearn.linear_model import LinearRegression"
   ]
  },
  {
   "cell_type": "code",
   "execution_count": 36,
   "metadata": {},
   "outputs": [],
   "source": [
    "kf = KFold(n_splits=10,shuffle=True)"
   ]
  },
  {
   "cell_type": "code",
   "execution_count": 37,
   "metadata": {},
   "outputs": [],
   "source": [
    "Model1= MultiOutputRegressor(RidgeCV(cv=kf)).fit(X1_train, y1_train)"
   ]
  },
  {
   "cell_type": "code",
   "execution_count": 38,
   "metadata": {},
   "outputs": [
    {
     "data": {
      "text/plain": [
       "0.8283310781352661"
      ]
     },
     "execution_count": 38,
     "metadata": {},
     "output_type": "execute_result"
    }
   ],
   "source": [
    "Model1.score(X1_train,y1_train)"
   ]
  },
  {
   "cell_type": "code",
   "execution_count": 39,
   "metadata": {},
   "outputs": [
    {
     "data": {
      "text/plain": [
       "0.7470060927365381"
      ]
     },
     "execution_count": 39,
     "metadata": {},
     "output_type": "execute_result"
    }
   ],
   "source": [
    "Model1.score(X1_test,y1_test)"
   ]
  },
  {
   "cell_type": "code",
   "execution_count": 40,
   "metadata": {},
   "outputs": [
    {
     "name": "stdout",
     "output_type": "stream",
     "text": [
      "0.8381018418197433\n",
      "0.7733034382653442\n"
     ]
    }
   ],
   "source": [
    "Model12 = LinearRegression().fit(X1_train, y1_train)\n",
    "print(Model12.score(X1_train,y1_train))\n",
    "print(Model12.score(X1_test,y1_test))"
   ]
  },
  {
   "cell_type": "code",
   "execution_count": 41,
   "metadata": {},
   "outputs": [],
   "source": [
    "y_pred1 = Model1.predict(X1_test)\n",
    "y_pred12 = Model12.predict(X1_test)"
   ]
  },
  {
   "cell_type": "code",
   "execution_count": 42,
   "metadata": {},
   "outputs": [
    {
     "data": {
      "text/plain": [
       "[<matplotlib.lines.Line2D at 0x4540f9c970>]"
      ]
     },
     "execution_count": 42,
     "metadata": {},
     "output_type": "execute_result"
    },
    {
     "data": {
      "image/png": "[encoded data removed]",
      "text/plain": [
       "<Figure size 432x288 with 1 Axes>"
      ]
     },
     "metadata": {
      "needs_background": "light"
     },
     "output_type": "display_data"
    }
   ],
   "source": [
    "plt.scatter(y1_test.iloc[:,1], y_pred1[:,1])\n",
    "plt.plot(range(10), range(10))"
   ]
  },
  {
   "cell_type": "code",
   "execution_count": 43,
   "metadata": {},
   "outputs": [
    {
     "data": {
      "text/plain": [
       "[<matplotlib.lines.Line2D at 0x4540ff9730>]"
      ]
     },
     "execution_count": 43,
     "metadata": {},
     "output_type": "execute_result"
    },
    {
     "data": {
      "image/png": "[encoded data removed]",
      "text/plain": [
       "<Figure size 432x288 with 1 Axes>"
      ]
     },
     "metadata": {
      "needs_background": "light"
     },
     "output_type": "display_data"
    }
   ],
   "source": [
    "plt.scatter(y1_test.iloc[:,1], y_pred12[:,1])\n",
    "plt.plot(range(10), range(10))"
   ]
  },
  {
   "cell_type": "markdown",
   "metadata": {},
   "source": [
    "# 2.Decision tree"
   ]
  },
  {
   "cell_type": "code",
   "execution_count": 44,
   "metadata": {},
   "outputs": [],
   "source": [
    "from sklearn.tree import DecisionTreeRegressor\n",
    "from sklearn import tree\n"
   ]
  },
  {
   "cell_type": "code",
   "execution_count": 45,
   "metadata": {},
   "outputs": [
    {
     "data": {
      "text/plain": [
       "DecisionTreeRegressor(max_depth=8)"
      ]
     },
     "execution_count": 45,
     "metadata": {},
     "output_type": "execute_result"
    }
   ],
   "source": [
    "regr_1 = DecisionTreeRegressor(max_depth=2)\n",
    "regr_2 = DecisionTreeRegressor(max_depth=5)\n",
    "regr_3 = DecisionTreeRegressor(max_depth=8)\n",
    "regr_1.fit(X1_train, y1_train)\n",
    "regr_2.fit(X1_train, y1_train)\n",
    "regr_3.fit(X1_train, y1_train)"
   ]
  },
  {
   "cell_type": "code",
   "execution_count": null,
   "metadata": {},
   "outputs": [],
   "source": []
  },
  {
   "cell_type": "code",
   "execution_count": 46,
   "metadata": {},
   "outputs": [],
   "source": [
    "y_1 = regr_1.predict(X1_test)\n",
    "y_2 = regr_2.predict(X1_test)\n",
    "y_3 = regr_3.predict(X1_test)"
   ]
  },
  {
   "cell_type": "code",
   "execution_count": 47,
   "metadata": {},
   "outputs": [
    {
     "name": "stdout",
     "output_type": "stream",
     "text": [
      "Model 1---Training  : 0.5520705096263814\n",
      "Model 1---Testing  : 0.39878289052480015\n"
     ]
    }
   ],
   "source": [
    "#Model1\n",
    "print(\"Model 1---Training  :\", regr_1.score(X1_train, y1_train))\n",
    "print(\"Model 1---Testing  :\", regr_1.score(X1_test, y1_test))"
   ]
  },
  {
   "cell_type": "code",
   "execution_count": 48,
   "metadata": {},
   "outputs": [
    {
     "name": "stdout",
     "output_type": "stream",
     "text": [
      "Model 1---Training  : 0.9303035736244186\n",
      "Model 1---Testing  : 0.7911170543478367\n"
     ]
    }
   ],
   "source": [
    "#Model2\n",
    "print(\"Model 1---Training  :\", regr_2.score(X1_train, y1_train))\n",
    "print(\"Model 1---Testing  :\", regr_2.score(X1_test, y1_test))"
   ]
  },
  {
   "cell_type": "code",
   "execution_count": 49,
   "metadata": {},
   "outputs": [
    {
     "name": "stdout",
     "output_type": "stream",
     "text": [
      "Model 1---Training  : 0.9982511505706\n",
      "Model 1---Testing  : 0.5941435733210837\n"
     ]
    }
   ],
   "source": [
    "#Model3\n",
    "print(\"Model 1---Training  :\", regr_3.score(X1_train, y1_train))\n",
    "print(\"Model 1---Testing  :\", regr_3.score(X1_test, y1_test))"
   ]
  },
  {
   "cell_type": "code",
   "execution_count": 118,
   "metadata": {},
   "outputs": [
    {
     "name": "stdout",
     "output_type": "stream",
     "text": [
      "Error in callback <function flush_figures at 0x0000006E75744DC0> (for post_execute):\n"
     ]
    },
    {
     "ename": "KeyboardInterrupt",
     "evalue": "",
     "output_type": "error",
     "traceback": [
      "\u001b[1;31m---------------------------------------------------------------------------\u001b[0m",
      "\u001b[1;31mKeyboardInterrupt\u001b[0m                         Traceback (most recent call last)",
      "\u001b[1;32mC:\\ProgramData\\Anaconda3\\lib\\site-packages\\ipykernel\\pylab\\backend_inline.py\u001b[0m in \u001b[0;36mflush_figures\u001b[1;34m()\u001b[0m\n\u001b[0;32m    119\u001b[0m         \u001b[1;31m# ignore the tracking, just draw and close all figures\u001b[0m\u001b[1;33m\u001b[0m\u001b[1;33m\u001b[0m\u001b[1;33m\u001b[0m\u001b[0m\n\u001b[0;32m    120\u001b[0m         \u001b[1;32mtry\u001b[0m\u001b[1;33m:\u001b[0m\u001b[1;33m\u001b[0m\u001b[1;33m\u001b[0m\u001b[0m\n\u001b[1;32m--> 121\u001b[1;33m             \u001b[1;32mreturn\u001b[0m \u001b[0mshow\u001b[0m\u001b[1;33m(\u001b[0m\u001b[1;32mTrue\u001b[0m\u001b[1;33m)\u001b[0m\u001b[1;33m\u001b[0m\u001b[1;33m\u001b[0m\u001b[0m\n\u001b[0m\u001b[0;32m    122\u001b[0m         \u001b[1;32mexcept\u001b[0m \u001b[0mException\u001b[0m \u001b[1;32mas\u001b[0m \u001b[0me\u001b[0m\u001b[1;33m:\u001b[0m\u001b[1;33m\u001b[0m\u001b[1;33m\u001b[0m\u001b[0m\n\u001b[0;32m    123\u001b[0m             \u001b[1;31m# safely show traceback if in IPython, else raise\u001b[0m\u001b[1;33m\u001b[0m\u001b[1;33m\u001b[0m\u001b[1;33m\u001b[0m\u001b[0m\n",
      "\u001b[1;32mC:\\ProgramData\\Anaconda3\\lib\\site-packages\\ipykernel\\pylab\\backend_inline.py\u001b[0m in \u001b[0;36mshow\u001b[1;34m(close, block)\u001b[0m\n\u001b[0;32m     39\u001b[0m     \u001b[1;32mtry\u001b[0m\u001b[1;33m:\u001b[0m\u001b[1;33m\u001b[0m\u001b[1;33m\u001b[0m\u001b[0m\n\u001b[0;32m     40\u001b[0m         \u001b[1;32mfor\u001b[0m \u001b[0mfigure_manager\u001b[0m \u001b[1;32min\u001b[0m \u001b[0mGcf\u001b[0m\u001b[1;33m.\u001b[0m\u001b[0mget_all_fig_managers\u001b[0m\u001b[1;33m(\u001b[0m\u001b[1;33m)\u001b[0m\u001b[1;33m:\u001b[0m\u001b[1;33m\u001b[0m\u001b[1;33m\u001b[0m\u001b[0m\n\u001b[1;32m---> 41\u001b[1;33m             display(\n\u001b[0m\u001b[0;32m     42\u001b[0m                 \u001b[0mfigure_manager\u001b[0m\u001b[1;33m.\u001b[0m\u001b[0mcanvas\u001b[0m\u001b[1;33m.\u001b[0m\u001b[0mfigure\u001b[0m\u001b[1;33m,\u001b[0m\u001b[1;33m\u001b[0m\u001b[1;33m\u001b[0m\u001b[0m\n\u001b[0;32m     43\u001b[0m                 \u001b[0mmetadata\u001b[0m\u001b[1;33m=\u001b[0m\u001b[0m_fetch_figure_metadata\u001b[0m\u001b[1;33m(\u001b[0m\u001b[0mfigure_manager\u001b[0m\u001b[1;33m.\u001b[0m\u001b[0mcanvas\u001b[0m\u001b[1;33m.\u001b[0m\u001b[0mfigure\u001b[0m\u001b[1;33m)\u001b[0m\u001b[1;33m\u001b[0m\u001b[1;33m\u001b[0m\u001b[0m\n",
      "\u001b[1;32mC:\\ProgramData\\Anaconda3\\lib\\site-packages\\IPython\\core\\display.py\u001b[0m in \u001b[0;36mdisplay\u001b[1;34m(include, exclude, metadata, transient, display_id, *objs, **kwargs)\u001b[0m\n\u001b[0;32m    311\u001b[0m             \u001b[0mpublish_display_data\u001b[0m\u001b[1;33m(\u001b[0m\u001b[0mdata\u001b[0m\u001b[1;33m=\u001b[0m\u001b[0mobj\u001b[0m\u001b[1;33m,\u001b[0m \u001b[0mmetadata\u001b[0m\u001b[1;33m=\u001b[0m\u001b[0mmetadata\u001b[0m\u001b[1;33m,\u001b[0m \u001b[1;33m**\u001b[0m\u001b[0mkwargs\u001b[0m\u001b[1;33m)\u001b[0m\u001b[1;33m\u001b[0m\u001b[1;33m\u001b[0m\u001b[0m\n\u001b[0;32m    312\u001b[0m         \u001b[1;32melse\u001b[0m\u001b[1;33m:\u001b[0m\u001b[1;33m\u001b[0m\u001b[1;33m\u001b[0m\u001b[0m\n\u001b[1;32m--> 313\u001b[1;33m             \u001b[0mformat_dict\u001b[0m\u001b[1;33m,\u001b[0m \u001b[0mmd_dict\u001b[0m \u001b[1;33m=\u001b[0m \u001b[0mformat\u001b[0m\u001b[1;33m(\u001b[0m\u001b[0mobj\u001b[0m\u001b[1;33m,\u001b[0m \u001b[0minclude\u001b[0m\u001b[1;33m=\u001b[0m\u001b[0minclude\u001b[0m\u001b[1;33m,\u001b[0m \u001b[0mexclude\u001b[0m\u001b[1;33m=\u001b[0m\u001b[0mexclude\u001b[0m\u001b[1;33m)\u001b[0m\u001b[1;33m\u001b[0m\u001b[1;33m\u001b[0m\u001b[0m\n\u001b[0m\u001b[0;32m    314\u001b[0m             \u001b[1;32mif\u001b[0m \u001b[1;32mnot\u001b[0m \u001b[0mformat_dict\u001b[0m\u001b[1;33m:\u001b[0m\u001b[1;33m\u001b[0m\u001b[1;33m\u001b[0m\u001b[0m\n\u001b[0;32m    315\u001b[0m                 \u001b[1;31m# nothing to display (e.g. _ipython_display_ took over)\u001b[0m\u001b[1;33m\u001b[0m\u001b[1;33m\u001b[0m\u001b[1;33m\u001b[0m\u001b[0m\n",
      "\u001b[1;32mC:\\ProgramData\\Anaconda3\\lib\\site-packages\\IPython\\core\\formatters.py\u001b[0m in \u001b[0;36mformat\u001b[1;34m(self, obj, include, exclude)\u001b[0m\n\u001b[0;32m    178\u001b[0m             \u001b[0mmd\u001b[0m \u001b[1;33m=\u001b[0m \u001b[1;32mNone\u001b[0m\u001b[1;33m\u001b[0m\u001b[1;33m\u001b[0m\u001b[0m\n\u001b[0;32m    179\u001b[0m             \u001b[1;32mtry\u001b[0m\u001b[1;33m:\u001b[0m\u001b[1;33m\u001b[0m\u001b[1;33m\u001b[0m\u001b[0m\n\u001b[1;32m--> 180\u001b[1;33m                 \u001b[0mdata\u001b[0m \u001b[1;33m=\u001b[0m \u001b[0mformatter\u001b[0m\u001b[1;33m(\u001b[0m\u001b[0mobj\u001b[0m\u001b[1;33m)\u001b[0m\u001b[1;33m\u001b[0m\u001b[1;33m\u001b[0m\u001b[0m\n\u001b[0m\u001b[0;32m    181\u001b[0m             \u001b[1;32mexcept\u001b[0m\u001b[1;33m:\u001b[0m\u001b[1;33m\u001b[0m\u001b[1;33m\u001b[0m\u001b[0m\n\u001b[0;32m    182\u001b[0m                 \u001b[1;31m# FIXME: log the exception\u001b[0m\u001b[1;33m\u001b[0m\u001b[1;33m\u001b[0m\u001b[1;33m\u001b[0m\u001b[0m\n",
      "\u001b[1;32m<decorator-gen-2>\u001b[0m in \u001b[0;36m__call__\u001b[1;34m(self, obj)\u001b[0m\n",
      "\u001b[1;32mC:\\ProgramData\\Anaconda3\\lib\\site-packages\\IPython\\core\\formatters.py\u001b[0m in \u001b[0;36mcatch_format_error\u001b[1;34m(method, self, *args, **kwargs)\u001b[0m\n\u001b[0;32m    222\u001b[0m     \u001b[1;34m\"\"\"show traceback on failed format call\"\"\"\u001b[0m\u001b[1;33m\u001b[0m\u001b[1;33m\u001b[0m\u001b[0m\n\u001b[0;32m    223\u001b[0m     \u001b[1;32mtry\u001b[0m\u001b[1;33m:\u001b[0m\u001b[1;33m\u001b[0m\u001b[1;33m\u001b[0m\u001b[0m\n\u001b[1;32m--> 224\u001b[1;33m         \u001b[0mr\u001b[0m \u001b[1;33m=\u001b[0m \u001b[0mmethod\u001b[0m\u001b[1;33m(\u001b[0m\u001b[0mself\u001b[0m\u001b[1;33m,\u001b[0m \u001b[1;33m*\u001b[0m\u001b[0margs\u001b[0m\u001b[1;33m,\u001b[0m \u001b[1;33m**\u001b[0m\u001b[0mkwargs\u001b[0m\u001b[1;33m)\u001b[0m\u001b[1;33m\u001b[0m\u001b[1;33m\u001b[0m\u001b[0m\n\u001b[0m\u001b[0;32m    225\u001b[0m     \u001b[1;32mexcept\u001b[0m \u001b[0mNotImplementedError\u001b[0m\u001b[1;33m:\u001b[0m\u001b[1;33m\u001b[0m\u001b[1;33m\u001b[0m\u001b[0m\n\u001b[0;32m    226\u001b[0m         \u001b[1;31m# don't warn on NotImplementedErrors\u001b[0m\u001b[1;33m\u001b[0m\u001b[1;33m\u001b[0m\u001b[1;33m\u001b[0m\u001b[0m\n",
      "\u001b[1;32mC:\\ProgramData\\Anaconda3\\lib\\site-packages\\IPython\\core\\formatters.py\u001b[0m in \u001b[0;36m__call__\u001b[1;34m(self, obj)\u001b[0m\n\u001b[0;32m    339\u001b[0m                 \u001b[1;32mpass\u001b[0m\u001b[1;33m\u001b[0m\u001b[1;33m\u001b[0m\u001b[0m\n\u001b[0;32m    340\u001b[0m             \u001b[1;32melse\u001b[0m\u001b[1;33m:\u001b[0m\u001b[1;33m\u001b[0m\u001b[1;33m\u001b[0m\u001b[0m\n\u001b[1;32m--> 341\u001b[1;33m                 \u001b[1;32mreturn\u001b[0m \u001b[0mprinter\u001b[0m\u001b[1;33m(\u001b[0m\u001b[0mobj\u001b[0m\u001b[1;33m)\u001b[0m\u001b[1;33m\u001b[0m\u001b[1;33m\u001b[0m\u001b[0m\n\u001b[0m\u001b[0;32m    342\u001b[0m             \u001b[1;31m# Finally look for special method names\u001b[0m\u001b[1;33m\u001b[0m\u001b[1;33m\u001b[0m\u001b[1;33m\u001b[0m\u001b[0m\n\u001b[0;32m    343\u001b[0m             \u001b[0mmethod\u001b[0m \u001b[1;33m=\u001b[0m \u001b[0mget_real_method\u001b[0m\u001b[1;33m(\u001b[0m\u001b[0mobj\u001b[0m\u001b[1;33m,\u001b[0m \u001b[0mself\u001b[0m\u001b[1;33m.\u001b[0m\u001b[0mprint_method\u001b[0m\u001b[1;33m)\u001b[0m\u001b[1;33m\u001b[0m\u001b[1;33m\u001b[0m\u001b[0m\n",
      "\u001b[1;32mC:\\ProgramData\\Anaconda3\\lib\\site-packages\\IPython\\core\\pylabtools.py\u001b[0m in \u001b[0;36m<lambda>\u001b[1;34m(fig)\u001b[0m\n\u001b[0;32m    246\u001b[0m \u001b[1;33m\u001b[0m\u001b[0m\n\u001b[0;32m    247\u001b[0m     \u001b[1;32mif\u001b[0m \u001b[1;34m'png'\u001b[0m \u001b[1;32min\u001b[0m \u001b[0mformats\u001b[0m\u001b[1;33m:\u001b[0m\u001b[1;33m\u001b[0m\u001b[1;33m\u001b[0m\u001b[0m\n\u001b[1;32m--> 248\u001b[1;33m         \u001b[0mpng_formatter\u001b[0m\u001b[1;33m.\u001b[0m\u001b[0mfor_type\u001b[0m\u001b[1;33m(\u001b[0m\u001b[0mFigure\u001b[0m\u001b[1;33m,\u001b[0m \u001b[1;32mlambda\u001b[0m \u001b[0mfig\u001b[0m\u001b[1;33m:\u001b[0m \u001b[0mprint_figure\u001b[0m\u001b[1;33m(\u001b[0m\u001b[0mfig\u001b[0m\u001b[1;33m,\u001b[0m \u001b[1;34m'png'\u001b[0m\u001b[1;33m,\u001b[0m \u001b[1;33m**\u001b[0m\u001b[0mkwargs\u001b[0m\u001b[1;33m)\u001b[0m\u001b[1;33m)\u001b[0m\u001b[1;33m\u001b[0m\u001b[1;33m\u001b[0m\u001b[0m\n\u001b[0m\u001b[0;32m    249\u001b[0m     \u001b[1;32mif\u001b[0m \u001b[1;34m'retina'\u001b[0m \u001b[1;32min\u001b[0m \u001b[0mformats\u001b[0m \u001b[1;32mor\u001b[0m \u001b[1;34m'png2x'\u001b[0m \u001b[1;32min\u001b[0m \u001b[0mformats\u001b[0m\u001b[1;33m:\u001b[0m\u001b[1;33m\u001b[0m\u001b[1;33m\u001b[0m\u001b[0m\n\u001b[0;32m    250\u001b[0m         \u001b[0mpng_formatter\u001b[0m\u001b[1;33m.\u001b[0m\u001b[0mfor_type\u001b[0m\u001b[1;33m(\u001b[0m\u001b[0mFigure\u001b[0m\u001b[1;33m,\u001b[0m \u001b[1;32mlambda\u001b[0m \u001b[0mfig\u001b[0m\u001b[1;33m:\u001b[0m \u001b[0mretina_figure\u001b[0m\u001b[1;33m(\u001b[0m\u001b[0mfig\u001b[0m\u001b[1;33m,\u001b[0m \u001b[1;33m**\u001b[0m\u001b[0mkwargs\u001b[0m\u001b[1;33m)\u001b[0m\u001b[1;33m)\u001b[0m\u001b[1;33m\u001b[0m\u001b[1;33m\u001b[0m\u001b[0m\n",
      "\u001b[1;32mC:\\ProgramData\\Anaconda3\\lib\\site-packages\\IPython\\core\\pylabtools.py\u001b[0m in \u001b[0;36mprint_figure\u001b[1;34m(fig, fmt, bbox_inches, **kwargs)\u001b[0m\n\u001b[0;32m    130\u001b[0m         \u001b[0mFigureCanvasBase\u001b[0m\u001b[1;33m(\u001b[0m\u001b[0mfig\u001b[0m\u001b[1;33m)\u001b[0m\u001b[1;33m\u001b[0m\u001b[1;33m\u001b[0m\u001b[0m\n\u001b[0;32m    131\u001b[0m \u001b[1;33m\u001b[0m\u001b[0m\n\u001b[1;32m--> 132\u001b[1;33m     \u001b[0mfig\u001b[0m\u001b[1;33m.\u001b[0m\u001b[0mcanvas\u001b[0m\u001b[1;33m.\u001b[0m\u001b[0mprint_figure\u001b[0m\u001b[1;33m(\u001b[0m\u001b[0mbytes_io\u001b[0m\u001b[1;33m,\u001b[0m \u001b[1;33m**\u001b[0m\u001b[0mkw\u001b[0m\u001b[1;33m)\u001b[0m\u001b[1;33m\u001b[0m\u001b[1;33m\u001b[0m\u001b[0m\n\u001b[0m\u001b[0;32m    133\u001b[0m     \u001b[0mdata\u001b[0m \u001b[1;33m=\u001b[0m \u001b[0mbytes_io\u001b[0m\u001b[1;33m.\u001b[0m\u001b[0mgetvalue\u001b[0m\u001b[1;33m(\u001b[0m\u001b[1;33m)\u001b[0m\u001b[1;33m\u001b[0m\u001b[1;33m\u001b[0m\u001b[0m\n\u001b[0;32m    134\u001b[0m     \u001b[1;32mif\u001b[0m \u001b[0mfmt\u001b[0m \u001b[1;33m==\u001b[0m \u001b[1;34m'svg'\u001b[0m\u001b[1;33m:\u001b[0m\u001b[1;33m\u001b[0m\u001b[1;33m\u001b[0m\u001b[0m\n",
      "\u001b[1;32mC:\\ProgramData\\Anaconda3\\lib\\site-packages\\matplotlib\\backend_bases.py\u001b[0m in \u001b[0;36mprint_figure\u001b[1;34m(self, filename, dpi, facecolor, edgecolor, orientation, format, bbox_inches, pad_inches, bbox_extra_artists, backend, **kwargs)\u001b[0m\n\u001b[0;32m   2193\u001b[0m                         \u001b[0mself\u001b[0m\u001b[1;33m.\u001b[0m\u001b[0mfigure\u001b[0m\u001b[1;33m.\u001b[0m\u001b[0mdraw\u001b[0m\u001b[1;33m(\u001b[0m\u001b[0mrenderer\u001b[0m\u001b[1;33m)\u001b[0m\u001b[1;33m\u001b[0m\u001b[1;33m\u001b[0m\u001b[0m\n\u001b[0;32m   2194\u001b[0m \u001b[1;33m\u001b[0m\u001b[0m\n\u001b[1;32m-> 2195\u001b[1;33m                     bbox_inches = self.figure.get_tightbbox(\n\u001b[0m\u001b[0;32m   2196\u001b[0m                         renderer, bbox_extra_artists=bbox_extra_artists)\n\u001b[0;32m   2197\u001b[0m                     \u001b[1;32mif\u001b[0m \u001b[0mpad_inches\u001b[0m \u001b[1;32mis\u001b[0m \u001b[1;32mNone\u001b[0m\u001b[1;33m:\u001b[0m\u001b[1;33m\u001b[0m\u001b[1;33m\u001b[0m\u001b[0m\n",
      "\u001b[1;32mC:\\ProgramData\\Anaconda3\\lib\\site-packages\\matplotlib\\figure.py\u001b[0m in \u001b[0;36mget_tightbbox\u001b[1;34m(self, renderer, bbox_extra_artists)\u001b[0m\n\u001b[0;32m   2513\u001b[0m                 \u001b[1;31m# need this conditional....\u001b[0m\u001b[1;33m\u001b[0m\u001b[1;33m\u001b[0m\u001b[1;33m\u001b[0m\u001b[0m\n\u001b[0;32m   2514\u001b[0m                 \u001b[1;32mtry\u001b[0m\u001b[1;33m:\u001b[0m\u001b[1;33m\u001b[0m\u001b[1;33m\u001b[0m\u001b[0m\n\u001b[1;32m-> 2515\u001b[1;33m                     bbox = ax.get_tightbbox(\n\u001b[0m\u001b[0;32m   2516\u001b[0m                         renderer, bbox_extra_artists=bbox_extra_artists)\n\u001b[0;32m   2517\u001b[0m                 \u001b[1;32mexcept\u001b[0m \u001b[0mTypeError\u001b[0m\u001b[1;33m:\u001b[0m\u001b[1;33m\u001b[0m\u001b[1;33m\u001b[0m\u001b[0m\n",
      "\u001b[1;32mC:\\ProgramData\\Anaconda3\\lib\\site-packages\\matplotlib\\axes\\_base.py\u001b[0m in \u001b[0;36mget_tightbbox\u001b[1;34m(self, renderer, call_axes_locator, bbox_extra_artists, for_layout_only)\u001b[0m\n\u001b[0;32m   4200\u001b[0m                     \u001b[1;31m# this artist\u001b[0m\u001b[1;33m\u001b[0m\u001b[1;33m\u001b[0m\u001b[1;33m\u001b[0m\u001b[0m\n\u001b[0;32m   4201\u001b[0m                     \u001b[1;32mcontinue\u001b[0m\u001b[1;33m\u001b[0m\u001b[1;33m\u001b[0m\u001b[0m\n\u001b[1;32m-> 4202\u001b[1;33m             \u001b[0mbbox\u001b[0m \u001b[1;33m=\u001b[0m \u001b[0ma\u001b[0m\u001b[1;33m.\u001b[0m\u001b[0mget_tightbbox\u001b[0m\u001b[1;33m(\u001b[0m\u001b[0mrenderer\u001b[0m\u001b[1;33m)\u001b[0m\u001b[1;33m\u001b[0m\u001b[1;33m\u001b[0m\u001b[0m\n\u001b[0m\u001b[0;32m   4203\u001b[0m             if (bbox is not None\n\u001b[0;32m   4204\u001b[0m                     \u001b[1;32mand\u001b[0m \u001b[1;36m0\u001b[0m \u001b[1;33m<\u001b[0m \u001b[0mbbox\u001b[0m\u001b[1;33m.\u001b[0m\u001b[0mwidth\u001b[0m \u001b[1;33m<\u001b[0m \u001b[0mnp\u001b[0m\u001b[1;33m.\u001b[0m\u001b[0minf\u001b[0m\u001b[1;33m\u001b[0m\u001b[1;33m\u001b[0m\u001b[0m\n",
      "\u001b[1;32mC:\\ProgramData\\Anaconda3\\lib\\site-packages\\matplotlib\\artist.py\u001b[0m in \u001b[0;36mget_tightbbox\u001b[1;34m(self, renderer)\u001b[0m\n\u001b[0;32m    276\u001b[0m             \u001b[0mThe\u001b[0m \u001b[0menclosing\u001b[0m \u001b[0mbounding\u001b[0m \u001b[0mbox\u001b[0m \u001b[1;33m(\u001b[0m\u001b[1;32min\u001b[0m \u001b[0mfigure\u001b[0m \u001b[0mpixel\u001b[0m \u001b[0mcoordinates\u001b[0m\u001b[1;33m)\u001b[0m\u001b[1;33m.\u001b[0m\u001b[1;33m\u001b[0m\u001b[1;33m\u001b[0m\u001b[0m\n\u001b[0;32m    277\u001b[0m         \"\"\"\n\u001b[1;32m--> 278\u001b[1;33m         \u001b[0mbbox\u001b[0m \u001b[1;33m=\u001b[0m \u001b[0mself\u001b[0m\u001b[1;33m.\u001b[0m\u001b[0mget_window_extent\u001b[0m\u001b[1;33m(\u001b[0m\u001b[0mrenderer\u001b[0m\u001b[1;33m)\u001b[0m\u001b[1;33m\u001b[0m\u001b[1;33m\u001b[0m\u001b[0m\n\u001b[0m\u001b[0;32m    279\u001b[0m         \u001b[1;32mif\u001b[0m \u001b[0mself\u001b[0m\u001b[1;33m.\u001b[0m\u001b[0mget_clip_on\u001b[0m\u001b[1;33m(\u001b[0m\u001b[1;33m)\u001b[0m\u001b[1;33m:\u001b[0m\u001b[1;33m\u001b[0m\u001b[1;33m\u001b[0m\u001b[0m\n\u001b[0;32m    280\u001b[0m             \u001b[0mclip_box\u001b[0m \u001b[1;33m=\u001b[0m \u001b[0mself\u001b[0m\u001b[1;33m.\u001b[0m\u001b[0mget_clip_box\u001b[0m\u001b[1;33m(\u001b[0m\u001b[1;33m)\u001b[0m\u001b[1;33m\u001b[0m\u001b[1;33m\u001b[0m\u001b[0m\n",
      "\u001b[1;32mC:\\ProgramData\\Anaconda3\\lib\\site-packages\\matplotlib\\text.py\u001b[0m in \u001b[0;36mget_window_extent\u001b[1;34m(self, renderer)\u001b[0m\n\u001b[0;32m   1922\u001b[0m             \u001b[1;32mraise\u001b[0m \u001b[0mRuntimeError\u001b[0m\u001b[1;33m(\u001b[0m\u001b[1;34m'Cannot get window extent w/o renderer'\u001b[0m\u001b[1;33m)\u001b[0m\u001b[1;33m\u001b[0m\u001b[1;33m\u001b[0m\u001b[0m\n\u001b[0;32m   1923\u001b[0m \u001b[1;33m\u001b[0m\u001b[0m\n\u001b[1;32m-> 1924\u001b[1;33m         \u001b[0mself\u001b[0m\u001b[1;33m.\u001b[0m\u001b[0mupdate_positions\u001b[0m\u001b[1;33m(\u001b[0m\u001b[0mself\u001b[0m\u001b[1;33m.\u001b[0m\u001b[0m_renderer\u001b[0m\u001b[1;33m)\u001b[0m\u001b[1;33m\u001b[0m\u001b[1;33m\u001b[0m\u001b[0m\n\u001b[0m\u001b[0;32m   1925\u001b[0m \u001b[1;33m\u001b[0m\u001b[0m\n\u001b[0;32m   1926\u001b[0m         \u001b[0mtext_bbox\u001b[0m \u001b[1;33m=\u001b[0m \u001b[0mText\u001b[0m\u001b[1;33m.\u001b[0m\u001b[0mget_window_extent\u001b[0m\u001b[1;33m(\u001b[0m\u001b[0mself\u001b[0m\u001b[1;33m)\u001b[0m\u001b[1;33m\u001b[0m\u001b[1;33m\u001b[0m\u001b[0m\n",
      "\u001b[1;32mC:\\ProgramData\\Anaconda3\\lib\\site-packages\\matplotlib\\text.py\u001b[0m in \u001b[0;36mupdate_positions\u001b[1;34m(self, renderer)\u001b[0m\n\u001b[0;32m   1817\u001b[0m             \u001b[1;32mreturn\u001b[0m\u001b[1;33m\u001b[0m\u001b[1;33m\u001b[0m\u001b[0m\n\u001b[0;32m   1818\u001b[0m \u001b[1;33m\u001b[0m\u001b[0m\n\u001b[1;32m-> 1819\u001b[1;33m         \u001b[0mbbox\u001b[0m \u001b[1;33m=\u001b[0m \u001b[0mText\u001b[0m\u001b[1;33m.\u001b[0m\u001b[0mget_window_extent\u001b[0m\u001b[1;33m(\u001b[0m\u001b[0mself\u001b[0m\u001b[1;33m,\u001b[0m \u001b[0mrenderer\u001b[0m\u001b[1;33m)\u001b[0m\u001b[1;33m\u001b[0m\u001b[1;33m\u001b[0m\u001b[0m\n\u001b[0m\u001b[0;32m   1820\u001b[0m \u001b[1;33m\u001b[0m\u001b[0m\n\u001b[0;32m   1821\u001b[0m         \u001b[0md\u001b[0m \u001b[1;33m=\u001b[0m \u001b[0mself\u001b[0m\u001b[1;33m.\u001b[0m\u001b[0marrowprops\u001b[0m\u001b[1;33m.\u001b[0m\u001b[0mcopy\u001b[0m\u001b[1;33m(\u001b[0m\u001b[1;33m)\u001b[0m\u001b[1;33m\u001b[0m\u001b[1;33m\u001b[0m\u001b[0m\n",
      "\u001b[1;32mC:\\ProgramData\\Anaconda3\\lib\\site-packages\\matplotlib\\text.py\u001b[0m in \u001b[0;36mget_window_extent\u001b[1;34m(self, renderer, dpi)\u001b[0m\n\u001b[0;32m    898\u001b[0m \u001b[1;33m\u001b[0m\u001b[0m\n\u001b[0;32m    899\u001b[0m         \u001b[1;32mwith\u001b[0m \u001b[0mcbook\u001b[0m\u001b[1;33m.\u001b[0m\u001b[0m_setattr_cm\u001b[0m\u001b[1;33m(\u001b[0m\u001b[0mself\u001b[0m\u001b[1;33m.\u001b[0m\u001b[0mfigure\u001b[0m\u001b[1;33m,\u001b[0m \u001b[0mdpi\u001b[0m\u001b[1;33m=\u001b[0m\u001b[0mdpi\u001b[0m\u001b[1;33m)\u001b[0m\u001b[1;33m:\u001b[0m\u001b[1;33m\u001b[0m\u001b[1;33m\u001b[0m\u001b[0m\n\u001b[1;32m--> 900\u001b[1;33m             \u001b[0mbbox\u001b[0m\u001b[1;33m,\u001b[0m \u001b[0minfo\u001b[0m\u001b[1;33m,\u001b[0m \u001b[0mdescent\u001b[0m \u001b[1;33m=\u001b[0m \u001b[0mself\u001b[0m\u001b[1;33m.\u001b[0m\u001b[0m_get_layout\u001b[0m\u001b[1;33m(\u001b[0m\u001b[0mself\u001b[0m\u001b[1;33m.\u001b[0m\u001b[0m_renderer\u001b[0m\u001b[1;33m)\u001b[0m\u001b[1;33m\u001b[0m\u001b[1;33m\u001b[0m\u001b[0m\n\u001b[0m\u001b[0;32m    901\u001b[0m             \u001b[0mx\u001b[0m\u001b[1;33m,\u001b[0m \u001b[0my\u001b[0m \u001b[1;33m=\u001b[0m \u001b[0mself\u001b[0m\u001b[1;33m.\u001b[0m\u001b[0mget_unitless_position\u001b[0m\u001b[1;33m(\u001b[0m\u001b[1;33m)\u001b[0m\u001b[1;33m\u001b[0m\u001b[1;33m\u001b[0m\u001b[0m\n\u001b[0;32m    902\u001b[0m             \u001b[0mx\u001b[0m\u001b[1;33m,\u001b[0m \u001b[0my\u001b[0m \u001b[1;33m=\u001b[0m \u001b[0mself\u001b[0m\u001b[1;33m.\u001b[0m\u001b[0mget_transform\u001b[0m\u001b[1;33m(\u001b[0m\u001b[1;33m)\u001b[0m\u001b[1;33m.\u001b[0m\u001b[0mtransform\u001b[0m\u001b[1;33m(\u001b[0m\u001b[1;33m(\u001b[0m\u001b[0mx\u001b[0m\u001b[1;33m,\u001b[0m \u001b[0my\u001b[0m\u001b[1;33m)\u001b[0m\u001b[1;33m)\u001b[0m\u001b[1;33m\u001b[0m\u001b[1;33m\u001b[0m\u001b[0m\n",
      "\u001b[1;32mC:\\ProgramData\\Anaconda3\\lib\\site-packages\\matplotlib\\text.py\u001b[0m in \u001b[0;36m_get_layout\u001b[1;34m(self, renderer)\u001b[0m\n\u001b[0;32m    291\u001b[0m             \u001b[0mclean_line\u001b[0m\u001b[1;33m,\u001b[0m \u001b[0mismath\u001b[0m \u001b[1;33m=\u001b[0m \u001b[0mself\u001b[0m\u001b[1;33m.\u001b[0m\u001b[0m_preprocess_math\u001b[0m\u001b[1;33m(\u001b[0m\u001b[0mline\u001b[0m\u001b[1;33m)\u001b[0m\u001b[1;33m\u001b[0m\u001b[1;33m\u001b[0m\u001b[0m\n\u001b[0;32m    292\u001b[0m             \u001b[1;32mif\u001b[0m \u001b[0mclean_line\u001b[0m\u001b[1;33m:\u001b[0m\u001b[1;33m\u001b[0m\u001b[1;33m\u001b[0m\u001b[0m\n\u001b[1;32m--> 293\u001b[1;33m                 w, h, d = renderer.get_text_width_height_descent(\n\u001b[0m\u001b[0;32m    294\u001b[0m                     clean_line, self._fontproperties, ismath=ismath)\n\u001b[0;32m    295\u001b[0m             \u001b[1;32melse\u001b[0m\u001b[1;33m:\u001b[0m\u001b[1;33m\u001b[0m\u001b[1;33m\u001b[0m\u001b[0m\n",
      "\u001b[1;32mC:\\ProgramData\\Anaconda3\\lib\\site-packages\\matplotlib\\backends\\backend_agg.py\u001b[0m in \u001b[0;36mget_text_width_height_descent\u001b[1;34m(self, s, prop, ismath)\u001b[0m\n\u001b[0;32m    235\u001b[0m \u001b[1;33m\u001b[0m\u001b[0m\n\u001b[0;32m    236\u001b[0m         \u001b[0mflags\u001b[0m \u001b[1;33m=\u001b[0m \u001b[0mget_hinting_flag\u001b[0m\u001b[1;33m(\u001b[0m\u001b[1;33m)\u001b[0m\u001b[1;33m\u001b[0m\u001b[1;33m\u001b[0m\u001b[0m\n\u001b[1;32m--> 237\u001b[1;33m         \u001b[0mfont\u001b[0m \u001b[1;33m=\u001b[0m \u001b[0mself\u001b[0m\u001b[1;33m.\u001b[0m\u001b[0m_get_agg_font\u001b[0m\u001b[1;33m(\u001b[0m\u001b[0mprop\u001b[0m\u001b[1;33m)\u001b[0m\u001b[1;33m\u001b[0m\u001b[1;33m\u001b[0m\u001b[0m\n\u001b[0m\u001b[0;32m    238\u001b[0m         \u001b[0mfont\u001b[0m\u001b[1;33m.\u001b[0m\u001b[0mset_text\u001b[0m\u001b[1;33m(\u001b[0m\u001b[0ms\u001b[0m\u001b[1;33m,\u001b[0m \u001b[1;36m0.0\u001b[0m\u001b[1;33m,\u001b[0m \u001b[0mflags\u001b[0m\u001b[1;33m=\u001b[0m\u001b[0mflags\u001b[0m\u001b[1;33m)\u001b[0m\u001b[1;33m\u001b[0m\u001b[1;33m\u001b[0m\u001b[0m\n\u001b[0;32m    239\u001b[0m         \u001b[0mw\u001b[0m\u001b[1;33m,\u001b[0m \u001b[0mh\u001b[0m \u001b[1;33m=\u001b[0m \u001b[0mfont\u001b[0m\u001b[1;33m.\u001b[0m\u001b[0mget_width_height\u001b[0m\u001b[1;33m(\u001b[0m\u001b[1;33m)\u001b[0m  \u001b[1;31m# width and height of unrotated string\u001b[0m\u001b[1;33m\u001b[0m\u001b[1;33m\u001b[0m\u001b[0m\n",
      "\u001b[1;32mC:\\ProgramData\\Anaconda3\\lib\\site-packages\\matplotlib\\backends\\backend_agg.py\u001b[0m in \u001b[0;36m_get_agg_font\u001b[1;34m(self, prop)\u001b[0m\n\u001b[0;32m    271\u001b[0m         \"\"\"\n\u001b[0;32m    272\u001b[0m         \u001b[0mfname\u001b[0m \u001b[1;33m=\u001b[0m \u001b[0mfindfont\u001b[0m\u001b[1;33m(\u001b[0m\u001b[0mprop\u001b[0m\u001b[1;33m)\u001b[0m\u001b[1;33m\u001b[0m\u001b[1;33m\u001b[0m\u001b[0m\n\u001b[1;32m--> 273\u001b[1;33m         \u001b[0mfont\u001b[0m \u001b[1;33m=\u001b[0m \u001b[0mget_font\u001b[0m\u001b[1;33m(\u001b[0m\u001b[0mfname\u001b[0m\u001b[1;33m)\u001b[0m\u001b[1;33m\u001b[0m\u001b[1;33m\u001b[0m\u001b[0m\n\u001b[0m\u001b[0;32m    274\u001b[0m \u001b[1;33m\u001b[0m\u001b[0m\n\u001b[0;32m    275\u001b[0m         \u001b[0mfont\u001b[0m\u001b[1;33m.\u001b[0m\u001b[0mclear\u001b[0m\u001b[1;33m(\u001b[0m\u001b[1;33m)\u001b[0m\u001b[1;33m\u001b[0m\u001b[1;33m\u001b[0m\u001b[0m\n",
      "\u001b[1;32mC:\\ProgramData\\Anaconda3\\lib\\site-packages\\matplotlib\\font_manager.py\u001b[0m in \u001b[0;36mget_font\u001b[1;34m(filename, hinting_factor)\u001b[0m\n\u001b[0;32m   1412\u001b[0m     \u001b[1;31m# Resolving the path avoids embedding the font twice in pdf/ps output if a\u001b[0m\u001b[1;33m\u001b[0m\u001b[1;33m\u001b[0m\u001b[1;33m\u001b[0m\u001b[0m\n\u001b[0;32m   1413\u001b[0m     \u001b[1;31m# single font is selected using two different relative paths.\u001b[0m\u001b[1;33m\u001b[0m\u001b[1;33m\u001b[0m\u001b[1;33m\u001b[0m\u001b[0m\n\u001b[1;32m-> 1414\u001b[1;33m     \u001b[0mfilename\u001b[0m \u001b[1;33m=\u001b[0m \u001b[0mos\u001b[0m\u001b[1;33m.\u001b[0m\u001b[0mpath\u001b[0m\u001b[1;33m.\u001b[0m\u001b[0mrealpath\u001b[0m\u001b[1;33m(\u001b[0m\u001b[0mfilename\u001b[0m\u001b[1;33m)\u001b[0m\u001b[1;33m\u001b[0m\u001b[1;33m\u001b[0m\u001b[0m\n\u001b[0m\u001b[0;32m   1415\u001b[0m     \u001b[1;32mif\u001b[0m \u001b[0mhinting_factor\u001b[0m \u001b[1;32mis\u001b[0m \u001b[1;32mNone\u001b[0m\u001b[1;33m:\u001b[0m\u001b[1;33m\u001b[0m\u001b[1;33m\u001b[0m\u001b[0m\n\u001b[0;32m   1416\u001b[0m         \u001b[0mhinting_factor\u001b[0m \u001b[1;33m=\u001b[0m \u001b[0mrcParams\u001b[0m\u001b[1;33m[\u001b[0m\u001b[1;34m'text.hinting_factor'\u001b[0m\u001b[1;33m]\u001b[0m\u001b[1;33m\u001b[0m\u001b[1;33m\u001b[0m\u001b[0m\n",
      "\u001b[1;32mC:\\ProgramData\\Anaconda3\\lib\\ntpath.py\u001b[0m in \u001b[0;36mrealpath\u001b[1;34m(path)\u001b[0m\n\u001b[0;32m    645\u001b[0m             \u001b[0mpath\u001b[0m \u001b[1;33m=\u001b[0m \u001b[0mjoin\u001b[0m\u001b[1;33m(\u001b[0m\u001b[0mcwd\u001b[0m\u001b[1;33m,\u001b[0m \u001b[0mpath\u001b[0m\u001b[1;33m)\u001b[0m\u001b[1;33m\u001b[0m\u001b[1;33m\u001b[0m\u001b[0m\n\u001b[0;32m    646\u001b[0m         \u001b[1;32mtry\u001b[0m\u001b[1;33m:\u001b[0m\u001b[1;33m\u001b[0m\u001b[1;33m\u001b[0m\u001b[0m\n\u001b[1;32m--> 647\u001b[1;33m             \u001b[0mpath\u001b[0m \u001b[1;33m=\u001b[0m \u001b[0m_getfinalpathname\u001b[0m\u001b[1;33m(\u001b[0m\u001b[0mpath\u001b[0m\u001b[1;33m)\u001b[0m\u001b[1;33m\u001b[0m\u001b[1;33m\u001b[0m\u001b[0m\n\u001b[0m\u001b[0;32m    648\u001b[0m             \u001b[0minitial_winerror\u001b[0m \u001b[1;33m=\u001b[0m \u001b[1;36m0\u001b[0m\u001b[1;33m\u001b[0m\u001b[1;33m\u001b[0m\u001b[0m\n\u001b[0;32m    649\u001b[0m         \u001b[1;32mexcept\u001b[0m \u001b[0mOSError\u001b[0m \u001b[1;32mas\u001b[0m \u001b[0mex\u001b[0m\u001b[1;33m:\u001b[0m\u001b[1;33m\u001b[0m\u001b[1;33m\u001b[0m\u001b[0m\n",
      "\u001b[1;31mKeyboardInterrupt\u001b[0m: "
     ]
    }
   ],
   "source": [
    "fig = plt.figure(figsize=(25,20))\n",
    "_ = tree.plot_tree(regr_3)"
   ]
  },
  {
   "cell_type": "code",
   "execution_count": 123,
   "metadata": {},
   "outputs": [
    {
     "ename": "FileNotFoundError",
     "evalue": "[WinError 2] The system cannot find the file specified",
     "output_type": "error",
     "traceback": [
      "\u001b[1;31m---------------------------------------------------------------------------\u001b[0m",
      "\u001b[1;31mFileNotFoundError\u001b[0m                         Traceback (most recent call last)",
      "\u001b[1;32m<ipython-input-123-77a8e4616986>\u001b[0m in \u001b[0;36m<module>\u001b[1;34m\u001b[0m\n\u001b[1;32m----> 1\u001b[1;33m \u001b[0mget_ipython\u001b[0m\u001b[1;33m(\u001b[0m\u001b[1;33m)\u001b[0m\u001b[1;33m.\u001b[0m\u001b[0msystem\u001b[0m\u001b[1;33m(\u001b[0m\u001b[1;34m'pip install graphviz'\u001b[0m\u001b[1;33m)\u001b[0m\u001b[1;33m\u001b[0m\u001b[1;33m\u001b[0m\u001b[0m\n\u001b[0m",
      "\u001b[1;32mC:\\ProgramData\\Anaconda3\\lib\\site-packages\\ipykernel\\zmqshell.py\u001b[0m in \u001b[0;36msystem_piped\u001b[1;34m(self, cmd)\u001b[0m\n\u001b[0;32m    631\u001b[0m                 \u001b[1;32mif\u001b[0m \u001b[0mpath\u001b[0m \u001b[1;32mis\u001b[0m \u001b[1;32mnot\u001b[0m \u001b[1;32mNone\u001b[0m\u001b[1;33m:\u001b[0m\u001b[1;33m\u001b[0m\u001b[1;33m\u001b[0m\u001b[0m\n\u001b[0;32m    632\u001b[0m                     \u001b[0mcmd\u001b[0m \u001b[1;33m=\u001b[0m \u001b[1;34m'pushd %s &&%s'\u001b[0m \u001b[1;33m%\u001b[0m \u001b[1;33m(\u001b[0m\u001b[0mpath\u001b[0m\u001b[1;33m,\u001b[0m \u001b[0mcmd\u001b[0m\u001b[1;33m)\u001b[0m\u001b[1;33m\u001b[0m\u001b[1;33m\u001b[0m\u001b[0m\n\u001b[1;32m--> 633\u001b[1;33m                 \u001b[0mself\u001b[0m\u001b[1;33m.\u001b[0m\u001b[0muser_ns\u001b[0m\u001b[1;33m[\u001b[0m\u001b[1;34m'_exit_code'\u001b[0m\u001b[1;33m]\u001b[0m \u001b[1;33m=\u001b[0m \u001b[0msystem\u001b[0m\u001b[1;33m(\u001b[0m\u001b[0mcmd\u001b[0m\u001b[1;33m)\u001b[0m\u001b[1;33m\u001b[0m\u001b[1;33m\u001b[0m\u001b[0m\n\u001b[0m\u001b[0;32m    634\u001b[0m         \u001b[1;32melse\u001b[0m\u001b[1;33m:\u001b[0m\u001b[1;33m\u001b[0m\u001b[1;33m\u001b[0m\u001b[0m\n\u001b[0;32m    635\u001b[0m             \u001b[0mself\u001b[0m\u001b[1;33m.\u001b[0m\u001b[0muser_ns\u001b[0m\u001b[1;33m[\u001b[0m\u001b[1;34m'_exit_code'\u001b[0m\u001b[1;33m]\u001b[0m \u001b[1;33m=\u001b[0m \u001b[0msystem\u001b[0m\u001b[1;33m(\u001b[0m\u001b[0mself\u001b[0m\u001b[1;33m.\u001b[0m\u001b[0mvar_expand\u001b[0m\u001b[1;33m(\u001b[0m\u001b[0mcmd\u001b[0m\u001b[1;33m,\u001b[0m \u001b[0mdepth\u001b[0m\u001b[1;33m=\u001b[0m\u001b[1;36m1\u001b[0m\u001b[1;33m)\u001b[0m\u001b[1;33m)\u001b[0m\u001b[1;33m\u001b[0m\u001b[1;33m\u001b[0m\u001b[0m\n",
      "\u001b[1;32mC:\\ProgramData\\Anaconda3\\lib\\site-packages\\IPython\\utils\\_process_win32.py\u001b[0m in \u001b[0;36msystem\u001b[1;34m(cmd)\u001b[0m\n\u001b[0;32m    143\u001b[0m         \u001b[1;32mif\u001b[0m \u001b[0mpath\u001b[0m \u001b[1;32mis\u001b[0m \u001b[1;32mnot\u001b[0m \u001b[1;32mNone\u001b[0m\u001b[1;33m:\u001b[0m\u001b[1;33m\u001b[0m\u001b[1;33m\u001b[0m\u001b[0m\n\u001b[0;32m    144\u001b[0m             \u001b[0mcmd\u001b[0m \u001b[1;33m=\u001b[0m \u001b[1;34m'\"pushd %s &&\"%s'\u001b[0m \u001b[1;33m%\u001b[0m \u001b[1;33m(\u001b[0m\u001b[0mpath\u001b[0m\u001b[1;33m,\u001b[0m \u001b[0mcmd\u001b[0m\u001b[1;33m)\u001b[0m\u001b[1;33m\u001b[0m\u001b[1;33m\u001b[0m\u001b[0m\n\u001b[1;32m--> 145\u001b[1;33m         \u001b[1;32mreturn\u001b[0m \u001b[0mprocess_handler\u001b[0m\u001b[1;33m(\u001b[0m\u001b[0mcmd\u001b[0m\u001b[1;33m,\u001b[0m \u001b[0m_system_body\u001b[0m\u001b[1;33m)\u001b[0m\u001b[1;33m\u001b[0m\u001b[1;33m\u001b[0m\u001b[0m\n\u001b[0m\u001b[0;32m    146\u001b[0m \u001b[1;33m\u001b[0m\u001b[0m\n\u001b[0;32m    147\u001b[0m \u001b[1;32mdef\u001b[0m \u001b[0mgetoutput\u001b[0m\u001b[1;33m(\u001b[0m\u001b[0mcmd\u001b[0m\u001b[1;33m)\u001b[0m\u001b[1;33m:\u001b[0m\u001b[1;33m\u001b[0m\u001b[1;33m\u001b[0m\u001b[0m\n",
      "\u001b[1;32mC:\\ProgramData\\Anaconda3\\lib\\site-packages\\IPython\\utils\\_process_common.py\u001b[0m in \u001b[0;36mprocess_handler\u001b[1;34m(cmd, callback, stderr)\u001b[0m\n\u001b[0;32m     77\u001b[0m     \u001b[1;32mif\u001b[0m \u001b[0mshell\u001b[0m \u001b[1;32mand\u001b[0m \u001b[0mos\u001b[0m\u001b[1;33m.\u001b[0m\u001b[0mname\u001b[0m \u001b[1;33m==\u001b[0m \u001b[1;34m'posix'\u001b[0m \u001b[1;32mand\u001b[0m \u001b[1;34m'SHELL'\u001b[0m \u001b[1;32min\u001b[0m \u001b[0mos\u001b[0m\u001b[1;33m.\u001b[0m\u001b[0menviron\u001b[0m\u001b[1;33m:\u001b[0m\u001b[1;33m\u001b[0m\u001b[1;33m\u001b[0m\u001b[0m\n\u001b[0;32m     78\u001b[0m         \u001b[0mexecutable\u001b[0m \u001b[1;33m=\u001b[0m \u001b[0mos\u001b[0m\u001b[1;33m.\u001b[0m\u001b[0menviron\u001b[0m\u001b[1;33m[\u001b[0m\u001b[1;34m'SHELL'\u001b[0m\u001b[1;33m]\u001b[0m\u001b[1;33m\u001b[0m\u001b[1;33m\u001b[0m\u001b[0m\n\u001b[1;32m---> 79\u001b[1;33m     p = subprocess.Popen(cmd, shell=shell,\n\u001b[0m\u001b[0;32m     80\u001b[0m                          \u001b[0mexecutable\u001b[0m\u001b[1;33m=\u001b[0m\u001b[0mexecutable\u001b[0m\u001b[1;33m,\u001b[0m\u001b[1;33m\u001b[0m\u001b[1;33m\u001b[0m\u001b[0m\n\u001b[0;32m     81\u001b[0m                          \u001b[0mstdin\u001b[0m\u001b[1;33m=\u001b[0m\u001b[0msubprocess\u001b[0m\u001b[1;33m.\u001b[0m\u001b[0mPIPE\u001b[0m\u001b[1;33m,\u001b[0m\u001b[1;33m\u001b[0m\u001b[1;33m\u001b[0m\u001b[0m\n",
      "\u001b[1;32mC:\\ProgramData\\Anaconda3\\lib\\subprocess.py\u001b[0m in \u001b[0;36m__init__\u001b[1;34m(self, args, bufsize, executable, stdin, stdout, stderr, preexec_fn, close_fds, shell, cwd, env, universal_newlines, startupinfo, creationflags, restore_signals, start_new_session, pass_fds, encoding, errors, text)\u001b[0m\n\u001b[0;32m    852\u001b[0m                             encoding=encoding, errors=errors)\n\u001b[0;32m    853\u001b[0m \u001b[1;33m\u001b[0m\u001b[0m\n\u001b[1;32m--> 854\u001b[1;33m             self._execute_child(args, executable, preexec_fn, close_fds,\n\u001b[0m\u001b[0;32m    855\u001b[0m                                 \u001b[0mpass_fds\u001b[0m\u001b[1;33m,\u001b[0m \u001b[0mcwd\u001b[0m\u001b[1;33m,\u001b[0m \u001b[0menv\u001b[0m\u001b[1;33m,\u001b[0m\u001b[1;33m\u001b[0m\u001b[1;33m\u001b[0m\u001b[0m\n\u001b[0;32m    856\u001b[0m                                 \u001b[0mstartupinfo\u001b[0m\u001b[1;33m,\u001b[0m \u001b[0mcreationflags\u001b[0m\u001b[1;33m,\u001b[0m \u001b[0mshell\u001b[0m\u001b[1;33m,\u001b[0m\u001b[1;33m\u001b[0m\u001b[1;33m\u001b[0m\u001b[0m\n",
      "\u001b[1;32mC:\\ProgramData\\Anaconda3\\lib\\subprocess.py\u001b[0m in \u001b[0;36m_execute_child\u001b[1;34m(self, args, executable, preexec_fn, close_fds, pass_fds, cwd, env, startupinfo, creationflags, shell, p2cread, p2cwrite, c2pread, c2pwrite, errread, errwrite, unused_restore_signals, unused_start_new_session)\u001b[0m\n\u001b[0;32m   1305\u001b[0m             \u001b[1;31m# Start the process\u001b[0m\u001b[1;33m\u001b[0m\u001b[1;33m\u001b[0m\u001b[1;33m\u001b[0m\u001b[0m\n\u001b[0;32m   1306\u001b[0m             \u001b[1;32mtry\u001b[0m\u001b[1;33m:\u001b[0m\u001b[1;33m\u001b[0m\u001b[1;33m\u001b[0m\u001b[0m\n\u001b[1;32m-> 1307\u001b[1;33m                 hp, ht, pid, tid = _winapi.CreateProcess(executable, args,\n\u001b[0m\u001b[0;32m   1308\u001b[0m                                          \u001b[1;31m# no special security\u001b[0m\u001b[1;33m\u001b[0m\u001b[1;33m\u001b[0m\u001b[1;33m\u001b[0m\u001b[0m\n\u001b[0;32m   1309\u001b[0m                                          \u001b[1;32mNone\u001b[0m\u001b[1;33m,\u001b[0m \u001b[1;32mNone\u001b[0m\u001b[1;33m,\u001b[0m\u001b[1;33m\u001b[0m\u001b[1;33m\u001b[0m\u001b[0m\n",
      "\u001b[1;31mFileNotFoundError\u001b[0m: [WinError 2] The system cannot find the file specified"
     ]
    }
   ],
   "source": []
  },
  {
   "cell_type": "code",
   "execution_count": 51,
   "metadata": {},
   "outputs": [
    {
     "ename": "ExecutableNotFound",
     "evalue": "failed to execute ['dot.bat', '-Kdot', '-Tsvg'], make sure the Graphviz executables are on your systems' PATH",
     "output_type": "error",
     "traceback": [
      "\u001b[1;31m---------------------------------------------------------------------------\u001b[0m",
      "\u001b[1;31mFileNotFoundError\u001b[0m                         Traceback (most recent call last)",
      "\u001b[1;32mC:\\ProgramData\\Anaconda3\\lib\\site-packages\\graphviz\\backend.py\u001b[0m in \u001b[0;36mrun\u001b[1;34m(cmd, input, capture_output, check, encoding, quiet, **kwargs)\u001b[0m\n\u001b[0;32m    165\u001b[0m     \u001b[1;32mtry\u001b[0m\u001b[1;33m:\u001b[0m\u001b[1;33m\u001b[0m\u001b[1;33m\u001b[0m\u001b[0m\n\u001b[1;32m--> 166\u001b[1;33m         \u001b[0mproc\u001b[0m \u001b[1;33m=\u001b[0m \u001b[0msubprocess\u001b[0m\u001b[1;33m.\u001b[0m\u001b[0mPopen\u001b[0m\u001b[1;33m(\u001b[0m\u001b[0mcmd\u001b[0m\u001b[1;33m,\u001b[0m \u001b[0mstartupinfo\u001b[0m\u001b[1;33m=\u001b[0m\u001b[0mget_startupinfo\u001b[0m\u001b[1;33m(\u001b[0m\u001b[1;33m)\u001b[0m\u001b[1;33m,\u001b[0m \u001b[1;33m**\u001b[0m\u001b[0mkwargs\u001b[0m\u001b[1;33m)\u001b[0m\u001b[1;33m\u001b[0m\u001b[1;33m\u001b[0m\u001b[0m\n\u001b[0m\u001b[0;32m    167\u001b[0m     \u001b[1;32mexcept\u001b[0m \u001b[0mOSError\u001b[0m \u001b[1;32mas\u001b[0m \u001b[0me\u001b[0m\u001b[1;33m:\u001b[0m\u001b[1;33m\u001b[0m\u001b[1;33m\u001b[0m\u001b[0m\n",
      "\u001b[1;32mC:\\ProgramData\\Anaconda3\\lib\\subprocess.py\u001b[0m in \u001b[0;36m__init__\u001b[1;34m(self, args, bufsize, executable, stdin, stdout, stderr, preexec_fn, close_fds, shell, cwd, env, universal_newlines, startupinfo, creationflags, restore_signals, start_new_session, pass_fds, encoding, errors, text)\u001b[0m\n\u001b[0;32m    853\u001b[0m \u001b[1;33m\u001b[0m\u001b[0m\n\u001b[1;32m--> 854\u001b[1;33m             self._execute_child(args, executable, preexec_fn, close_fds,\n\u001b[0m\u001b[0;32m    855\u001b[0m                                 \u001b[0mpass_fds\u001b[0m\u001b[1;33m,\u001b[0m \u001b[0mcwd\u001b[0m\u001b[1;33m,\u001b[0m \u001b[0menv\u001b[0m\u001b[1;33m,\u001b[0m\u001b[1;33m\u001b[0m\u001b[1;33m\u001b[0m\u001b[0m\n",
      "\u001b[1;32mC:\\ProgramData\\Anaconda3\\lib\\subprocess.py\u001b[0m in \u001b[0;36m_execute_child\u001b[1;34m(self, args, executable, preexec_fn, close_fds, pass_fds, cwd, env, startupinfo, creationflags, shell, p2cread, p2cwrite, c2pread, c2pwrite, errread, errwrite, unused_restore_signals, unused_start_new_session)\u001b[0m\n\u001b[0;32m   1306\u001b[0m             \u001b[1;32mtry\u001b[0m\u001b[1;33m:\u001b[0m\u001b[1;33m\u001b[0m\u001b[1;33m\u001b[0m\u001b[0m\n\u001b[1;32m-> 1307\u001b[1;33m                 hp, ht, pid, tid = _winapi.CreateProcess(executable, args,\n\u001b[0m\u001b[0;32m   1308\u001b[0m                                          \u001b[1;31m# no special security\u001b[0m\u001b[1;33m\u001b[0m\u001b[1;33m\u001b[0m\u001b[1;33m\u001b[0m\u001b[0m\n",
      "\u001b[1;31mFileNotFoundError\u001b[0m: [WinError 2] The system cannot find the file specified",
      "\nDuring handling of the above exception, another exception occurred:\n",
      "\u001b[1;31mExecutableNotFound\u001b[0m                        Traceback (most recent call last)",
      "\u001b[1;32mC:\\ProgramData\\Anaconda3\\lib\\site-packages\\IPython\\core\\formatters.py\u001b[0m in \u001b[0;36m__call__\u001b[1;34m(self, obj)\u001b[0m\n\u001b[0;32m    343\u001b[0m             \u001b[0mmethod\u001b[0m \u001b[1;33m=\u001b[0m \u001b[0mget_real_method\u001b[0m\u001b[1;33m(\u001b[0m\u001b[0mobj\u001b[0m\u001b[1;33m,\u001b[0m \u001b[0mself\u001b[0m\u001b[1;33m.\u001b[0m\u001b[0mprint_method\u001b[0m\u001b[1;33m)\u001b[0m\u001b[1;33m\u001b[0m\u001b[1;33m\u001b[0m\u001b[0m\n\u001b[0;32m    344\u001b[0m             \u001b[1;32mif\u001b[0m \u001b[0mmethod\u001b[0m \u001b[1;32mis\u001b[0m \u001b[1;32mnot\u001b[0m \u001b[1;32mNone\u001b[0m\u001b[1;33m:\u001b[0m\u001b[1;33m\u001b[0m\u001b[1;33m\u001b[0m\u001b[0m\n\u001b[1;32m--> 345\u001b[1;33m                 \u001b[1;32mreturn\u001b[0m \u001b[0mmethod\u001b[0m\u001b[1;33m(\u001b[0m\u001b[1;33m)\u001b[0m\u001b[1;33m\u001b[0m\u001b[1;33m\u001b[0m\u001b[0m\n\u001b[0m\u001b[0;32m    346\u001b[0m             \u001b[1;32mreturn\u001b[0m \u001b[1;32mNone\u001b[0m\u001b[1;33m\u001b[0m\u001b[1;33m\u001b[0m\u001b[0m\n\u001b[0;32m    347\u001b[0m         \u001b[1;32melse\u001b[0m\u001b[1;33m:\u001b[0m\u001b[1;33m\u001b[0m\u001b[1;33m\u001b[0m\u001b[0m\n",
      "\u001b[1;32mC:\\ProgramData\\Anaconda3\\lib\\site-packages\\graphviz\\files.py\u001b[0m in \u001b[0;36m_repr_svg_\u001b[1;34m(self)\u001b[0m\n\u001b[0;32m    142\u001b[0m \u001b[1;33m\u001b[0m\u001b[0m\n\u001b[0;32m    143\u001b[0m     \u001b[1;32mdef\u001b[0m \u001b[0m_repr_svg_\u001b[0m\u001b[1;33m(\u001b[0m\u001b[0mself\u001b[0m\u001b[1;33m)\u001b[0m\u001b[1;33m:\u001b[0m\u001b[1;33m\u001b[0m\u001b[1;33m\u001b[0m\u001b[0m\n\u001b[1;32m--> 144\u001b[1;33m         \u001b[1;32mreturn\u001b[0m \u001b[0mself\u001b[0m\u001b[1;33m.\u001b[0m\u001b[0mpipe\u001b[0m\u001b[1;33m(\u001b[0m\u001b[0mformat\u001b[0m\u001b[1;33m=\u001b[0m\u001b[1;34m'svg'\u001b[0m\u001b[1;33m)\u001b[0m\u001b[1;33m.\u001b[0m\u001b[0mdecode\u001b[0m\u001b[1;33m(\u001b[0m\u001b[0mself\u001b[0m\u001b[1;33m.\u001b[0m\u001b[0m_encoding\u001b[0m\u001b[1;33m)\u001b[0m\u001b[1;33m\u001b[0m\u001b[1;33m\u001b[0m\u001b[0m\n\u001b[0m\u001b[0;32m    145\u001b[0m \u001b[1;33m\u001b[0m\u001b[0m\n\u001b[0;32m    146\u001b[0m     \u001b[1;32mdef\u001b[0m \u001b[0mpipe\u001b[0m\u001b[1;33m(\u001b[0m\u001b[0mself\u001b[0m\u001b[1;33m,\u001b[0m \u001b[0mformat\u001b[0m\u001b[1;33m=\u001b[0m\u001b[1;32mNone\u001b[0m\u001b[1;33m,\u001b[0m \u001b[0mrenderer\u001b[0m\u001b[1;33m=\u001b[0m\u001b[1;32mNone\u001b[0m\u001b[1;33m,\u001b[0m \u001b[0mformatter\u001b[0m\u001b[1;33m=\u001b[0m\u001b[1;32mNone\u001b[0m\u001b[1;33m,\u001b[0m \u001b[0mquiet\u001b[0m\u001b[1;33m=\u001b[0m\u001b[1;32mFalse\u001b[0m\u001b[1;33m)\u001b[0m\u001b[1;33m:\u001b[0m\u001b[1;33m\u001b[0m\u001b[1;33m\u001b[0m\u001b[0m\n",
      "\u001b[1;32mC:\\ProgramData\\Anaconda3\\lib\\site-packages\\graphviz\\files.py\u001b[0m in \u001b[0;36mpipe\u001b[1;34m(self, format, renderer, formatter, quiet)\u001b[0m\n\u001b[0;32m    167\u001b[0m         \u001b[0mdata\u001b[0m \u001b[1;33m=\u001b[0m \u001b[0mtext_type\u001b[0m\u001b[1;33m(\u001b[0m\u001b[0mself\u001b[0m\u001b[1;33m.\u001b[0m\u001b[0msource\u001b[0m\u001b[1;33m)\u001b[0m\u001b[1;33m.\u001b[0m\u001b[0mencode\u001b[0m\u001b[1;33m(\u001b[0m\u001b[0mself\u001b[0m\u001b[1;33m.\u001b[0m\u001b[0m_encoding\u001b[0m\u001b[1;33m)\u001b[0m\u001b[1;33m\u001b[0m\u001b[1;33m\u001b[0m\u001b[0m\n\u001b[0;32m    168\u001b[0m \u001b[1;33m\u001b[0m\u001b[0m\n\u001b[1;32m--> 169\u001b[1;33m         out = backend.pipe(self._engine, format, data,\n\u001b[0m\u001b[0;32m    170\u001b[0m                            \u001b[0mrenderer\u001b[0m\u001b[1;33m=\u001b[0m\u001b[0mrenderer\u001b[0m\u001b[1;33m,\u001b[0m \u001b[0mformatter\u001b[0m\u001b[1;33m=\u001b[0m\u001b[0mformatter\u001b[0m\u001b[1;33m,\u001b[0m\u001b[1;33m\u001b[0m\u001b[1;33m\u001b[0m\u001b[0m\n\u001b[0;32m    171\u001b[0m                            quiet=quiet)\n",
      "\u001b[1;32mC:\\ProgramData\\Anaconda3\\lib\\site-packages\\graphviz\\backend.py\u001b[0m in \u001b[0;36mpipe\u001b[1;34m(engine, format, data, renderer, formatter, quiet)\u001b[0m\n\u001b[0;32m    248\u001b[0m     \"\"\"\n\u001b[0;32m    249\u001b[0m     \u001b[0mcmd\u001b[0m\u001b[1;33m,\u001b[0m \u001b[0m_\u001b[0m \u001b[1;33m=\u001b[0m \u001b[0mcommand\u001b[0m\u001b[1;33m(\u001b[0m\u001b[0mengine\u001b[0m\u001b[1;33m,\u001b[0m \u001b[0mformat\u001b[0m\u001b[1;33m,\u001b[0m \u001b[1;32mNone\u001b[0m\u001b[1;33m,\u001b[0m \u001b[0mrenderer\u001b[0m\u001b[1;33m,\u001b[0m \u001b[0mformatter\u001b[0m\u001b[1;33m)\u001b[0m\u001b[1;33m\u001b[0m\u001b[1;33m\u001b[0m\u001b[0m\n\u001b[1;32m--> 250\u001b[1;33m     \u001b[0mout\u001b[0m\u001b[1;33m,\u001b[0m \u001b[0m_\u001b[0m \u001b[1;33m=\u001b[0m \u001b[0mrun\u001b[0m\u001b[1;33m(\u001b[0m\u001b[0mcmd\u001b[0m\u001b[1;33m,\u001b[0m \u001b[0minput\u001b[0m\u001b[1;33m=\u001b[0m\u001b[0mdata\u001b[0m\u001b[1;33m,\u001b[0m \u001b[0mcapture_output\u001b[0m\u001b[1;33m=\u001b[0m\u001b[1;32mTrue\u001b[0m\u001b[1;33m,\u001b[0m \u001b[0mcheck\u001b[0m\u001b[1;33m=\u001b[0m\u001b[1;32mTrue\u001b[0m\u001b[1;33m,\u001b[0m \u001b[0mquiet\u001b[0m\u001b[1;33m=\u001b[0m\u001b[0mquiet\u001b[0m\u001b[1;33m)\u001b[0m\u001b[1;33m\u001b[0m\u001b[1;33m\u001b[0m\u001b[0m\n\u001b[0m\u001b[0;32m    251\u001b[0m     \u001b[1;32mreturn\u001b[0m \u001b[0mout\u001b[0m\u001b[1;33m\u001b[0m\u001b[1;33m\u001b[0m\u001b[0m\n\u001b[0;32m    252\u001b[0m \u001b[1;33m\u001b[0m\u001b[0m\n",
      "\u001b[1;32mC:\\ProgramData\\Anaconda3\\lib\\site-packages\\graphviz\\backend.py\u001b[0m in \u001b[0;36mrun\u001b[1;34m(cmd, input, capture_output, check, encoding, quiet, **kwargs)\u001b[0m\n\u001b[0;32m    167\u001b[0m     \u001b[1;32mexcept\u001b[0m \u001b[0mOSError\u001b[0m \u001b[1;32mas\u001b[0m \u001b[0me\u001b[0m\u001b[1;33m:\u001b[0m\u001b[1;33m\u001b[0m\u001b[1;33m\u001b[0m\u001b[0m\n\u001b[0;32m    168\u001b[0m         \u001b[1;32mif\u001b[0m \u001b[0me\u001b[0m\u001b[1;33m.\u001b[0m\u001b[0merrno\u001b[0m \u001b[1;33m==\u001b[0m \u001b[0merrno\u001b[0m\u001b[1;33m.\u001b[0m\u001b[0mENOENT\u001b[0m\u001b[1;33m:\u001b[0m\u001b[1;33m\u001b[0m\u001b[1;33m\u001b[0m\u001b[0m\n\u001b[1;32m--> 169\u001b[1;33m             \u001b[1;32mraise\u001b[0m \u001b[0mExecutableNotFound\u001b[0m\u001b[1;33m(\u001b[0m\u001b[0mcmd\u001b[0m\u001b[1;33m)\u001b[0m\u001b[1;33m\u001b[0m\u001b[1;33m\u001b[0m\u001b[0m\n\u001b[0m\u001b[0;32m    170\u001b[0m         \u001b[1;32melse\u001b[0m\u001b[1;33m:\u001b[0m\u001b[1;33m\u001b[0m\u001b[1;33m\u001b[0m\u001b[0m\n\u001b[0;32m    171\u001b[0m             \u001b[1;32mraise\u001b[0m\u001b[1;33m\u001b[0m\u001b[1;33m\u001b[0m\u001b[0m\n",
      "\u001b[1;31mExecutableNotFound\u001b[0m: failed to execute ['dot.bat', '-Kdot', '-Tsvg'], make sure the Graphviz executables are on your systems' PATH"
     ]
    },
    {
     "data": {
      "text/plain": [
       "<graphviz.files.Source at 0x4546cf64c0>"
      ]
     },
     "execution_count": 51,
     "metadata": {},
     "output_type": "execute_result"
    }
   ],
   "source": [
    "import graphviz\n",
    "dot_data = tree.export_graphviz(regr_3, out_file=None, \n",
    "                                filled=True)\n",
    "graphviz.Source(dot_data, format=\"png\") "
   ]
  },
  {
   "cell_type": "markdown",
   "metadata": {},
   "source": [
    "# 3. Random Forest "
   ]
  },
  {
   "cell_type": "code",
   "execution_count": null,
   "metadata": {},
   "outputs": [],
   "source": [
    "from sklearn.ensemble import RandomForestRegressor"
   ]
  },
  {
   "cell_type": "code",
   "execution_count": null,
   "metadata": {},
   "outputs": [],
   "source": [
    "#Multioutput regressor with random forest\n",
    "max_depth = 30\n",
    "Model3 =MultiOutputRegressor(RandomForestRegressor(n_estimators=100,max_depth=max_depth,random_state=100))"
   ]
  },
  {
   "cell_type": "code",
   "execution_count": null,
   "metadata": {},
   "outputs": [],
   "source": [
    "Model3.fit(X1_train,y1_train)"
   ]
  },
  {
   "cell_type": "code",
   "execution_count": null,
   "metadata": {},
   "outputs": [],
   "source": [
    "Model3.score(X1_train,y1_train)"
   ]
  },
  {
   "cell_type": "code",
   "execution_count": null,
   "metadata": {},
   "outputs": [],
   "source": [
    "Model3.score(X1_test,y1_test)"
   ]
  },
  {
   "cell_type": "code",
   "execution_count": null,
   "metadata": {},
   "outputs": [],
   "source": [
    "#Only Random forest regressor\n",
    "Model3_2=RandomForestRegressor(n_estimators=100,max_depth=max_depth,random_state=100)\n",
    "Model3_2.fit(X1_train,y1_train)"
   ]
  },
  {
   "cell_type": "code",
   "execution_count": null,
   "metadata": {},
   "outputs": [],
   "source": [
    "Model3_2.score(X1_train,y1_train)"
   ]
  },
  {
   "cell_type": "code",
   "execution_count": null,
   "metadata": {},
   "outputs": [],
   "source": [
    "Model3_2.score(X1_test,y1_test)"
   ]
  },
  {
   "cell_type": "code",
   "execution_count": null,
   "metadata": {},
   "outputs": [],
   "source": [
    "#Using chained multioutput regressor\n",
    "from sklearn.multioutput import RegressorChain"
   ]
  },
  {
   "cell_type": "code",
   "execution_count": null,
   "metadata": {},
   "outputs": [],
   "source": [
    "#Modelwith Regressorchain\n",
    "Model3_3 =RegressorChain(RandomForestRegressor(n_estimators=10,max_depth=max_depth,random_state=100))"
   ]
  },
  {
   "cell_type": "code",
   "execution_count": null,
   "metadata": {},
   "outputs": [],
   "source": []
  },
  {
   "cell_type": "code",
   "execution_count": null,
   "metadata": {},
   "outputs": [],
   "source": []
  },
  {
   "cell_type": "code",
   "execution_count": null,
   "metadata": {},
   "outputs": [],
   "source": [
    "Model3_3.fit(X1_train,y1_train)"
   ]
  },
  {
   "cell_type": "code",
   "execution_count": null,
   "metadata": {},
   "outputs": [],
   "source": [
    "Model3_2.score(X1_train,y1_train)"
   ]
  },
  {
   "cell_type": "code",
   "execution_count": null,
   "metadata": {},
   "outputs": [],
   "source": [
    "Model3_2.score(X1_test,y1_test)"
   ]
  },
  {
   "cell_type": "markdown",
   "metadata": {},
   "source": [
    "# 4. SVM"
   ]
  },
  {
   "cell_type": "markdown",
   "metadata": {},
   "source": [
    "from sklearn.svm import LinearSVR"
   ]
  },
  {
   "cell_type": "markdown",
   "metadata": {},
   "source": [
    "#Using Direct-svr\n",
    "svr = LinearSVR()"
   ]
  },
  {
   "cell_type": "markdown",
   "metadata": {},
   "source": [
    "Model4_1 = MultiOutputRegressor(svr)"
   ]
  },
  {
   "cell_type": "markdown",
   "metadata": {},
   "source": [
    "Model4_1.fit(X1_train,y1_train)"
   ]
  },
  {
   "cell_type": "markdown",
   "metadata": {},
   "source": [
    "Model4_1.score(X1_train,y1_train)"
   ]
  },
  {
   "cell_type": "markdown",
   "metadata": {},
   "source": [
    "Model4_1.score(X1_test,y1_test)"
   ]
  },
  {
   "cell_type": "markdown",
   "metadata": {},
   "source": []
  },
  {
   "cell_type": "markdown",
   "metadata": {},
   "source": [
    "Model4_2=RegressorChain(svr)"
   ]
  },
  {
   "cell_type": "markdown",
   "metadata": {},
   "source": [
    "Model4_2.fit(X1_train,y1_train)"
   ]
  },
  {
   "cell_type": "markdown",
   "metadata": {},
   "source": [
    "Model4_2.score(X1_train,y1_train)"
   ]
  },
  {
   "cell_type": "markdown",
   "metadata": {},
   "source": [
    "Model4_2.score(X1_test,y1_test)"
   ]
  },
  {
   "cell_type": "markdown",
   "metadata": {},
   "source": [
    "# 5.NN"
   ]
  },
  {
   "cell_type": "markdown",
   "metadata": {},
   "source": [
    "from keras.models import Sequential\n",
    "from keras.layers import Dense"
   ]
  },
  {
   "cell_type": "code",
   "execution_count": null,
   "metadata": {},
   "outputs": [],
   "source": [
    "model5 = Sequential()\n",
    "model5.add(Dense(20, input_dim=6, kernel_initializer='he_uniform', activation='relu'))\n",
    "model5.add(Dense(883, kernel_initializer='he_uniform'))\n",
    "model5.compile(loss='mae', optimizer='adam')\n"
   ]
  },
  {
   "cell_type": "markdown",
   "metadata": {},
   "source": [
    "model5.fit(X1_train,y1_train,verbose=0,epochs=10)"
   ]
  },
  {
   "cell_type": "markdown",
   "metadata": {},
   "source": [
    "accuracy_train=model5.evaluate(X1_train,y1_train,verbose=1)"
   ]
  },
  {
   "cell_type": "markdown",
   "metadata": {},
   "source": [
    "accuracy_train"
   ]
  },
  {
   "cell_type": "markdown",
   "metadata": {},
   "source": [
    "accuracy_test=model5.evaluate(X1_test,y1_test,verbose=1)"
   ]
  },
  {
   "cell_type": "markdown",
   "metadata": {},
   "source": [
    "accuracy_test"
   ]
  },
  {
   "cell_type": "markdown",
   "metadata": {},
   "source": [
    "# 5. XGBoost"
   ]
  },
  {
   "cell_type": "code",
   "execution_count": 2,
   "metadata": {},
   "outputs": [],
   "source": [
    "import xgboost as xgb"
   ]
  },
  {
   "cell_type": "code",
   "execution_count": 19,
   "metadata": {},
   "outputs": [],
   "source": [
    "Model5_XGB = MultiOutputRegressor(xgb.XGBRegressor(objective='reg:squarederror')).fit(X1_train,y1_train)\n",
    "check=Model5_XGB.predict(X1_test)\n"
   ]
  },
  {
   "cell_type": "code",
   "execution_count": 20,
   "metadata": {},
   "outputs": [
    {
     "data": {
      "text/plain": [
       "0.964840338105513"
      ]
     },
     "execution_count": 20,
     "metadata": {},
     "output_type": "execute_result"
    }
   ],
   "source": [
    "Model5_XGB.score(X1_train,y1_train)"
   ]
  },
  {
   "cell_type": "code",
   "execution_count": 21,
   "metadata": {},
   "outputs": [
    {
     "data": {
      "text/plain": [
       "0.9480584112126245"
      ]
     },
     "execution_count": 21,
     "metadata": {},
     "output_type": "execute_result"
    }
   ],
   "source": [
    "Model5_XGB.score(X1_test,y1_test)"
   ]
  },
  {
   "cell_type": "code",
   "execution_count": 43,
   "metadata": {},
   "outputs": [],
   "source": [
    "ex=[[100,15,7.5,29.3,86.8,100]]"
   ]
  },
  {
   "cell_type": "code",
   "execution_count": 44,
   "metadata": {},
   "outputs": [],
   "source": [
    "results=Model5_XGB.predict(ex)"
   ]
  },
  {
   "cell_type": "code",
   "execution_count": 45,
   "metadata": {},
   "outputs": [],
   "source": [
    "results_df=pd.DataFrame({'Pressure':results[0]})"
   ]
  },
  {
   "cell_type": "code",
   "execution_count": 46,
   "metadata": {},
   "outputs": [
    {
     "data": {
      "text/html": [
       "<div>\n",
       "<style scoped>\n",
       "    .dataframe tbody tr th:only-of-type {\n",
       "        vertical-align: middle;\n",
       "    }\n",
       "\n",
       "    .dataframe tbody tr th {\n",
       "        vertical-align: top;\n",
       "    }\n",
       "\n",
       "    .dataframe thead th {\n",
       "        text-align: right;\n",
       "    }\n",
       "</style>\n",
       "<table border=\"1\" class=\"dataframe\">\n",
       "  <thead>\n",
       "    <tr style=\"text-align: right;\">\n",
       "      <th></th>\n",
       "      <th>Pressure</th>\n",
       "    </tr>\n",
       "  </thead>\n",
       "  <tbody>\n",
       "    <tr>\n",
       "      <th>0</th>\n",
       "      <td>5.618273</td>\n",
       "    </tr>\n",
       "    <tr>\n",
       "      <th>1</th>\n",
       "      <td>4.624279</td>\n",
       "    </tr>\n",
       "    <tr>\n",
       "      <th>2</th>\n",
       "      <td>4.838673</td>\n",
       "    </tr>\n",
       "    <tr>\n",
       "      <th>3</th>\n",
       "      <td>5.221402</td>\n",
       "    </tr>\n",
       "    <tr>\n",
       "      <th>4</th>\n",
       "      <td>5.552591</td>\n",
       "    </tr>\n",
       "    <tr>\n",
       "      <th>...</th>\n",
       "      <td>...</td>\n",
       "    </tr>\n",
       "    <tr>\n",
       "      <th>878</th>\n",
       "      <td>3.348536</td>\n",
       "    </tr>\n",
       "    <tr>\n",
       "      <th>879</th>\n",
       "      <td>3.413240</td>\n",
       "    </tr>\n",
       "    <tr>\n",
       "      <th>880</th>\n",
       "      <td>3.431081</td>\n",
       "    </tr>\n",
       "    <tr>\n",
       "      <th>881</th>\n",
       "      <td>3.427281</td>\n",
       "    </tr>\n",
       "    <tr>\n",
       "      <th>882</th>\n",
       "      <td>3.593616</td>\n",
       "    </tr>\n",
       "  </tbody>\n",
       "</table>\n",
       "<p>883 rows × 1 columns</p>\n",
       "</div>"
      ],
      "text/plain": [
       "     Pressure\n",
       "0    5.618273\n",
       "1    4.624279\n",
       "2    4.838673\n",
       "3    5.221402\n",
       "4    5.552591\n",
       "..        ...\n",
       "878  3.348536\n",
       "879  3.413240\n",
       "880  3.431081\n",
       "881  3.427281\n",
       "882  3.593616\n",
       "\n",
       "[883 rows x 1 columns]"
      ]
     },
     "execution_count": 46,
     "metadata": {},
     "output_type": "execute_result"
    }
   ],
   "source": [
    "results_df"
   ]
  },
  {
   "cell_type": "code",
   "execution_count": 47,
   "metadata": {},
   "outputs": [],
   "source": [
    "results_df[\"X_cord\"]=cordinates['X_cord']\n",
    "results_df[\"Y_Cord\"]=cordinates['Y_cord']"
   ]
  },
  {
   "cell_type": "code",
   "execution_count": 48,
   "metadata": {},
   "outputs": [
    {
     "data": {
      "text/html": [
       "<div>\n",
       "<style scoped>\n",
       "    .dataframe tbody tr th:only-of-type {\n",
       "        vertical-align: middle;\n",
       "    }\n",
       "\n",
       "    .dataframe tbody tr th {\n",
       "        vertical-align: top;\n",
       "    }\n",
       "\n",
       "    .dataframe thead th {\n",
       "        text-align: right;\n",
       "    }\n",
       "</style>\n",
       "<table border=\"1\" class=\"dataframe\">\n",
       "  <thead>\n",
       "    <tr style=\"text-align: right;\">\n",
       "      <th></th>\n",
       "      <th>Pressure</th>\n",
       "      <th>X_cord</th>\n",
       "      <th>Y_Cord</th>\n",
       "    </tr>\n",
       "  </thead>\n",
       "  <tbody>\n",
       "    <tr>\n",
       "      <th>0</th>\n",
       "      <td>5.618273</td>\n",
       "      <td>-107.801324</td>\n",
       "      <td>43.512964</td>\n",
       "    </tr>\n",
       "    <tr>\n",
       "      <th>1</th>\n",
       "      <td>4.624279</td>\n",
       "      <td>-107.807905</td>\n",
       "      <td>41.704291</td>\n",
       "    </tr>\n",
       "    <tr>\n",
       "      <th>2</th>\n",
       "      <td>4.838673</td>\n",
       "      <td>-107.814486</td>\n",
       "      <td>39.895618</td>\n",
       "    </tr>\n",
       "    <tr>\n",
       "      <th>3</th>\n",
       "      <td>5.221402</td>\n",
       "      <td>-107.821066</td>\n",
       "      <td>38.086945</td>\n",
       "    </tr>\n",
       "    <tr>\n",
       "      <th>4</th>\n",
       "      <td>5.552591</td>\n",
       "      <td>-106.336625</td>\n",
       "      <td>33.807946</td>\n",
       "    </tr>\n",
       "    <tr>\n",
       "      <th>...</th>\n",
       "      <td>...</td>\n",
       "      <td>...</td>\n",
       "      <td>...</td>\n",
       "    </tr>\n",
       "    <tr>\n",
       "      <th>878</th>\n",
       "      <td>3.348536</td>\n",
       "      <td>-128.043958</td>\n",
       "      <td>33.383452</td>\n",
       "    </tr>\n",
       "    <tr>\n",
       "      <th>879</th>\n",
       "      <td>3.413240</td>\n",
       "      <td>-128.051373</td>\n",
       "      <td>31.345483</td>\n",
       "    </tr>\n",
       "    <tr>\n",
       "      <th>880</th>\n",
       "      <td>3.431081</td>\n",
       "      <td>-128.058787</td>\n",
       "      <td>29.307514</td>\n",
       "    </tr>\n",
       "    <tr>\n",
       "      <th>881</th>\n",
       "      <td>3.427281</td>\n",
       "      <td>-128.066202</td>\n",
       "      <td>27.269545</td>\n",
       "    </tr>\n",
       "    <tr>\n",
       "      <th>882</th>\n",
       "      <td>3.593616</td>\n",
       "      <td>-127.311481</td>\n",
       "      <td>28.565846</td>\n",
       "    </tr>\n",
       "  </tbody>\n",
       "</table>\n",
       "<p>883 rows × 3 columns</p>\n",
       "</div>"
      ],
      "text/plain": [
       "     Pressure      X_cord     Y_Cord\n",
       "0    5.618273 -107.801324  43.512964\n",
       "1    4.624279 -107.807905  41.704291\n",
       "2    4.838673 -107.814486  39.895618\n",
       "3    5.221402 -107.821066  38.086945\n",
       "4    5.552591 -106.336625  33.807946\n",
       "..        ...         ...        ...\n",
       "878  3.348536 -128.043958  33.383452\n",
       "879  3.413240 -128.051373  31.345483\n",
       "880  3.431081 -128.058787  29.307514\n",
       "881  3.427281 -128.066202  27.269545\n",
       "882  3.593616 -127.311481  28.565846\n",
       "\n",
       "[883 rows x 3 columns]"
      ]
     },
     "execution_count": 48,
     "metadata": {},
     "output_type": "execute_result"
    }
   ],
   "source": [
    "results_df"
   ]
  },
  {
   "cell_type": "code",
   "execution_count": 49,
   "metadata": {},
   "outputs": [],
   "source": [
    "x= results_df[\"X_cord\"]\n",
    "y = results_df[\"Y_Cord\"]\n",
    "z=results_df[\"Pressure\"]"
   ]
  },
  {
   "cell_type": "markdown",
   "metadata": {},
   "source": [
    "import plotly.graph_objects as go\n",
    "fig = go.Figure(go.Histogram2dContour(\n",
    "        x = X,\n",
    "        y = Y,\n",
    "        z=Z,\n",
    "        colorscale = 'Jet',\n",
    "       contours = dict( showlabels = True,labelfont = dict(family = 'Raleway', color = 'white'))\n",
    "        )\n",
    "\n",
    ")\n",
    "\n",
    "fig.show()\n"
   ]
  },
  {
   "cell_type": "code",
   "execution_count": 51,
   "metadata": {},
   "outputs": [
    {
     "name": "stderr",
     "output_type": "stream",
     "text": [
      "C:\\ProgramData\\Anaconda3\\lib\\site-packages\\seaborn\\_decorators.py:36: FutureWarning:\n",
      "\n",
      "Pass the following variables as keyword args: x, y. From version 0.12, the only valid positional argument will be `data`, and passing other arguments without an explicit keyword will result in an error or misinterpretation.\n",
      "\n"
     ]
    },
    {
     "data": {
      "text/plain": [
       "<AxesSubplot:xlabel='X_cord', ylabel='Y_Cord'>"
      ]
     },
     "execution_count": 51,
     "metadata": {},
     "output_type": "execute_result"
    },
    {
     "data": {
      "image/png": "[encoded data removed]",
      "text/plain": [
       "<Figure size 432x288 with 1 Axes>"
      ]
     },
     "metadata": {
      "needs_background": "light"
     },
     "output_type": "display_data"
    }
   ],
   "source": [
    "sns.scatterplot(x,y,hue=results_df[\"Pressure\"])"
   ]
  },
  {
   "cell_type": "code",
   "execution_count": 69,
   "metadata": {
    "scrolled": false
   },
   "outputs": [
    {
     "data": {
      "image/png": "[encoded data removed]",
      "text/plain": [
       "<Figure size 1040x400 with 2 Axes>"
      ]
     },
     "metadata": {},
     "output_type": "display_data"
    }
   ],
   "source": [
    "from scipy.interpolate import griddata\n",
    "def plot_contour(x,y,z,resolution = 500,contour_method='linear'):\n",
    "    resolution = str(resolution)+'j'\n",
    "    X,Y = np.mgrid[min(x):max(x):complex(resolution),   min(y):max(y):complex(resolution)]\n",
    "    points = [[a,b] for a,b in zip(x,y)]\n",
    "    Z = griddata(points, z, (X, Y), method=contour_method)\n",
    "    return X,Y,Z\n",
    "\n",
    "X,Y,Z = plot_contour(x,y,z,resolution = 500,contour_method='linear')\n",
    "\n",
    "with plt.style.context(\"classic\"):\n",
    "    \n",
    "    fig, ax = plt.subplots(figsize=(13,5))\n",
    "    #ax.scatter(x,y, color=\"black\", linewidth=1, edgecolor=\"blue\")\n",
    "    \n",
    "    plt.colorbar(ax.contourf(X,Y,Z),shrink=0.7)\n",
    "    ax.xaxis.set_visible(False)\n",
    "    ax.yaxis.set_visible(False)\n",
    "    #cbar = plt.colorbar(cs)"
   ]
  },
  {
   "cell_type": "code",
   "execution_count": 32,
   "metadata": {},
   "outputs": [
    {
     "data": {
      "text/plain": [
       "['Solarize_Light2',\n",
       " '_classic_test_patch',\n",
       " 'bmh',\n",
       " 'classic',\n",
       " 'dark_background',\n",
       " 'fast',\n",
       " 'fivethirtyeight',\n",
       " 'ggplot',\n",
       " 'grayscale',\n",
       " 'seaborn',\n",
       " 'seaborn-bright',\n",
       " 'seaborn-colorblind',\n",
       " 'seaborn-dark',\n",
       " 'seaborn-dark-palette',\n",
       " 'seaborn-darkgrid',\n",
       " 'seaborn-deep',\n",
       " 'seaborn-muted',\n",
       " 'seaborn-notebook',\n",
       " 'seaborn-paper',\n",
       " 'seaborn-pastel',\n",
       " 'seaborn-poster',\n",
       " 'seaborn-talk',\n",
       " 'seaborn-ticks',\n",
       " 'seaborn-white',\n",
       " 'seaborn-whitegrid',\n",
       " 'tableau-colorblind10']"
      ]
     },
     "execution_count": 32,
     "metadata": {},
     "output_type": "execute_result"
    }
   ],
   "source": [
    "plt.style.available"
   ]
  },
  {
   "cell_type": "code",
   "execution_count": null,
   "metadata": {},
   "outputs": [],
   "source": [
    "import shap\n",
    "\n",
    "explainer = shap.TreeExplainer(model)\n",
    "shap_values = explainer.shap_values(X)"
   ]
  },
  {
   "cell_type": "code",
   "execution_count": null,
   "metadata": {},
   "outputs": [],
   "source": []
  },
  {
   "cell_type": "code",
   "execution_count": null,
   "metadata": {},
   "outputs": [],
   "source": []
  },
  {
   "cell_type": "code",
   "execution_count": null,
   "metadata": {},
   "outputs": [],
   "source": []
  },
  {
   "cell_type": "code",
   "execution_count": null,
   "metadata": {},
   "outputs": [],
   "source": []
  },
  {
   "cell_type": "code",
   "execution_count": null,
   "metadata": {},
   "outputs": [],
   "source": []
  },
  {
   "cell_type": "markdown",
   "metadata": {},
   "source": [
    "Model5_XGB2 = RegressorChain(xgb.XGBRegressor(objective='reg:squarederror')).fit(X1_train,y1_train)\n",
    "#check=Model5_XGB2.predict(X1_test)\n"
   ]
  },
  {
   "cell_type": "markdown",
   "metadata": {},
   "source": [
    "Model5_XGB2.score(X1_train,y1_train)"
   ]
  },
  {
   "cell_type": "markdown",
   "metadata": {},
   "source": [
    "Model5_XGB2.score(X1_test,y1_test)"
   ]
  },
  {
   "cell_type": "code",
   "execution_count": null,
   "metadata": {},
   "outputs": [],
   "source": []
  }
 ],
 "metadata": {
  "kernelspec": {
   "display_name": "Python 3",
   "language": "python",
   "name": "python3"
  },
  "language_info": {
   "codemirror_mode": {
    "name": "ipython",
    "version": 3
   },
   "file_extension": ".py",
   "mimetype": "text/x-python",
   "name": "python",
   "nbconvert_exporter": "python",
   "pygments_lexer": "ipython3",
   "version": "3.8.5"
  }
 },
 "nbformat": 4,
 "nbformat_minor": 4
}
